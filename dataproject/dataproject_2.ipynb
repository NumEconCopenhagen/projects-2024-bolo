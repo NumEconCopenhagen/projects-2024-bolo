{
 "cells": [
  {
   "cell_type": "markdown",
   "metadata": {},
   "source": [
    "# YOUR PROJECT TITLE"
   ]
  },
  {
   "attachments": {},
   "cell_type": "markdown",
   "metadata": {},
   "source": [
    "> **Note the following:** \n",
    "> 1. This is *not* meant to be an example of an actual **data analysis project**, just an example of how to structure such a project.\n",
    "> 1. Remember the general advice on structuring and commenting your code\n",
    "> 1. The `dataproject.py` file includes a function which can be used multiple times in this notebook."
   ]
  },
  {
   "cell_type": "markdown",
   "metadata": {},
   "source": [
    "Imports and set magics:"
   ]
  },
  {
   "cell_type": "code",
   "execution_count": 190,
   "metadata": {},
   "outputs": [
    {
     "name": "stdout",
     "output_type": "stream",
     "text": [
      "The autoreload extension is already loaded. To reload it, use:\n",
      "  %reload_ext autoreload\n"
     ]
    }
   ],
   "source": [
    "import pandas as pd\n",
    "import numpy as np\n",
    "import matplotlib.pyplot as plt\n",
    "import ipywidgets as widgets\n",
    "from matplotlib_venn import venn2\n",
    "import plotly.graph_objects as go\n",
    "import glob\n",
    "# autoreload modules when code is run\n",
    "%load_ext autoreload\n",
    "%autoreload 2\n",
    "# user written modules\n",
    "import dataproject\n",
    "from pandas_datareader import wb\n",
    "import seaborn as sns\n",
    "import folium \n",
    "import mapclassify"
   ]
  },
  {
   "cell_type": "markdown",
   "metadata": {},
   "source": [
    "# Read and clean data"
   ]
  },
  {
   "cell_type": "markdown",
   "metadata": {},
   "source": [
    "Import your data, either through an API or manually, and load it. "
   ]
  },
  {
   "cell_type": "code",
   "execution_count": 191,
   "metadata": {},
   "outputs": [],
   "source": [
    "data = pd.read_csv('Population estimates 1992-2001.csv')\n",
    "data = pd.merge(data, pd.read_csv('Population estimates 2002-2019.csv'), how='outer',validate='one_to_one')"
   ]
  },
  {
   "cell_type": "code",
   "execution_count": 192,
   "metadata": {},
   "outputs": [
    {
     "data": {
      "text/html": [
       "<div>\n",
       "<style scoped>\n",
       "    .dataframe tbody tr th:only-of-type {\n",
       "        vertical-align: middle;\n",
       "    }\n",
       "\n",
       "    .dataframe tbody tr th {\n",
       "        vertical-align: top;\n",
       "    }\n",
       "\n",
       "    .dataframe thead th {\n",
       "        text-align: right;\n",
       "    }\n",
       "</style>\n",
       "<table border=\"1\" class=\"dataframe\">\n",
       "  <thead>\n",
       "    <tr style=\"text-align: right;\">\n",
       "      <th></th>\n",
       "      <th>Age</th>\n",
       "      <th>Sex</th>\n",
       "      <th>1992</th>\n",
       "      <th>1993</th>\n",
       "      <th>1994</th>\n",
       "      <th>1995</th>\n",
       "      <th>1996</th>\n",
       "      <th>1997</th>\n",
       "      <th>1998</th>\n",
       "      <th>1999</th>\n",
       "      <th>...</th>\n",
       "      <th>2010</th>\n",
       "      <th>2011</th>\n",
       "      <th>2012</th>\n",
       "      <th>2013</th>\n",
       "      <th>2014</th>\n",
       "      <th>2015</th>\n",
       "      <th>2016</th>\n",
       "      <th>2017</th>\n",
       "      <th>2018</th>\n",
       "      <th>2019</th>\n",
       "    </tr>\n",
       "  </thead>\n",
       "  <tbody>\n",
       "    <tr>\n",
       "      <th>0</th>\n",
       "      <td>0</td>\n",
       "      <td>Males</td>\n",
       "      <td>262256</td>\n",
       "      <td>293100</td>\n",
       "      <td>281875</td>\n",
       "      <td>274171</td>\n",
       "      <td>269122</td>\n",
       "      <td>273472</td>\n",
       "      <td>273404</td>\n",
       "      <td>270959</td>\n",
       "      <td>...</td>\n",
       "      <td>289377</td>\n",
       "      <td>284926</td>\n",
       "      <td>276371</td>\n",
       "      <td>274396</td>\n",
       "      <td>263091</td>\n",
       "      <td>257024</td>\n",
       "      <td>248474</td>\n",
       "      <td>241228</td>\n",
       "      <td>234151</td>\n",
       "      <td>221685</td>\n",
       "    </tr>\n",
       "    <tr>\n",
       "      <th>1</th>\n",
       "      <td>0</td>\n",
       "      <td>Females</td>\n",
       "      <td>248552</td>\n",
       "      <td>277354</td>\n",
       "      <td>266660</td>\n",
       "      <td>258677</td>\n",
       "      <td>253857</td>\n",
       "      <td>258096</td>\n",
       "      <td>258674</td>\n",
       "      <td>255666</td>\n",
       "      <td>...</td>\n",
       "      <td>272945</td>\n",
       "      <td>268292</td>\n",
       "      <td>260976</td>\n",
       "      <td>259651</td>\n",
       "      <td>249049</td>\n",
       "      <td>242916</td>\n",
       "      <td>234503</td>\n",
       "      <td>228728</td>\n",
       "      <td>220915</td>\n",
       "      <td>209322</td>\n",
       "    </tr>\n",
       "    <tr>\n",
       "      <th>2</th>\n",
       "      <td>0</td>\n",
       "      <td>Total</td>\n",
       "      <td>510808</td>\n",
       "      <td>570454</td>\n",
       "      <td>548535</td>\n",
       "      <td>532848</td>\n",
       "      <td>522979</td>\n",
       "      <td>531568</td>\n",
       "      <td>532078</td>\n",
       "      <td>526625</td>\n",
       "      <td>...</td>\n",
       "      <td>562322</td>\n",
       "      <td>553218</td>\n",
       "      <td>537347</td>\n",
       "      <td>534047</td>\n",
       "      <td>512140</td>\n",
       "      <td>499940</td>\n",
       "      <td>482977</td>\n",
       "      <td>469956</td>\n",
       "      <td>455066</td>\n",
       "      <td>431007</td>\n",
       "    </tr>\n",
       "    <tr>\n",
       "      <th>3</th>\n",
       "      <td>1</td>\n",
       "      <td>Males</td>\n",
       "      <td>267914</td>\n",
       "      <td>264589</td>\n",
       "      <td>292378</td>\n",
       "      <td>280911</td>\n",
       "      <td>273119</td>\n",
       "      <td>268728</td>\n",
       "      <td>271549</td>\n",
       "      <td>270301</td>\n",
       "      <td>...</td>\n",
       "      <td>292642</td>\n",
       "      <td>288996</td>\n",
       "      <td>284199</td>\n",
       "      <td>277263</td>\n",
       "      <td>274308</td>\n",
       "      <td>262728</td>\n",
       "      <td>256954</td>\n",
       "      <td>248341</td>\n",
       "      <td>241422</td>\n",
       "      <td>234386</td>\n",
       "    </tr>\n",
       "    <tr>\n",
       "      <th>4</th>\n",
       "      <td>1</td>\n",
       "      <td>Females</td>\n",
       "      <td>255186</td>\n",
       "      <td>251203</td>\n",
       "      <td>276723</td>\n",
       "      <td>265953</td>\n",
       "      <td>258026</td>\n",
       "      <td>253591</td>\n",
       "      <td>256424</td>\n",
       "      <td>255967</td>\n",
       "      <td>...</td>\n",
       "      <td>277321</td>\n",
       "      <td>272698</td>\n",
       "      <td>267521</td>\n",
       "      <td>261900</td>\n",
       "      <td>259608</td>\n",
       "      <td>248720</td>\n",
       "      <td>242753</td>\n",
       "      <td>234634</td>\n",
       "      <td>228990</td>\n",
       "      <td>221360</td>\n",
       "    </tr>\n",
       "  </tbody>\n",
       "</table>\n",
       "<p>5 rows × 30 columns</p>\n",
       "</div>"
      ],
      "text/plain": [
       "  Age      Sex    1992    1993    1994    1995    1996    1997    1998  \\\n",
       "0   0    Males  262256  293100  281875  274171  269122  273472  273404   \n",
       "1   0  Females  248552  277354  266660  258677  253857  258096  258674   \n",
       "2   0    Total  510808  570454  548535  532848  522979  531568  532078   \n",
       "3   1    Males  267914  264589  292378  280911  273119  268728  271549   \n",
       "4   1  Females  255186  251203  276723  265953  258026  253591  256424   \n",
       "\n",
       "     1999  ...    2010    2011    2012    2013    2014    2015    2016  \\\n",
       "0  270959  ...  289377  284926  276371  274396  263091  257024  248474   \n",
       "1  255666  ...  272945  268292  260976  259651  249049  242916  234503   \n",
       "2  526625  ...  562322  553218  537347  534047  512140  499940  482977   \n",
       "3  270301  ...  292642  288996  284199  277263  274308  262728  256954   \n",
       "4  255967  ...  277321  272698  267521  261900  259608  248720  242753   \n",
       "\n",
       "     2017    2018    2019  \n",
       "0  241228  234151  221685  \n",
       "1  228728  220915  209322  \n",
       "2  469956  455066  431007  \n",
       "3  248341  241422  234386  \n",
       "4  234634  228990  221360  \n",
       "\n",
       "[5 rows x 30 columns]"
      ]
     },
     "execution_count": 192,
     "metadata": {},
     "output_type": "execute_result"
    }
   ],
   "source": [
    "data.head()"
   ]
  },
  {
   "cell_type": "code",
   "execution_count": 193,
   "metadata": {},
   "outputs": [
    {
     "data": {
      "text/html": [
       "<div>\n",
       "<style scoped>\n",
       "    .dataframe tbody tr th:only-of-type {\n",
       "        vertical-align: middle;\n",
       "    }\n",
       "\n",
       "    .dataframe tbody tr th {\n",
       "        vertical-align: top;\n",
       "    }\n",
       "\n",
       "    .dataframe thead th {\n",
       "        text-align: right;\n",
       "    }\n",
       "</style>\n",
       "<table border=\"1\" class=\"dataframe\">\n",
       "  <thead>\n",
       "    <tr style=\"text-align: right;\">\n",
       "      <th></th>\n",
       "      <th>Age</th>\n",
       "      <th>Sex</th>\n",
       "      <th>pop1992</th>\n",
       "      <th>pop1993</th>\n",
       "      <th>pop1994</th>\n",
       "      <th>pop1995</th>\n",
       "      <th>pop1996</th>\n",
       "      <th>pop1997</th>\n",
       "      <th>pop1998</th>\n",
       "      <th>pop1999</th>\n",
       "      <th>...</th>\n",
       "      <th>pop2010</th>\n",
       "      <th>pop2011</th>\n",
       "      <th>pop2012</th>\n",
       "      <th>pop2013</th>\n",
       "      <th>pop2014</th>\n",
       "      <th>pop2015</th>\n",
       "      <th>pop2016</th>\n",
       "      <th>pop2017</th>\n",
       "      <th>pop2018</th>\n",
       "      <th>pop2019</th>\n",
       "    </tr>\n",
       "  </thead>\n",
       "  <tbody>\n",
       "    <tr>\n",
       "      <th>0</th>\n",
       "      <td>0</td>\n",
       "      <td>Males</td>\n",
       "      <td>262256</td>\n",
       "      <td>293100</td>\n",
       "      <td>281875</td>\n",
       "      <td>274171</td>\n",
       "      <td>269122</td>\n",
       "      <td>273472</td>\n",
       "      <td>273404</td>\n",
       "      <td>270959</td>\n",
       "      <td>...</td>\n",
       "      <td>289377</td>\n",
       "      <td>284926</td>\n",
       "      <td>276371</td>\n",
       "      <td>274396</td>\n",
       "      <td>263091</td>\n",
       "      <td>257024</td>\n",
       "      <td>248474</td>\n",
       "      <td>241228</td>\n",
       "      <td>234151</td>\n",
       "      <td>221685</td>\n",
       "    </tr>\n",
       "    <tr>\n",
       "      <th>1</th>\n",
       "      <td>0</td>\n",
       "      <td>Females</td>\n",
       "      <td>248552</td>\n",
       "      <td>277354</td>\n",
       "      <td>266660</td>\n",
       "      <td>258677</td>\n",
       "      <td>253857</td>\n",
       "      <td>258096</td>\n",
       "      <td>258674</td>\n",
       "      <td>255666</td>\n",
       "      <td>...</td>\n",
       "      <td>272945</td>\n",
       "      <td>268292</td>\n",
       "      <td>260976</td>\n",
       "      <td>259651</td>\n",
       "      <td>249049</td>\n",
       "      <td>242916</td>\n",
       "      <td>234503</td>\n",
       "      <td>228728</td>\n",
       "      <td>220915</td>\n",
       "      <td>209322</td>\n",
       "    </tr>\n",
       "    <tr>\n",
       "      <th>2</th>\n",
       "      <td>0</td>\n",
       "      <td>Total</td>\n",
       "      <td>510808</td>\n",
       "      <td>570454</td>\n",
       "      <td>548535</td>\n",
       "      <td>532848</td>\n",
       "      <td>522979</td>\n",
       "      <td>531568</td>\n",
       "      <td>532078</td>\n",
       "      <td>526625</td>\n",
       "      <td>...</td>\n",
       "      <td>562322</td>\n",
       "      <td>553218</td>\n",
       "      <td>537347</td>\n",
       "      <td>534047</td>\n",
       "      <td>512140</td>\n",
       "      <td>499940</td>\n",
       "      <td>482977</td>\n",
       "      <td>469956</td>\n",
       "      <td>455066</td>\n",
       "      <td>431007</td>\n",
       "    </tr>\n",
       "    <tr>\n",
       "      <th>3</th>\n",
       "      <td>1</td>\n",
       "      <td>Males</td>\n",
       "      <td>267914</td>\n",
       "      <td>264589</td>\n",
       "      <td>292378</td>\n",
       "      <td>280911</td>\n",
       "      <td>273119</td>\n",
       "      <td>268728</td>\n",
       "      <td>271549</td>\n",
       "      <td>270301</td>\n",
       "      <td>...</td>\n",
       "      <td>292642</td>\n",
       "      <td>288996</td>\n",
       "      <td>284199</td>\n",
       "      <td>277263</td>\n",
       "      <td>274308</td>\n",
       "      <td>262728</td>\n",
       "      <td>256954</td>\n",
       "      <td>248341</td>\n",
       "      <td>241422</td>\n",
       "      <td>234386</td>\n",
       "    </tr>\n",
       "    <tr>\n",
       "      <th>4</th>\n",
       "      <td>1</td>\n",
       "      <td>Females</td>\n",
       "      <td>255186</td>\n",
       "      <td>251203</td>\n",
       "      <td>276723</td>\n",
       "      <td>265953</td>\n",
       "      <td>258026</td>\n",
       "      <td>253591</td>\n",
       "      <td>256424</td>\n",
       "      <td>255967</td>\n",
       "      <td>...</td>\n",
       "      <td>277321</td>\n",
       "      <td>272698</td>\n",
       "      <td>267521</td>\n",
       "      <td>261900</td>\n",
       "      <td>259608</td>\n",
       "      <td>248720</td>\n",
       "      <td>242753</td>\n",
       "      <td>234634</td>\n",
       "      <td>228990</td>\n",
       "      <td>221360</td>\n",
       "    </tr>\n",
       "  </tbody>\n",
       "</table>\n",
       "<p>5 rows × 30 columns</p>\n",
       "</div>"
      ],
      "text/plain": [
       "  Age      Sex  pop1992  pop1993  pop1994  pop1995  pop1996  pop1997  pop1998  \\\n",
       "0   0    Males   262256   293100   281875   274171   269122   273472   273404   \n",
       "1   0  Females   248552   277354   266660   258677   253857   258096   258674   \n",
       "2   0    Total   510808   570454   548535   532848   522979   531568   532078   \n",
       "3   1    Males   267914   264589   292378   280911   273119   268728   271549   \n",
       "4   1  Females   255186   251203   276723   265953   258026   253591   256424   \n",
       "\n",
       "   pop1999  ...  pop2010  pop2011  pop2012  pop2013  pop2014  pop2015  \\\n",
       "0   270959  ...   289377   284926   276371   274396   263091   257024   \n",
       "1   255666  ...   272945   268292   260976   259651   249049   242916   \n",
       "2   526625  ...   562322   553218   537347   534047   512140   499940   \n",
       "3   270301  ...   292642   288996   284199   277263   274308   262728   \n",
       "4   255967  ...   277321   272698   267521   261900   259608   248720   \n",
       "\n",
       "   pop2016  pop2017  pop2018  pop2019  \n",
       "0   248474   241228   234151   221685  \n",
       "1   234503   228728   220915   209322  \n",
       "2   482977   469956   455066   431007  \n",
       "3   256954   248341   241422   234386  \n",
       "4   242753   234634   228990   221360  \n",
       "\n",
       "[5 rows x 30 columns]"
      ]
     },
     "execution_count": 193,
     "metadata": {},
     "output_type": "execute_result"
    }
   ],
   "source": [
    "#rename variables to be more informative and easier to work with\n",
    "col_dict = {}\n",
    "for i in range(1992, 2019+1):\n",
    "    col_dict[str(i)] = f'pop{i}'\n",
    "\n",
    "col_dict = {str(i) : f'pop{i}' for i in range(1992, 2019+1)}\n",
    "\n",
    "data.rename(columns = col_dict, inplace=True)\n",
    "data.head()"
   ]
  },
  {
   "cell_type": "code",
   "execution_count": 194,
   "metadata": {},
   "outputs": [
    {
     "data": {
      "text/html": [
       "<div>\n",
       "<style scoped>\n",
       "    .dataframe tbody tr th:only-of-type {\n",
       "        vertical-align: middle;\n",
       "    }\n",
       "\n",
       "    .dataframe tbody tr th {\n",
       "        vertical-align: top;\n",
       "    }\n",
       "\n",
       "    .dataframe thead th {\n",
       "        text-align: right;\n",
       "    }\n",
       "</style>\n",
       "<table border=\"1\" class=\"dataframe\">\n",
       "  <thead>\n",
       "    <tr style=\"text-align: right;\">\n",
       "      <th></th>\n",
       "      <th>Age</th>\n",
       "      <th>Sex</th>\n",
       "      <th>year</th>\n",
       "      <th>pop</th>\n",
       "    </tr>\n",
       "  </thead>\n",
       "  <tbody>\n",
       "    <tr>\n",
       "      <th>0</th>\n",
       "      <td>0</td>\n",
       "      <td>Males</td>\n",
       "      <td>1992</td>\n",
       "      <td>262256</td>\n",
       "    </tr>\n",
       "    <tr>\n",
       "      <th>1</th>\n",
       "      <td>0</td>\n",
       "      <td>Males</td>\n",
       "      <td>1993</td>\n",
       "      <td>293100</td>\n",
       "    </tr>\n",
       "    <tr>\n",
       "      <th>2</th>\n",
       "      <td>0</td>\n",
       "      <td>Males</td>\n",
       "      <td>1994</td>\n",
       "      <td>281875</td>\n",
       "    </tr>\n",
       "    <tr>\n",
       "      <th>3</th>\n",
       "      <td>0</td>\n",
       "      <td>Males</td>\n",
       "      <td>1995</td>\n",
       "      <td>274171</td>\n",
       "    </tr>\n",
       "    <tr>\n",
       "      <th>4</th>\n",
       "      <td>0</td>\n",
       "      <td>Males</td>\n",
       "      <td>1996</td>\n",
       "      <td>269122</td>\n",
       "    </tr>\n",
       "    <tr>\n",
       "      <th>5</th>\n",
       "      <td>0</td>\n",
       "      <td>Males</td>\n",
       "      <td>1997</td>\n",
       "      <td>273472</td>\n",
       "    </tr>\n",
       "    <tr>\n",
       "      <th>6</th>\n",
       "      <td>0</td>\n",
       "      <td>Males</td>\n",
       "      <td>1998</td>\n",
       "      <td>273404</td>\n",
       "    </tr>\n",
       "    <tr>\n",
       "      <th>7</th>\n",
       "      <td>0</td>\n",
       "      <td>Males</td>\n",
       "      <td>1999</td>\n",
       "      <td>270959</td>\n",
       "    </tr>\n",
       "    <tr>\n",
       "      <th>8</th>\n",
       "      <td>0</td>\n",
       "      <td>Males</td>\n",
       "      <td>2000</td>\n",
       "      <td>272792</td>\n",
       "    </tr>\n",
       "    <tr>\n",
       "      <th>9</th>\n",
       "      <td>0</td>\n",
       "      <td>Males</td>\n",
       "      <td>2001</td>\n",
       "      <td>274518</td>\n",
       "    </tr>\n",
       "  </tbody>\n",
       "</table>\n",
       "</div>"
      ],
      "text/plain": [
       "  Age    Sex  year     pop\n",
       "0   0  Males  1992  262256\n",
       "1   0  Males  1993  293100\n",
       "2   0  Males  1994  281875\n",
       "3   0  Males  1995  274171\n",
       "4   0  Males  1996  269122\n",
       "5   0  Males  1997  273472\n",
       "6   0  Males  1998  273404\n",
       "7   0  Males  1999  270959\n",
       "8   0  Males  2000  272792\n",
       "9   0  Males  2001  274518"
      ]
     },
     "execution_count": 194,
     "metadata": {},
     "output_type": "execute_result"
    }
   ],
   "source": [
    "#reshape data from wide to long format\n",
    "pop_italy = pd.wide_to_long(data, stubnames='pop', i=['Age','Sex'], j='year')\n",
    "pop_italy = pop_italy.reset_index()\n",
    "pop_italy.head(10)"
   ]
  },
  {
   "cell_type": "code",
   "execution_count": 195,
   "metadata": {},
   "outputs": [
    {
     "data": {
      "text/html": [
       "<div>\n",
       "<style scoped>\n",
       "    .dataframe tbody tr th:only-of-type {\n",
       "        vertical-align: middle;\n",
       "    }\n",
       "\n",
       "    .dataframe tbody tr th {\n",
       "        vertical-align: top;\n",
       "    }\n",
       "\n",
       "    .dataframe thead th {\n",
       "        text-align: right;\n",
       "    }\n",
       "</style>\n",
       "<table border=\"1\" class=\"dataframe\">\n",
       "  <thead>\n",
       "    <tr style=\"text-align: right;\">\n",
       "      <th></th>\n",
       "      <th>year</th>\n",
       "      <th>Age</th>\n",
       "      <th>Females</th>\n",
       "      <th>Males</th>\n",
       "      <th>Total</th>\n",
       "    </tr>\n",
       "  </thead>\n",
       "  <tbody>\n",
       "    <tr>\n",
       "      <th>0</th>\n",
       "      <td>1992</td>\n",
       "      <td>0</td>\n",
       "      <td>248552</td>\n",
       "      <td>262256</td>\n",
       "      <td>510808</td>\n",
       "    </tr>\n",
       "    <tr>\n",
       "      <th>1</th>\n",
       "      <td>1992</td>\n",
       "      <td>1</td>\n",
       "      <td>255186</td>\n",
       "      <td>267914</td>\n",
       "      <td>523100</td>\n",
       "    </tr>\n",
       "    <tr>\n",
       "      <th>2</th>\n",
       "      <td>1992</td>\n",
       "      <td>10</td>\n",
       "      <td>300206</td>\n",
       "      <td>313202</td>\n",
       "      <td>613408</td>\n",
       "    </tr>\n",
       "    <tr>\n",
       "      <th>3</th>\n",
       "      <td>1992</td>\n",
       "      <td>100 and over</td>\n",
       "      <td>2229</td>\n",
       "      <td>623</td>\n",
       "      <td>2852</td>\n",
       "    </tr>\n",
       "    <tr>\n",
       "      <th>4</th>\n",
       "      <td>1992</td>\n",
       "      <td>11</td>\n",
       "      <td>305720</td>\n",
       "      <td>319714</td>\n",
       "      <td>625434</td>\n",
       "    </tr>\n",
       "    <tr>\n",
       "      <th>5</th>\n",
       "      <td>1992</td>\n",
       "      <td>12</td>\n",
       "      <td>318337</td>\n",
       "      <td>332506</td>\n",
       "      <td>650843</td>\n",
       "    </tr>\n",
       "    <tr>\n",
       "      <th>6</th>\n",
       "      <td>1992</td>\n",
       "      <td>13</td>\n",
       "      <td>340988</td>\n",
       "      <td>355326</td>\n",
       "      <td>696314</td>\n",
       "    </tr>\n",
       "    <tr>\n",
       "      <th>7</th>\n",
       "      <td>1992</td>\n",
       "      <td>14</td>\n",
       "      <td>356648</td>\n",
       "      <td>370807</td>\n",
       "      <td>727455</td>\n",
       "    </tr>\n",
       "    <tr>\n",
       "      <th>8</th>\n",
       "      <td>1992</td>\n",
       "      <td>15</td>\n",
       "      <td>377406</td>\n",
       "      <td>392536</td>\n",
       "      <td>769942</td>\n",
       "    </tr>\n",
       "    <tr>\n",
       "      <th>9</th>\n",
       "      <td>1992</td>\n",
       "      <td>16</td>\n",
       "      <td>401499</td>\n",
       "      <td>416912</td>\n",
       "      <td>818411</td>\n",
       "    </tr>\n",
       "  </tbody>\n",
       "</table>\n",
       "</div>"
      ],
      "text/plain": [
       "   year           Age  Females   Males   Total\n",
       "0  1992             0   248552  262256  510808\n",
       "1  1992             1   255186  267914  523100\n",
       "2  1992            10   300206  313202  613408\n",
       "3  1992  100 and over     2229     623    2852\n",
       "4  1992            11   305720  319714  625434\n",
       "5  1992            12   318337  332506  650843\n",
       "6  1992            13   340988  355326  696314\n",
       "7  1992            14   356648  370807  727455\n",
       "8  1992            15   377406  392536  769942\n",
       "9  1992            16   401499  416912  818411"
      ]
     },
     "execution_count": 195,
     "metadata": {},
     "output_type": "execute_result"
    }
   ],
   "source": [
    "# Let's reshape the data to wide format again\n",
    "pop_italy_wide = pop_italy.pivot(index=['year','Age'], columns='Sex', values='pop')\n",
    "pop_italy_wide.sort_values(['year','Age'], inplace=True)\n",
    "pop_italy_wide.reset_index(inplace=True)\n",
    "pop_italy_wide.columns.name = None\n",
    "pop_italy_wide.head(10)"
   ]
  },
  {
   "cell_type": "code",
   "execution_count": 196,
   "metadata": {},
   "outputs": [],
   "source": [
    "#let's now add year equal to 2020 and 2021\n",
    "data_2020 = pd.read_csv('Resident_population_2020.csv')\n",
    "data_2020['year'] = 2020\n",
    "data_2021 = pd.read_csv('Resident_population_2021.csv')\n",
    "data_2021['year'] = 2021\n",
    "\n",
    "data_new = pd.concat([data_2020, data_2021], ignore_index=True)\n",
    "\n",
    "#rename variables in order to have the same names of the other dataset with which I have to append\n",
    "data_new.rename(columns = {'Total males' : 'Males', 'Total females': 'Females'}, inplace=True)\n",
    "\n"
   ]
  },
  {
   "cell_type": "code",
   "execution_count": 197,
   "metadata": {},
   "outputs": [],
   "source": [
    "#creating a dataset that contains the population from 1991 to 2021\n",
    "pop_italy = pd.concat([pop_italy_wide, data_new], ignore_index=True)"
   ]
  },
  {
   "cell_type": "code",
   "execution_count": 198,
   "metadata": {},
   "outputs": [
    {
     "name": "stdout",
     "output_type": "stream",
     "text": [
      "<class 'pandas.core.frame.DataFrame'>\n",
      "RangeIndex: 3060 entries, 0 to 3059\n",
      "Data columns (total 5 columns):\n",
      " #   Column   Non-Null Count  Dtype \n",
      "---  ------   --------------  ----- \n",
      " 0   year     3060 non-null   int64 \n",
      " 1   Age      3060 non-null   object\n",
      " 2   Females  3060 non-null   int64 \n",
      " 3   Males    3060 non-null   int64 \n",
      " 4   Total    3060 non-null   int64 \n",
      "dtypes: int64(4), object(1)\n",
      "memory usage: 119.7+ KB\n"
     ]
    }
   ],
   "source": [
    "#as we can see the column age is not in the right format. We need to change it to int but we have to deal with  '100 and other' and 'Total' observations \n",
    "pop_italy.info()\n",
    "\n",
    "#we can drop the observation relative to the total  \n",
    "pop_italy = pop_italy[pop_italy['Age'] != 'Total']\n",
    "\n",
    "#Since 100 or other will be included in the same group of 100. we replace  '100 and other' with 100\n",
    "pop_italy['Age'] = pop_italy['Age'].replace('100 and over', '100')\n",
    "\n",
    "#Now we can change the column to int\n",
    "pop_italy['Age'] = pop_italy['Age'].astype(int)\n",
    "\n",
    "\n",
    "#Let's now sort the dataset\n",
    "pop_italy.sort_values(['year','Age'], inplace=True)\n",
    "pop_italy.reset_index(drop=True, inplace=True)\n"
   ]
  },
  {
   "cell_type": "code",
   "execution_count": 199,
   "metadata": {},
   "outputs": [
    {
     "data": {
      "text/html": [
       "<div>\n",
       "<style scoped>\n",
       "    .dataframe tbody tr th:only-of-type {\n",
       "        vertical-align: middle;\n",
       "    }\n",
       "\n",
       "    .dataframe tbody tr th {\n",
       "        vertical-align: top;\n",
       "    }\n",
       "\n",
       "    .dataframe thead th {\n",
       "        text-align: right;\n",
       "    }\n",
       "</style>\n",
       "<table border=\"1\" class=\"dataframe\">\n",
       "  <thead>\n",
       "    <tr style=\"text-align: right;\">\n",
       "      <th></th>\n",
       "      <th>year</th>\n",
       "      <th>Age</th>\n",
       "      <th>Females</th>\n",
       "      <th>Males</th>\n",
       "      <th>Total</th>\n",
       "    </tr>\n",
       "  </thead>\n",
       "  <tbody>\n",
       "    <tr>\n",
       "      <th>0</th>\n",
       "      <td>1992</td>\n",
       "      <td>0</td>\n",
       "      <td>248552</td>\n",
       "      <td>262256</td>\n",
       "      <td>510808</td>\n",
       "    </tr>\n",
       "    <tr>\n",
       "      <th>1</th>\n",
       "      <td>1992</td>\n",
       "      <td>1</td>\n",
       "      <td>255186</td>\n",
       "      <td>267914</td>\n",
       "      <td>523100</td>\n",
       "    </tr>\n",
       "    <tr>\n",
       "      <th>2</th>\n",
       "      <td>1992</td>\n",
       "      <td>2</td>\n",
       "      <td>257770</td>\n",
       "      <td>270613</td>\n",
       "      <td>528383</td>\n",
       "    </tr>\n",
       "    <tr>\n",
       "      <th>3</th>\n",
       "      <td>1992</td>\n",
       "      <td>3</td>\n",
       "      <td>259784</td>\n",
       "      <td>273681</td>\n",
       "      <td>533465</td>\n",
       "    </tr>\n",
       "    <tr>\n",
       "      <th>4</th>\n",
       "      <td>1992</td>\n",
       "      <td>4</td>\n",
       "      <td>254547</td>\n",
       "      <td>267722</td>\n",
       "      <td>522269</td>\n",
       "    </tr>\n",
       "    <tr>\n",
       "      <th>5</th>\n",
       "      <td>1992</td>\n",
       "      <td>5</td>\n",
       "      <td>257606</td>\n",
       "      <td>270798</td>\n",
       "      <td>528404</td>\n",
       "    </tr>\n",
       "    <tr>\n",
       "      <th>6</th>\n",
       "      <td>1992</td>\n",
       "      <td>6</td>\n",
       "      <td>269742</td>\n",
       "      <td>281702</td>\n",
       "      <td>551444</td>\n",
       "    </tr>\n",
       "    <tr>\n",
       "      <th>7</th>\n",
       "      <td>1992</td>\n",
       "      <td>7</td>\n",
       "      <td>274275</td>\n",
       "      <td>286983</td>\n",
       "      <td>561258</td>\n",
       "    </tr>\n",
       "    <tr>\n",
       "      <th>8</th>\n",
       "      <td>1992</td>\n",
       "      <td>8</td>\n",
       "      <td>281761</td>\n",
       "      <td>295917</td>\n",
       "      <td>577678</td>\n",
       "    </tr>\n",
       "    <tr>\n",
       "      <th>9</th>\n",
       "      <td>1992</td>\n",
       "      <td>9</td>\n",
       "      <td>293124</td>\n",
       "      <td>305422</td>\n",
       "      <td>598546</td>\n",
       "    </tr>\n",
       "  </tbody>\n",
       "</table>\n",
       "</div>"
      ],
      "text/plain": [
       "   year  Age  Females   Males   Total\n",
       "0  1992    0   248552  262256  510808\n",
       "1  1992    1   255186  267914  523100\n",
       "2  1992    2   257770  270613  528383\n",
       "3  1992    3   259784  273681  533465\n",
       "4  1992    4   254547  267722  522269\n",
       "5  1992    5   257606  270798  528404\n",
       "6  1992    6   269742  281702  551444\n",
       "7  1992    7   274275  286983  561258\n",
       "8  1992    8   281761  295917  577678\n",
       "9  1992    9   293124  305422  598546"
      ]
     },
     "execution_count": 199,
     "metadata": {},
     "output_type": "execute_result"
    }
   ],
   "source": [
    "pop_italy.head(10)"
   ]
  },
  {
   "cell_type": "code",
   "execution_count": 200,
   "metadata": {},
   "outputs": [],
   "source": [
    "# Create a new column with the age group of each observation\n",
    "pop_italy['age_group'] = ''\n",
    "\n",
    "for i in range(0, 101, 5):\n",
    "    if i == 100:\n",
    "        pop_italy.loc[pop_italy['Age'].between(i, i+5), 'age_group'] = '100-100+'\n",
    "    else:\n",
    "        pop_italy.loc[pop_italy['Age'].between(i, i+4), 'age_group'] = f'{i}-{i+4}'\n",
    "\n",
    "# Summing up all the observations for each age group\n",
    "pop_italy_agg = pop_italy.groupby(['age_group', 'year'])[['Males', 'Females','Total']].sum()\n",
    "\n",
    "# Resetting index\n",
    "pop_italy_agg.reset_index(inplace=True)\n",
    "\n",
    "# Splitting age_group into lower_bound and upper_bound in order to sort the age groups correctly\n",
    "pop_italy_agg[['lower_bound', 'upper_bound']] = pop_italy_agg['age_group'].str.split('-', expand=True)\n",
    "\n",
    "# Sorting by age groups\n",
    "pop_italy_agg['lower_bound'] = pop_italy_agg['lower_bound'].astype(int)\n",
    "pop_italy_agg.sort_values(['year','lower_bound'], inplace=True)\n",
    "pop_italy_agg.reset_index(inplace=True)\n",
    "pop_italy_agg.drop(['index', 'lower_bound', 'upper_bound'], axis=1, inplace=True)\n",
    "\n"
   ]
  },
  {
   "cell_type": "code",
   "execution_count": 201,
   "metadata": {},
   "outputs": [
    {
     "data": {
      "text/html": [
       "<div>\n",
       "<style scoped>\n",
       "    .dataframe tbody tr th:only-of-type {\n",
       "        vertical-align: middle;\n",
       "    }\n",
       "\n",
       "    .dataframe tbody tr th {\n",
       "        vertical-align: top;\n",
       "    }\n",
       "\n",
       "    .dataframe thead th {\n",
       "        text-align: right;\n",
       "    }\n",
       "</style>\n",
       "<table border=\"1\" class=\"dataframe\">\n",
       "  <thead>\n",
       "    <tr style=\"text-align: right;\">\n",
       "      <th></th>\n",
       "      <th>age_group</th>\n",
       "      <th>year</th>\n",
       "      <th>Males</th>\n",
       "      <th>Females</th>\n",
       "      <th>Total</th>\n",
       "    </tr>\n",
       "  </thead>\n",
       "  <tbody>\n",
       "    <tr>\n",
       "      <th>0</th>\n",
       "      <td>0-4</td>\n",
       "      <td>1992</td>\n",
       "      <td>1342186</td>\n",
       "      <td>1275839</td>\n",
       "      <td>2618025</td>\n",
       "    </tr>\n",
       "    <tr>\n",
       "      <th>1</th>\n",
       "      <td>5-9</td>\n",
       "      <td>1992</td>\n",
       "      <td>1440822</td>\n",
       "      <td>1376508</td>\n",
       "      <td>2817330</td>\n",
       "    </tr>\n",
       "    <tr>\n",
       "      <th>2</th>\n",
       "      <td>10-14</td>\n",
       "      <td>1992</td>\n",
       "      <td>1691555</td>\n",
       "      <td>1621899</td>\n",
       "      <td>3313454</td>\n",
       "    </tr>\n",
       "    <tr>\n",
       "      <th>3</th>\n",
       "      <td>15-19</td>\n",
       "      <td>1992</td>\n",
       "      <td>2140091</td>\n",
       "      <td>2062555</td>\n",
       "      <td>4202646</td>\n",
       "    </tr>\n",
       "    <tr>\n",
       "      <th>4</th>\n",
       "      <td>20-24</td>\n",
       "      <td>1992</td>\n",
       "      <td>2314913</td>\n",
       "      <td>2243348</td>\n",
       "      <td>4558261</td>\n",
       "    </tr>\n",
       "    <tr>\n",
       "      <th>5</th>\n",
       "      <td>25-29</td>\n",
       "      <td>1992</td>\n",
       "      <td>2355948</td>\n",
       "      <td>2320969</td>\n",
       "      <td>4676917</td>\n",
       "    </tr>\n",
       "    <tr>\n",
       "      <th>6</th>\n",
       "      <td>30-34</td>\n",
       "      <td>1992</td>\n",
       "      <td>2075333</td>\n",
       "      <td>2063616</td>\n",
       "      <td>4138949</td>\n",
       "    </tr>\n",
       "    <tr>\n",
       "      <th>7</th>\n",
       "      <td>35-39</td>\n",
       "      <td>1992</td>\n",
       "      <td>1902433</td>\n",
       "      <td>1913343</td>\n",
       "      <td>3815776</td>\n",
       "    </tr>\n",
       "    <tr>\n",
       "      <th>8</th>\n",
       "      <td>40-44</td>\n",
       "      <td>1992</td>\n",
       "      <td>1964807</td>\n",
       "      <td>1984476</td>\n",
       "      <td>3949283</td>\n",
       "    </tr>\n",
       "    <tr>\n",
       "      <th>9</th>\n",
       "      <td>45-49</td>\n",
       "      <td>1992</td>\n",
       "      <td>1734308</td>\n",
       "      <td>1770641</td>\n",
       "      <td>3504949</td>\n",
       "    </tr>\n",
       "  </tbody>\n",
       "</table>\n",
       "</div>"
      ],
      "text/plain": [
       "  age_group  year    Males  Females    Total\n",
       "0       0-4  1992  1342186  1275839  2618025\n",
       "1       5-9  1992  1440822  1376508  2817330\n",
       "2     10-14  1992  1691555  1621899  3313454\n",
       "3     15-19  1992  2140091  2062555  4202646\n",
       "4     20-24  1992  2314913  2243348  4558261\n",
       "5     25-29  1992  2355948  2320969  4676917\n",
       "6     30-34  1992  2075333  2063616  4138949\n",
       "7     35-39  1992  1902433  1913343  3815776\n",
       "8     40-44  1992  1964807  1984476  3949283\n",
       "9     45-49  1992  1734308  1770641  3504949"
      ]
     },
     "execution_count": 201,
     "metadata": {},
     "output_type": "execute_result"
    }
   ],
   "source": [
    "pop_italy_agg.head(10)"
   ]
  },
  {
   "cell_type": "code",
   "execution_count": 202,
   "metadata": {},
   "outputs": [],
   "source": [
    "#Let's now plot the total population in italy by age_group\n",
    "def plot_pop(df, age_group): \n",
    "    I = df['age_group'] == age_group\n",
    "    ax=df.loc[I,:].plot(x='year', y='Total', style='-o', legend=False)\n",
    "    ax.set_ylabel('Population')\n",
    "    ax.set_title(f'Population in age group {age_group}')"
   ]
  },
  {
   "cell_type": "code",
   "execution_count": 203,
   "metadata": {},
   "outputs": [
    {
     "data": {
      "application/vnd.jupyter.widget-view+json": {
       "model_id": "b6abb7908563420d90bb9b120243d4f9",
       "version_major": 2,
       "version_minor": 0
      },
      "text/plain": [
       "interactive(children=(Dropdown(description='Age_group', options=('0-4', '5-9', '10-14', '15-19', '20-24', '25-…"
      ]
     },
     "metadata": {},
     "output_type": "display_data"
    }
   ],
   "source": [
    "widgets.interact(plot_pop, \n",
    "    df = widgets.fixed(pop_italy_agg),\n",
    "    age_group = widgets.Dropdown(description='Age_group', \n",
    "                                    options=pop_italy_agg['age_group'].unique(), \n",
    "                                    value='0-4')\n",
    ");"
   ]
  },
  {
   "cell_type": "code",
   "execution_count": 204,
   "metadata": {},
   "outputs": [
    {
     "data": {
      "application/vnd.plotly.v1+json": {
       "config": {
        "plotlyServerURL": "https://plot.ly"
       },
       "data": [
        {
         "name": "Male",
         "orientation": "h",
         "type": "bar",
         "x": [
          1342186,
          1440822,
          1691555,
          2140091,
          2314913,
          2355948,
          2075333,
          1902433,
          1964807,
          1734308,
          1804703,
          1642177,
          1566261,
          1350118,
          832305,
          730159,
          447738,
          167658,
          43339,
          6486,
          623
         ],
         "y": [
          "0-4",
          "5-9",
          "10-14",
          "15-19",
          "20-24",
          "25-29",
          "30-34",
          "35-39",
          "40-44",
          "45-49",
          "50-54",
          "55-59",
          "60-64",
          "65-69",
          "70-74",
          "75-79",
          "80-84",
          "85-89",
          "90-94",
          "95-99",
          "100-100+"
         ]
        },
        {
         "name": "Female",
         "orientation": "h",
         "type": "bar",
         "x": [
          -1275839,
          -1376508,
          -1621899,
          -2062555,
          -2243348,
          -2320969,
          -2063616,
          -1913343,
          -1984476,
          -1770641,
          -1874586,
          -1758255,
          -1751600,
          -1656932,
          -1134845,
          -1097293,
          -792614,
          -373266,
          -121265,
          -22881,
          -2229
         ],
         "y": [
          "0-4",
          "5-9",
          "10-14",
          "15-19",
          "20-24",
          "25-29",
          "30-34",
          "35-39",
          "40-44",
          "45-49",
          "50-54",
          "55-59",
          "60-64",
          "65-69",
          "70-74",
          "75-79",
          "80-84",
          "85-89",
          "90-94",
          "95-99",
          "100-100+"
         ]
        }
       ],
       "layout": {
        "bargap": 0.1,
        "bargroupgap": 0.2,
        "barmode": "relative",
        "height": 600,
        "template": {
         "data": {
          "bar": [
           {
            "error_x": {
             "color": "#2a3f5f"
            },
            "error_y": {
             "color": "#2a3f5f"
            },
            "marker": {
             "line": {
              "color": "white",
              "width": 0.5
             },
             "pattern": {
              "fillmode": "overlay",
              "size": 10,
              "solidity": 0.2
             }
            },
            "type": "bar"
           }
          ],
          "barpolar": [
           {
            "marker": {
             "line": {
              "color": "white",
              "width": 0.5
             },
             "pattern": {
              "fillmode": "overlay",
              "size": 10,
              "solidity": 0.2
             }
            },
            "type": "barpolar"
           }
          ],
          "carpet": [
           {
            "aaxis": {
             "endlinecolor": "#2a3f5f",
             "gridcolor": "#C8D4E3",
             "linecolor": "#C8D4E3",
             "minorgridcolor": "#C8D4E3",
             "startlinecolor": "#2a3f5f"
            },
            "baxis": {
             "endlinecolor": "#2a3f5f",
             "gridcolor": "#C8D4E3",
             "linecolor": "#C8D4E3",
             "minorgridcolor": "#C8D4E3",
             "startlinecolor": "#2a3f5f"
            },
            "type": "carpet"
           }
          ],
          "choropleth": [
           {
            "colorbar": {
             "outlinewidth": 0,
             "ticks": ""
            },
            "type": "choropleth"
           }
          ],
          "contour": [
           {
            "colorbar": {
             "outlinewidth": 0,
             "ticks": ""
            },
            "colorscale": [
             [
              0,
              "#0d0887"
             ],
             [
              0.1111111111111111,
              "#46039f"
             ],
             [
              0.2222222222222222,
              "#7201a8"
             ],
             [
              0.3333333333333333,
              "#9c179e"
             ],
             [
              0.4444444444444444,
              "#bd3786"
             ],
             [
              0.5555555555555556,
              "#d8576b"
             ],
             [
              0.6666666666666666,
              "#ed7953"
             ],
             [
              0.7777777777777778,
              "#fb9f3a"
             ],
             [
              0.8888888888888888,
              "#fdca26"
             ],
             [
              1,
              "#f0f921"
             ]
            ],
            "type": "contour"
           }
          ],
          "contourcarpet": [
           {
            "colorbar": {
             "outlinewidth": 0,
             "ticks": ""
            },
            "type": "contourcarpet"
           }
          ],
          "heatmap": [
           {
            "colorbar": {
             "outlinewidth": 0,
             "ticks": ""
            },
            "colorscale": [
             [
              0,
              "#0d0887"
             ],
             [
              0.1111111111111111,
              "#46039f"
             ],
             [
              0.2222222222222222,
              "#7201a8"
             ],
             [
              0.3333333333333333,
              "#9c179e"
             ],
             [
              0.4444444444444444,
              "#bd3786"
             ],
             [
              0.5555555555555556,
              "#d8576b"
             ],
             [
              0.6666666666666666,
              "#ed7953"
             ],
             [
              0.7777777777777778,
              "#fb9f3a"
             ],
             [
              0.8888888888888888,
              "#fdca26"
             ],
             [
              1,
              "#f0f921"
             ]
            ],
            "type": "heatmap"
           }
          ],
          "heatmapgl": [
           {
            "colorbar": {
             "outlinewidth": 0,
             "ticks": ""
            },
            "colorscale": [
             [
              0,
              "#0d0887"
             ],
             [
              0.1111111111111111,
              "#46039f"
             ],
             [
              0.2222222222222222,
              "#7201a8"
             ],
             [
              0.3333333333333333,
              "#9c179e"
             ],
             [
              0.4444444444444444,
              "#bd3786"
             ],
             [
              0.5555555555555556,
              "#d8576b"
             ],
             [
              0.6666666666666666,
              "#ed7953"
             ],
             [
              0.7777777777777778,
              "#fb9f3a"
             ],
             [
              0.8888888888888888,
              "#fdca26"
             ],
             [
              1,
              "#f0f921"
             ]
            ],
            "type": "heatmapgl"
           }
          ],
          "histogram": [
           {
            "marker": {
             "pattern": {
              "fillmode": "overlay",
              "size": 10,
              "solidity": 0.2
             }
            },
            "type": "histogram"
           }
          ],
          "histogram2d": [
           {
            "colorbar": {
             "outlinewidth": 0,
             "ticks": ""
            },
            "colorscale": [
             [
              0,
              "#0d0887"
             ],
             [
              0.1111111111111111,
              "#46039f"
             ],
             [
              0.2222222222222222,
              "#7201a8"
             ],
             [
              0.3333333333333333,
              "#9c179e"
             ],
             [
              0.4444444444444444,
              "#bd3786"
             ],
             [
              0.5555555555555556,
              "#d8576b"
             ],
             [
              0.6666666666666666,
              "#ed7953"
             ],
             [
              0.7777777777777778,
              "#fb9f3a"
             ],
             [
              0.8888888888888888,
              "#fdca26"
             ],
             [
              1,
              "#f0f921"
             ]
            ],
            "type": "histogram2d"
           }
          ],
          "histogram2dcontour": [
           {
            "colorbar": {
             "outlinewidth": 0,
             "ticks": ""
            },
            "colorscale": [
             [
              0,
              "#0d0887"
             ],
             [
              0.1111111111111111,
              "#46039f"
             ],
             [
              0.2222222222222222,
              "#7201a8"
             ],
             [
              0.3333333333333333,
              "#9c179e"
             ],
             [
              0.4444444444444444,
              "#bd3786"
             ],
             [
              0.5555555555555556,
              "#d8576b"
             ],
             [
              0.6666666666666666,
              "#ed7953"
             ],
             [
              0.7777777777777778,
              "#fb9f3a"
             ],
             [
              0.8888888888888888,
              "#fdca26"
             ],
             [
              1,
              "#f0f921"
             ]
            ],
            "type": "histogram2dcontour"
           }
          ],
          "mesh3d": [
           {
            "colorbar": {
             "outlinewidth": 0,
             "ticks": ""
            },
            "type": "mesh3d"
           }
          ],
          "parcoords": [
           {
            "line": {
             "colorbar": {
              "outlinewidth": 0,
              "ticks": ""
             }
            },
            "type": "parcoords"
           }
          ],
          "pie": [
           {
            "automargin": true,
            "type": "pie"
           }
          ],
          "scatter": [
           {
            "fillpattern": {
             "fillmode": "overlay",
             "size": 10,
             "solidity": 0.2
            },
            "type": "scatter"
           }
          ],
          "scatter3d": [
           {
            "line": {
             "colorbar": {
              "outlinewidth": 0,
              "ticks": ""
             }
            },
            "marker": {
             "colorbar": {
              "outlinewidth": 0,
              "ticks": ""
             }
            },
            "type": "scatter3d"
           }
          ],
          "scattercarpet": [
           {
            "marker": {
             "colorbar": {
              "outlinewidth": 0,
              "ticks": ""
             }
            },
            "type": "scattercarpet"
           }
          ],
          "scattergeo": [
           {
            "marker": {
             "colorbar": {
              "outlinewidth": 0,
              "ticks": ""
             }
            },
            "type": "scattergeo"
           }
          ],
          "scattergl": [
           {
            "marker": {
             "colorbar": {
              "outlinewidth": 0,
              "ticks": ""
             }
            },
            "type": "scattergl"
           }
          ],
          "scattermapbox": [
           {
            "marker": {
             "colorbar": {
              "outlinewidth": 0,
              "ticks": ""
             }
            },
            "type": "scattermapbox"
           }
          ],
          "scatterpolar": [
           {
            "marker": {
             "colorbar": {
              "outlinewidth": 0,
              "ticks": ""
             }
            },
            "type": "scatterpolar"
           }
          ],
          "scatterpolargl": [
           {
            "marker": {
             "colorbar": {
              "outlinewidth": 0,
              "ticks": ""
             }
            },
            "type": "scatterpolargl"
           }
          ],
          "scatterternary": [
           {
            "marker": {
             "colorbar": {
              "outlinewidth": 0,
              "ticks": ""
             }
            },
            "type": "scatterternary"
           }
          ],
          "surface": [
           {
            "colorbar": {
             "outlinewidth": 0,
             "ticks": ""
            },
            "colorscale": [
             [
              0,
              "#0d0887"
             ],
             [
              0.1111111111111111,
              "#46039f"
             ],
             [
              0.2222222222222222,
              "#7201a8"
             ],
             [
              0.3333333333333333,
              "#9c179e"
             ],
             [
              0.4444444444444444,
              "#bd3786"
             ],
             [
              0.5555555555555556,
              "#d8576b"
             ],
             [
              0.6666666666666666,
              "#ed7953"
             ],
             [
              0.7777777777777778,
              "#fb9f3a"
             ],
             [
              0.8888888888888888,
              "#fdca26"
             ],
             [
              1,
              "#f0f921"
             ]
            ],
            "type": "surface"
           }
          ],
          "table": [
           {
            "cells": {
             "fill": {
              "color": "#EBF0F8"
             },
             "line": {
              "color": "white"
             }
            },
            "header": {
             "fill": {
              "color": "#C8D4E3"
             },
             "line": {
              "color": "white"
             }
            },
            "type": "table"
           }
          ]
         },
         "layout": {
          "annotationdefaults": {
           "arrowcolor": "#2a3f5f",
           "arrowhead": 0,
           "arrowwidth": 1
          },
          "autotypenumbers": "strict",
          "coloraxis": {
           "colorbar": {
            "outlinewidth": 0,
            "ticks": ""
           }
          },
          "colorscale": {
           "diverging": [
            [
             0,
             "#8e0152"
            ],
            [
             0.1,
             "#c51b7d"
            ],
            [
             0.2,
             "#de77ae"
            ],
            [
             0.3,
             "#f1b6da"
            ],
            [
             0.4,
             "#fde0ef"
            ],
            [
             0.5,
             "#f7f7f7"
            ],
            [
             0.6,
             "#e6f5d0"
            ],
            [
             0.7,
             "#b8e186"
            ],
            [
             0.8,
             "#7fbc41"
            ],
            [
             0.9,
             "#4d9221"
            ],
            [
             1,
             "#276419"
            ]
           ],
           "sequential": [
            [
             0,
             "#0d0887"
            ],
            [
             0.1111111111111111,
             "#46039f"
            ],
            [
             0.2222222222222222,
             "#7201a8"
            ],
            [
             0.3333333333333333,
             "#9c179e"
            ],
            [
             0.4444444444444444,
             "#bd3786"
            ],
            [
             0.5555555555555556,
             "#d8576b"
            ],
            [
             0.6666666666666666,
             "#ed7953"
            ],
            [
             0.7777777777777778,
             "#fb9f3a"
            ],
            [
             0.8888888888888888,
             "#fdca26"
            ],
            [
             1,
             "#f0f921"
            ]
           ],
           "sequentialminus": [
            [
             0,
             "#0d0887"
            ],
            [
             0.1111111111111111,
             "#46039f"
            ],
            [
             0.2222222222222222,
             "#7201a8"
            ],
            [
             0.3333333333333333,
             "#9c179e"
            ],
            [
             0.4444444444444444,
             "#bd3786"
            ],
            [
             0.5555555555555556,
             "#d8576b"
            ],
            [
             0.6666666666666666,
             "#ed7953"
            ],
            [
             0.7777777777777778,
             "#fb9f3a"
            ],
            [
             0.8888888888888888,
             "#fdca26"
            ],
            [
             1,
             "#f0f921"
            ]
           ]
          },
          "colorway": [
           "#636efa",
           "#EF553B",
           "#00cc96",
           "#ab63fa",
           "#FFA15A",
           "#19d3f3",
           "#FF6692",
           "#B6E880",
           "#FF97FF",
           "#FECB52"
          ],
          "font": {
           "color": "#2a3f5f"
          },
          "geo": {
           "bgcolor": "white",
           "lakecolor": "white",
           "landcolor": "white",
           "showlakes": true,
           "showland": true,
           "subunitcolor": "#C8D4E3"
          },
          "hoverlabel": {
           "align": "left"
          },
          "hovermode": "closest",
          "mapbox": {
           "style": "light"
          },
          "paper_bgcolor": "white",
          "plot_bgcolor": "white",
          "polar": {
           "angularaxis": {
            "gridcolor": "#EBF0F8",
            "linecolor": "#EBF0F8",
            "ticks": ""
           },
           "bgcolor": "white",
           "radialaxis": {
            "gridcolor": "#EBF0F8",
            "linecolor": "#EBF0F8",
            "ticks": ""
           }
          },
          "scene": {
           "xaxis": {
            "backgroundcolor": "white",
            "gridcolor": "#DFE8F3",
            "gridwidth": 2,
            "linecolor": "#EBF0F8",
            "showbackground": true,
            "ticks": "",
            "zerolinecolor": "#EBF0F8"
           },
           "yaxis": {
            "backgroundcolor": "white",
            "gridcolor": "#DFE8F3",
            "gridwidth": 2,
            "linecolor": "#EBF0F8",
            "showbackground": true,
            "ticks": "",
            "zerolinecolor": "#EBF0F8"
           },
           "zaxis": {
            "backgroundcolor": "white",
            "gridcolor": "#DFE8F3",
            "gridwidth": 2,
            "linecolor": "#EBF0F8",
            "showbackground": true,
            "ticks": "",
            "zerolinecolor": "#EBF0F8"
           }
          },
          "shapedefaults": {
           "line": {
            "color": "#2a3f5f"
           }
          },
          "ternary": {
           "aaxis": {
            "gridcolor": "#DFE8F3",
            "linecolor": "#A2B1C6",
            "ticks": ""
           },
           "baxis": {
            "gridcolor": "#DFE8F3",
            "linecolor": "#A2B1C6",
            "ticks": ""
           },
           "bgcolor": "white",
           "caxis": {
            "gridcolor": "#DFE8F3",
            "linecolor": "#A2B1C6",
            "ticks": ""
           }
          },
          "title": {
           "x": 0.05
          },
          "xaxis": {
           "automargin": true,
           "gridcolor": "#EBF0F8",
           "linecolor": "#EBF0F8",
           "ticks": "",
           "title": {
            "standoff": 15
           },
           "zerolinecolor": "#EBF0F8",
           "zerolinewidth": 2
          },
          "yaxis": {
           "automargin": true,
           "gridcolor": "#EBF0F8",
           "linecolor": "#EBF0F8",
           "ticks": "",
           "title": {
            "standoff": 15
           },
           "zerolinecolor": "#EBF0F8",
           "zerolinewidth": 2
          }
         }
        },
        "title": {
         "font": {
          "size": 24
         },
         "text": "Population in Italy 1992"
        },
        "width": 800,
        "xaxis": {
         "ticktext": [
          "2M",
          "1M",
          "0",
          "1M",
          "2M"
         ],
         "tickvals": [
          -2000000,
          -1000000,
          0,
          1000000,
          2000000
         ],
         "title": {
          "text": "Population"
         }
        }
       }
      }
     },
     "metadata": {},
     "output_type": "display_data"
    },
    {
     "data": {
      "application/vnd.jupyter.widget-view+json": {
       "model_id": "338f22bec4bd4ef7b45f984a91ee65a9",
       "version_major": 2,
       "version_minor": 0
      },
      "text/plain": [
       "interactive(children=(IntSlider(value=1992, description='Year', max=2021, min=1992), Output()), _dom_classes=(…"
      ]
     },
     "metadata": {},
     "output_type": "display_data"
    },
    {
     "data": {
      "application/vnd.plotly.v1+json": {
       "config": {
        "plotlyServerURL": "https://plot.ly"
       },
       "data": [
        {
         "name": "Male",
         "orientation": "h",
         "type": "bar",
         "x": [
          1138845,
          1326061,
          1463873,
          1476815,
          1549500,
          1566265,
          1633887,
          1747529,
          2001502,
          2329457,
          2377041,
          2261108,
          1901209,
          1652948,
          1609510,
          1140634,
          953118,
          513213,
          186194,
          34670,
          2847
         ],
         "y": [
          "0-4",
          "5-9",
          "10-14",
          "15-19",
          "20-24",
          "25-29",
          "30-34",
          "35-39",
          "40-44",
          "45-49",
          "50-54",
          "55-59",
          "60-64",
          "65-69",
          "70-74",
          "75-79",
          "80-84",
          "85-89",
          "90-94",
          "95-99",
          "100-100+"
         ]
        },
        {
         "name": "Female",
         "orientation": "h",
         "type": "bar",
         "x": [
          -1077665,
          -1252279,
          -1377822,
          -1380198,
          -1407840,
          -1479314,
          -1592259,
          -1735723,
          -2007068,
          -2363044,
          -2440634,
          -2362857,
          -2044887,
          -1821385,
          -1831661,
          -1406576,
          -1324845,
          -882889,
          -443464,
          -123247,
          -14330
         ],
         "y": [
          "0-4",
          "5-9",
          "10-14",
          "15-19",
          "20-24",
          "25-29",
          "30-34",
          "35-39",
          "40-44",
          "45-49",
          "50-54",
          "55-59",
          "60-64",
          "65-69",
          "70-74",
          "75-79",
          "80-84",
          "85-89",
          "90-94",
          "95-99",
          "100-100+"
         ]
        }
       ],
       "layout": {
        "bargap": 0.1,
        "bargroupgap": 0.2,
        "barmode": "relative",
        "height": 600,
        "template": {
         "data": {
          "bar": [
           {
            "error_x": {
             "color": "#2a3f5f"
            },
            "error_y": {
             "color": "#2a3f5f"
            },
            "marker": {
             "line": {
              "color": "white",
              "width": 0.5
             },
             "pattern": {
              "fillmode": "overlay",
              "size": 10,
              "solidity": 0.2
             }
            },
            "type": "bar"
           }
          ],
          "barpolar": [
           {
            "marker": {
             "line": {
              "color": "white",
              "width": 0.5
             },
             "pattern": {
              "fillmode": "overlay",
              "size": 10,
              "solidity": 0.2
             }
            },
            "type": "barpolar"
           }
          ],
          "carpet": [
           {
            "aaxis": {
             "endlinecolor": "#2a3f5f",
             "gridcolor": "#C8D4E3",
             "linecolor": "#C8D4E3",
             "minorgridcolor": "#C8D4E3",
             "startlinecolor": "#2a3f5f"
            },
            "baxis": {
             "endlinecolor": "#2a3f5f",
             "gridcolor": "#C8D4E3",
             "linecolor": "#C8D4E3",
             "minorgridcolor": "#C8D4E3",
             "startlinecolor": "#2a3f5f"
            },
            "type": "carpet"
           }
          ],
          "choropleth": [
           {
            "colorbar": {
             "outlinewidth": 0,
             "ticks": ""
            },
            "type": "choropleth"
           }
          ],
          "contour": [
           {
            "colorbar": {
             "outlinewidth": 0,
             "ticks": ""
            },
            "colorscale": [
             [
              0,
              "#0d0887"
             ],
             [
              0.1111111111111111,
              "#46039f"
             ],
             [
              0.2222222222222222,
              "#7201a8"
             ],
             [
              0.3333333333333333,
              "#9c179e"
             ],
             [
              0.4444444444444444,
              "#bd3786"
             ],
             [
              0.5555555555555556,
              "#d8576b"
             ],
             [
              0.6666666666666666,
              "#ed7953"
             ],
             [
              0.7777777777777778,
              "#fb9f3a"
             ],
             [
              0.8888888888888888,
              "#fdca26"
             ],
             [
              1,
              "#f0f921"
             ]
            ],
            "type": "contour"
           }
          ],
          "contourcarpet": [
           {
            "colorbar": {
             "outlinewidth": 0,
             "ticks": ""
            },
            "type": "contourcarpet"
           }
          ],
          "heatmap": [
           {
            "colorbar": {
             "outlinewidth": 0,
             "ticks": ""
            },
            "colorscale": [
             [
              0,
              "#0d0887"
             ],
             [
              0.1111111111111111,
              "#46039f"
             ],
             [
              0.2222222222222222,
              "#7201a8"
             ],
             [
              0.3333333333333333,
              "#9c179e"
             ],
             [
              0.4444444444444444,
              "#bd3786"
             ],
             [
              0.5555555555555556,
              "#d8576b"
             ],
             [
              0.6666666666666666,
              "#ed7953"
             ],
             [
              0.7777777777777778,
              "#fb9f3a"
             ],
             [
              0.8888888888888888,
              "#fdca26"
             ],
             [
              1,
              "#f0f921"
             ]
            ],
            "type": "heatmap"
           }
          ],
          "heatmapgl": [
           {
            "colorbar": {
             "outlinewidth": 0,
             "ticks": ""
            },
            "colorscale": [
             [
              0,
              "#0d0887"
             ],
             [
              0.1111111111111111,
              "#46039f"
             ],
             [
              0.2222222222222222,
              "#7201a8"
             ],
             [
              0.3333333333333333,
              "#9c179e"
             ],
             [
              0.4444444444444444,
              "#bd3786"
             ],
             [
              0.5555555555555556,
              "#d8576b"
             ],
             [
              0.6666666666666666,
              "#ed7953"
             ],
             [
              0.7777777777777778,
              "#fb9f3a"
             ],
             [
              0.8888888888888888,
              "#fdca26"
             ],
             [
              1,
              "#f0f921"
             ]
            ],
            "type": "heatmapgl"
           }
          ],
          "histogram": [
           {
            "marker": {
             "pattern": {
              "fillmode": "overlay",
              "size": 10,
              "solidity": 0.2
             }
            },
            "type": "histogram"
           }
          ],
          "histogram2d": [
           {
            "colorbar": {
             "outlinewidth": 0,
             "ticks": ""
            },
            "colorscale": [
             [
              0,
              "#0d0887"
             ],
             [
              0.1111111111111111,
              "#46039f"
             ],
             [
              0.2222222222222222,
              "#7201a8"
             ],
             [
              0.3333333333333333,
              "#9c179e"
             ],
             [
              0.4444444444444444,
              "#bd3786"
             ],
             [
              0.5555555555555556,
              "#d8576b"
             ],
             [
              0.6666666666666666,
              "#ed7953"
             ],
             [
              0.7777777777777778,
              "#fb9f3a"
             ],
             [
              0.8888888888888888,
              "#fdca26"
             ],
             [
              1,
              "#f0f921"
             ]
            ],
            "type": "histogram2d"
           }
          ],
          "histogram2dcontour": [
           {
            "colorbar": {
             "outlinewidth": 0,
             "ticks": ""
            },
            "colorscale": [
             [
              0,
              "#0d0887"
             ],
             [
              0.1111111111111111,
              "#46039f"
             ],
             [
              0.2222222222222222,
              "#7201a8"
             ],
             [
              0.3333333333333333,
              "#9c179e"
             ],
             [
              0.4444444444444444,
              "#bd3786"
             ],
             [
              0.5555555555555556,
              "#d8576b"
             ],
             [
              0.6666666666666666,
              "#ed7953"
             ],
             [
              0.7777777777777778,
              "#fb9f3a"
             ],
             [
              0.8888888888888888,
              "#fdca26"
             ],
             [
              1,
              "#f0f921"
             ]
            ],
            "type": "histogram2dcontour"
           }
          ],
          "mesh3d": [
           {
            "colorbar": {
             "outlinewidth": 0,
             "ticks": ""
            },
            "type": "mesh3d"
           }
          ],
          "parcoords": [
           {
            "line": {
             "colorbar": {
              "outlinewidth": 0,
              "ticks": ""
             }
            },
            "type": "parcoords"
           }
          ],
          "pie": [
           {
            "automargin": true,
            "type": "pie"
           }
          ],
          "scatter": [
           {
            "fillpattern": {
             "fillmode": "overlay",
             "size": 10,
             "solidity": 0.2
            },
            "type": "scatter"
           }
          ],
          "scatter3d": [
           {
            "line": {
             "colorbar": {
              "outlinewidth": 0,
              "ticks": ""
             }
            },
            "marker": {
             "colorbar": {
              "outlinewidth": 0,
              "ticks": ""
             }
            },
            "type": "scatter3d"
           }
          ],
          "scattercarpet": [
           {
            "marker": {
             "colorbar": {
              "outlinewidth": 0,
              "ticks": ""
             }
            },
            "type": "scattercarpet"
           }
          ],
          "scattergeo": [
           {
            "marker": {
             "colorbar": {
              "outlinewidth": 0,
              "ticks": ""
             }
            },
            "type": "scattergeo"
           }
          ],
          "scattergl": [
           {
            "marker": {
             "colorbar": {
              "outlinewidth": 0,
              "ticks": ""
             }
            },
            "type": "scattergl"
           }
          ],
          "scattermapbox": [
           {
            "marker": {
             "colorbar": {
              "outlinewidth": 0,
              "ticks": ""
             }
            },
            "type": "scattermapbox"
           }
          ],
          "scatterpolar": [
           {
            "marker": {
             "colorbar": {
              "outlinewidth": 0,
              "ticks": ""
             }
            },
            "type": "scatterpolar"
           }
          ],
          "scatterpolargl": [
           {
            "marker": {
             "colorbar": {
              "outlinewidth": 0,
              "ticks": ""
             }
            },
            "type": "scatterpolargl"
           }
          ],
          "scatterternary": [
           {
            "marker": {
             "colorbar": {
              "outlinewidth": 0,
              "ticks": ""
             }
            },
            "type": "scatterternary"
           }
          ],
          "surface": [
           {
            "colorbar": {
             "outlinewidth": 0,
             "ticks": ""
            },
            "colorscale": [
             [
              0,
              "#0d0887"
             ],
             [
              0.1111111111111111,
              "#46039f"
             ],
             [
              0.2222222222222222,
              "#7201a8"
             ],
             [
              0.3333333333333333,
              "#9c179e"
             ],
             [
              0.4444444444444444,
              "#bd3786"
             ],
             [
              0.5555555555555556,
              "#d8576b"
             ],
             [
              0.6666666666666666,
              "#ed7953"
             ],
             [
              0.7777777777777778,
              "#fb9f3a"
             ],
             [
              0.8888888888888888,
              "#fdca26"
             ],
             [
              1,
              "#f0f921"
             ]
            ],
            "type": "surface"
           }
          ],
          "table": [
           {
            "cells": {
             "fill": {
              "color": "#EBF0F8"
             },
             "line": {
              "color": "white"
             }
            },
            "header": {
             "fill": {
              "color": "#C8D4E3"
             },
             "line": {
              "color": "white"
             }
            },
            "type": "table"
           }
          ]
         },
         "layout": {
          "annotationdefaults": {
           "arrowcolor": "#2a3f5f",
           "arrowhead": 0,
           "arrowwidth": 1
          },
          "autotypenumbers": "strict",
          "coloraxis": {
           "colorbar": {
            "outlinewidth": 0,
            "ticks": ""
           }
          },
          "colorscale": {
           "diverging": [
            [
             0,
             "#8e0152"
            ],
            [
             0.1,
             "#c51b7d"
            ],
            [
             0.2,
             "#de77ae"
            ],
            [
             0.3,
             "#f1b6da"
            ],
            [
             0.4,
             "#fde0ef"
            ],
            [
             0.5,
             "#f7f7f7"
            ],
            [
             0.6,
             "#e6f5d0"
            ],
            [
             0.7,
             "#b8e186"
            ],
            [
             0.8,
             "#7fbc41"
            ],
            [
             0.9,
             "#4d9221"
            ],
            [
             1,
             "#276419"
            ]
           ],
           "sequential": [
            [
             0,
             "#0d0887"
            ],
            [
             0.1111111111111111,
             "#46039f"
            ],
            [
             0.2222222222222222,
             "#7201a8"
            ],
            [
             0.3333333333333333,
             "#9c179e"
            ],
            [
             0.4444444444444444,
             "#bd3786"
            ],
            [
             0.5555555555555556,
             "#d8576b"
            ],
            [
             0.6666666666666666,
             "#ed7953"
            ],
            [
             0.7777777777777778,
             "#fb9f3a"
            ],
            [
             0.8888888888888888,
             "#fdca26"
            ],
            [
             1,
             "#f0f921"
            ]
           ],
           "sequentialminus": [
            [
             0,
             "#0d0887"
            ],
            [
             0.1111111111111111,
             "#46039f"
            ],
            [
             0.2222222222222222,
             "#7201a8"
            ],
            [
             0.3333333333333333,
             "#9c179e"
            ],
            [
             0.4444444444444444,
             "#bd3786"
            ],
            [
             0.5555555555555556,
             "#d8576b"
            ],
            [
             0.6666666666666666,
             "#ed7953"
            ],
            [
             0.7777777777777778,
             "#fb9f3a"
            ],
            [
             0.8888888888888888,
             "#fdca26"
            ],
            [
             1,
             "#f0f921"
            ]
           ]
          },
          "colorway": [
           "#636efa",
           "#EF553B",
           "#00cc96",
           "#ab63fa",
           "#FFA15A",
           "#19d3f3",
           "#FF6692",
           "#B6E880",
           "#FF97FF",
           "#FECB52"
          ],
          "font": {
           "color": "#2a3f5f"
          },
          "geo": {
           "bgcolor": "white",
           "lakecolor": "white",
           "landcolor": "white",
           "showlakes": true,
           "showland": true,
           "subunitcolor": "#C8D4E3"
          },
          "hoverlabel": {
           "align": "left"
          },
          "hovermode": "closest",
          "mapbox": {
           "style": "light"
          },
          "paper_bgcolor": "white",
          "plot_bgcolor": "white",
          "polar": {
           "angularaxis": {
            "gridcolor": "#EBF0F8",
            "linecolor": "#EBF0F8",
            "ticks": ""
           },
           "bgcolor": "white",
           "radialaxis": {
            "gridcolor": "#EBF0F8",
            "linecolor": "#EBF0F8",
            "ticks": ""
           }
          },
          "scene": {
           "xaxis": {
            "backgroundcolor": "white",
            "gridcolor": "#DFE8F3",
            "gridwidth": 2,
            "linecolor": "#EBF0F8",
            "showbackground": true,
            "ticks": "",
            "zerolinecolor": "#EBF0F8"
           },
           "yaxis": {
            "backgroundcolor": "white",
            "gridcolor": "#DFE8F3",
            "gridwidth": 2,
            "linecolor": "#EBF0F8",
            "showbackground": true,
            "ticks": "",
            "zerolinecolor": "#EBF0F8"
           },
           "zaxis": {
            "backgroundcolor": "white",
            "gridcolor": "#DFE8F3",
            "gridwidth": 2,
            "linecolor": "#EBF0F8",
            "showbackground": true,
            "ticks": "",
            "zerolinecolor": "#EBF0F8"
           }
          },
          "shapedefaults": {
           "line": {
            "color": "#2a3f5f"
           }
          },
          "ternary": {
           "aaxis": {
            "gridcolor": "#DFE8F3",
            "linecolor": "#A2B1C6",
            "ticks": ""
           },
           "baxis": {
            "gridcolor": "#DFE8F3",
            "linecolor": "#A2B1C6",
            "ticks": ""
           },
           "bgcolor": "white",
           "caxis": {
            "gridcolor": "#DFE8F3",
            "linecolor": "#A2B1C6",
            "ticks": ""
           }
          },
          "title": {
           "x": 0.05
          },
          "xaxis": {
           "automargin": true,
           "gridcolor": "#EBF0F8",
           "linecolor": "#EBF0F8",
           "ticks": "",
           "title": {
            "standoff": 15
           },
           "zerolinecolor": "#EBF0F8",
           "zerolinewidth": 2
          },
          "yaxis": {
           "automargin": true,
           "gridcolor": "#EBF0F8",
           "linecolor": "#EBF0F8",
           "ticks": "",
           "title": {
            "standoff": 15
           },
           "zerolinecolor": "#EBF0F8",
           "zerolinewidth": 2
          }
         }
        },
        "title": {
         "font": {
          "size": 24
         },
         "text": "Population in Italy 2021"
        },
        "width": 800,
        "xaxis": {
         "ticktext": [
          "2M",
          "1M",
          "0",
          "1M",
          "2M"
         ],
         "tickvals": [
          -2000000,
          -1000000,
          0,
          1000000,
          2000000
         ],
         "title": {
          "text": "Population"
         }
        }
       }
      }
     },
     "metadata": {},
     "output_type": "display_data"
    },
    {
     "data": {
      "text/plain": [
       "<function __main__.plot_func(df, year)>"
      ]
     },
     "execution_count": 204,
     "metadata": {},
     "output_type": "execute_result"
    }
   ],
   "source": [
    "#now we can plot the population by age group and by sex in Italy in different years. So that we are able to see the evolution of the age structure of the population in Italy.\n",
    "\n",
    "def plot_func(df, year):\n",
    "    I = df['year'] == year\n",
    "    fig = go.Figure()\n",
    "    # Adding male population data as positive values\n",
    "    fig.add_trace(go.Bar(\n",
    "        y=df.loc[I, 'age_group'],\n",
    "        x=df.loc[I, 'Males'],\n",
    "        name='Male',\n",
    "        orientation='h')\n",
    "    )\n",
    "\n",
    "    # Adding female population data as negative values to plot in opposite direction\n",
    "    fig.add_trace(go.Bar(\n",
    "        y=df.loc[I, 'age_group'],\n",
    "        x=df.loc[I, 'Females'] * -1,  # Multiplying by -1 to plot in opposite direction\n",
    "        name='Female',\n",
    "        orientation='h')\n",
    "    )\n",
    "    \n",
    "    fig.update_layout(\n",
    "        template='plotly_white',\n",
    "        title=f'Population in Italy {year}',\n",
    "        title_font_size=24,\n",
    "        barmode='relative',\n",
    "        bargap=0.1,  # Adjust as needed\n",
    "        bargroupgap=0.2,  # Adjust as needed\n",
    "        xaxis_title='Population',\n",
    "        xaxis=dict(\n",
    "            tickvals=[-2000000, -1000000, 0, 1000000, 2000000],\n",
    "            ticktext=['2M', '1M', '0', '1M', '2M']),\n",
    "        width=800,\n",
    "        height=600)\n",
    "    fig.show()\n",
    "      \n",
    "    \n",
    "    \n",
    "\n",
    "# Create an interactive widget with a slider to choose the year\n",
    "widgets.interact(plot_func,\n",
    "                 df=widgets.fixed(pop_italy_agg),\n",
    "                 year=widgets.IntSlider(description='Year',\n",
    "                                        min=pop_italy_agg['year'].min(),\n",
    "                                        max=pop_italy_agg['year'].max(),\n",
    "                                        step=1,\n",
    "                                        value=pop_italy_agg['year'].min(),\n",
    "                                        continuous_update=True)\n",
    "                                     \n",
    ")\n"
   ]
  },
  {
   "cell_type": "code",
   "execution_count": 205,
   "metadata": {},
   "outputs": [],
   "source": [
    "# Downloading life expectancy data for Italy\n",
    "wb_fr = wb.download(indicator='SP.DYN.LE00.IN', country=['IT'], start=1992, end=2021)\n",
    "wb_fr.reset_index(inplace=True)\n",
    "wb_fr.rename(columns={'SP.DYN.LE00.IN': 'life_expectancy'}, inplace=True)\n"
   ]
  },
  {
   "cell_type": "code",
   "execution_count": 206,
   "metadata": {},
   "outputs": [
    {
     "name": "stdout",
     "output_type": "stream",
     "text": [
      "<class 'pandas.core.frame.DataFrame'>\n",
      "RangeIndex: 30 entries, 0 to 29\n",
      "Data columns (total 3 columns):\n",
      " #   Column           Non-Null Count  Dtype  \n",
      "---  ------           --------------  -----  \n",
      " 0   country          30 non-null     object \n",
      " 1   year             30 non-null     object \n",
      " 2   life_expectancy  30 non-null     float64\n",
      "dtypes: float64(1), object(2)\n",
      "memory usage: 852.0+ bytes\n"
     ]
    }
   ],
   "source": [
    "#the variable year is an object but it should be an integer\n",
    "wb_fr.info()\n",
    "wb_fr['year'] = wb_fr['year'].astype(int)"
   ]
  },
  {
   "cell_type": "code",
   "execution_count": 207,
   "metadata": {},
   "outputs": [],
   "source": [
    "# Downloading birth rate data for Italy\n",
    "wb_birth = wb.download(indicator='SP.DYN.CBRT.IN', country=['IT'], start=1992, end=2021)\n",
    "wb_birth.reset_index(inplace=True)\n",
    "wb_birth.rename(columns={'SP.DYN.CBRT.IN': 'birth_rate'}, inplace=True)"
   ]
  },
  {
   "cell_type": "code",
   "execution_count": 208,
   "metadata": {},
   "outputs": [
    {
     "name": "stdout",
     "output_type": "stream",
     "text": [
      "<class 'pandas.core.frame.DataFrame'>\n",
      "RangeIndex: 30 entries, 0 to 29\n",
      "Data columns (total 3 columns):\n",
      " #   Column      Non-Null Count  Dtype  \n",
      "---  ------      --------------  -----  \n",
      " 0   country     30 non-null     object \n",
      " 1   year        30 non-null     object \n",
      " 2   birth_rate  30 non-null     float64\n",
      "dtypes: float64(1), object(2)\n",
      "memory usage: 852.0+ bytes\n"
     ]
    }
   ],
   "source": [
    "wb_birth.info()\n",
    "\n",
    "#the variable year is an object but it should be an integer\n",
    "wb_birth['year'] = wb_birth['year'].astype(int)"
   ]
  },
  {
   "cell_type": "code",
   "execution_count": 209,
   "metadata": {},
   "outputs": [],
   "source": [
    "# Merging dataframes on 'year'\n",
    "merged_df = pd.merge(wb_fr, wb_birth, how='outer',on='year')"
   ]
  },
  {
   "cell_type": "code",
   "execution_count": 210,
   "metadata": {},
   "outputs": [
    {
     "data": {
      "image/png": "[encoded data removed]",
      "text/plain": [
       "<Figure size 1000x500 with 2 Axes>"
      ]
     },
     "metadata": {},
     "output_type": "display_data"
    }
   ],
   "source": [
    "# Creating a figure and axis object\n",
    "fig, ax1 = plt.subplots(figsize=(10, 5))\n",
    "\n",
    "# Plotting life expectancy on primary y-axis\n",
    "ax1.plot(merged_df['year'], merged_df['life_expectancy'], color='blue', label='Life Expectancy')\n",
    "ax1.set_ylabel('Life Expectancy', color='black')\n",
    "\n",
    "# Creating a secondary y-axis for birth rate\n",
    "ax2 = ax1.twinx()\n",
    "ax2.plot(merged_df['year'], merged_df['birth_rate'], color='orange', label='Birth Rate')\n",
    "ax2.set_ylabel('Birth Rate', color='black')\n",
    "\n",
    "# Adding title and legend\n",
    "plt.title('Life Expectancy and Birth Rate in Italy')\n",
    "fig.tight_layout()\n",
    "fig.legend(loc='upper left', bbox_to_anchor=(0.24, 0.92))                                 \n",
    "plt.show()"
   ]
  },
  {
   "cell_type": "code",
   "execution_count": 215,
   "metadata": {},
   "outputs": [
    {
     "data": {
      "text/html": [
       "<div>\n",
       "<style scoped>\n",
       "    .dataframe tbody tr th:only-of-type {\n",
       "        vertical-align: middle;\n",
       "    }\n",
       "\n",
       "    .dataframe tbody tr th {\n",
       "        vertical-align: top;\n",
       "    }\n",
       "\n",
       "    .dataframe thead th {\n",
       "        text-align: right;\n",
       "    }\n",
       "</style>\n",
       "<table border=\"1\" class=\"dataframe\">\n",
       "  <thead>\n",
       "    <tr style=\"text-align: right;\">\n",
       "      <th></th>\n",
       "      <th>Event year</th>\n",
       "      <th>Territory</th>\n",
       "      <th>1st order fertility rate</th>\n",
       "      <th>2nd order fertility rate</th>\n",
       "      <th>3rd order and more fertility rate</th>\n",
       "      <th>Total fertility rate</th>\n",
       "      <th>Notes</th>\n",
       "    </tr>\n",
       "  </thead>\n",
       "  <tbody>\n",
       "    <tr>\n",
       "      <th>0</th>\n",
       "      <td>1992</td>\n",
       "      <td>Piemonte</td>\n",
       "      <td>60</td>\n",
       "      <td>38</td>\n",
       "      <td>10</td>\n",
       "      <td>108</td>\n",
       "      <td>NaN</td>\n",
       "    </tr>\n",
       "    <tr>\n",
       "      <th>1</th>\n",
       "      <td>1992</td>\n",
       "      <td>Valle d'Aosta/Vallée d'Aoste</td>\n",
       "      <td>59</td>\n",
       "      <td>41</td>\n",
       "      <td>11</td>\n",
       "      <td>110</td>\n",
       "      <td>NaN</td>\n",
       "    </tr>\n",
       "    <tr>\n",
       "      <th>2</th>\n",
       "      <td>1992</td>\n",
       "      <td>Liguria</td>\n",
       "      <td>59</td>\n",
       "      <td>35</td>\n",
       "      <td>8</td>\n",
       "      <td>103</td>\n",
       "      <td>NaN</td>\n",
       "    </tr>\n",
       "    <tr>\n",
       "      <th>3</th>\n",
       "      <td>1992</td>\n",
       "      <td>Lombardia</td>\n",
       "      <td>60</td>\n",
       "      <td>40</td>\n",
       "      <td>12</td>\n",
       "      <td>112</td>\n",
       "      <td>NaN</td>\n",
       "    </tr>\n",
       "    <tr>\n",
       "      <th>4</th>\n",
       "      <td>1992</td>\n",
       "      <td>Trentino-Alto Adige/Südtirol</td>\n",
       "      <td>71</td>\n",
       "      <td>49</td>\n",
       "      <td>21</td>\n",
       "      <td>142</td>\n",
       "      <td>NaN</td>\n",
       "    </tr>\n",
       "  </tbody>\n",
       "</table>\n",
       "</div>"
      ],
      "text/plain": [
       "   Event year                     Territory  1st order fertility rate  \\\n",
       "0        1992                      Piemonte                        60   \n",
       "1        1992  Valle d'Aosta/Vallée d'Aoste                        59   \n",
       "2        1992                       Liguria                        59   \n",
       "3        1992                     Lombardia                        60   \n",
       "4        1992  Trentino-Alto Adige/Südtirol                        71   \n",
       "\n",
       "   2nd order fertility rate  3rd order and more fertility rate  \\\n",
       "0                        38                                 10   \n",
       "1                        41                                 11   \n",
       "2                        35                                  8   \n",
       "3                        40                                 12   \n",
       "4                        49                                 21   \n",
       "\n",
       "   Total fertility rate  Notes  \n",
       "0                   108    NaN  \n",
       "1                   110    NaN  \n",
       "2                   103    NaN  \n",
       "3                   112    NaN  \n",
       "4                   142    NaN  "
      ]
     },
     "execution_count": 215,
     "metadata": {},
     "output_type": "execute_result"
    }
   ],
   "source": [
    "# Read the CSV file. The file has been constructed in a wrong way, so we need to fix it\n",
    "regional_fertility = pd.read_csv('Fertility.csv')\n",
    "regional_fertility.head()"
   ]
  },
  {
   "cell_type": "code",
   "execution_count": 216,
   "metadata": {},
   "outputs": [
    {
     "data": {
      "text/html": [
       "<div>\n",
       "<style scoped>\n",
       "    .dataframe tbody tr th:only-of-type {\n",
       "        vertical-align: middle;\n",
       "    }\n",
       "\n",
       "    .dataframe tbody tr th {\n",
       "        vertical-align: top;\n",
       "    }\n",
       "\n",
       "    .dataframe thead th {\n",
       "        text-align: right;\n",
       "    }\n",
       "</style>\n",
       "<table border=\"1\" class=\"dataframe\">\n",
       "  <thead>\n",
       "    <tr style=\"text-align: right;\">\n",
       "      <th></th>\n",
       "      <th>Territory</th>\n",
       "      <th>Total fertility rate</th>\n",
       "      <th>Event year</th>\n",
       "    </tr>\n",
       "  </thead>\n",
       "  <tbody>\n",
       "    <tr>\n",
       "      <th>0</th>\n",
       "      <td>Piemonte</td>\n",
       "      <td>108</td>\n",
       "      <td>1992</td>\n",
       "    </tr>\n",
       "    <tr>\n",
       "      <th>1</th>\n",
       "      <td>Valle d'Aosta/Vallée d'Aoste</td>\n",
       "      <td>110</td>\n",
       "      <td>1992</td>\n",
       "    </tr>\n",
       "    <tr>\n",
       "      <th>2</th>\n",
       "      <td>Liguria</td>\n",
       "      <td>103</td>\n",
       "      <td>1992</td>\n",
       "    </tr>\n",
       "    <tr>\n",
       "      <th>3</th>\n",
       "      <td>Lombardia</td>\n",
       "      <td>112</td>\n",
       "      <td>1992</td>\n",
       "    </tr>\n",
       "    <tr>\n",
       "      <th>4</th>\n",
       "      <td>Trentino-Alto Adige/Südtirol</td>\n",
       "      <td>142</td>\n",
       "      <td>1992</td>\n",
       "    </tr>\n",
       "  </tbody>\n",
       "</table>\n",
       "</div>"
      ],
      "text/plain": [
       "                      Territory  Total fertility rate  Event year\n",
       "0                      Piemonte                   108        1992\n",
       "1  Valle d'Aosta/Vallée d'Aoste                   110        1992\n",
       "2                       Liguria                   103        1992\n",
       "3                     Lombardia                   112        1992\n",
       "4  Trentino-Alto Adige/Südtirol                   142        1992"
      ]
     },
     "execution_count": 216,
     "metadata": {},
     "output_type": "execute_result"
    }
   ],
   "source": [
    "#keep only variables of interest \n",
    "keep_vars = ['Territory', 'Total fertility rate', 'Event year']\n",
    "regional_fertility = regional_fertility[keep_vars]\n",
    "regional_fertility.head()"
   ]
  },
  {
   "cell_type": "code",
   "execution_count": 217,
   "metadata": {},
   "outputs": [],
   "source": [
    "# Function to insert dot after first digit in a string of lenght 3 or 0. if the string has length 2\n",
    "def insert_dot(value):\n",
    "    if len(str(value)) == 2:\n",
    "        return '0.' + str(value)\n",
    "    return str(value)[:1] + '.' + str(value)[1:]\n",
    "\n",
    "# Apply the function to the '2021' column\n",
    "regional_fertility['Total fertility rate'] = regional_fertility['Total fertility rate'].apply(lambda x: insert_dot(x))\n",
    "# Convert the '2021' column to integers\n",
    "regional_fertility['Total fertility rate'] = regional_fertility['Total fertility rate'].astype(float)\n",
    "\n",
    "# Rename the columns\n",
    "regional_fertility.rename(columns={'Territory': 'region', 'Total fertility rate': 'total_fertility_rate', 'Event year': 'year'}, inplace=True)"
   ]
  },
  {
   "cell_type": "code",
   "execution_count": 227,
   "metadata": {},
   "outputs": [
    {
     "data": {
      "text/html": [
       "<div>\n",
       "<style scoped>\n",
       "    .dataframe tbody tr th:only-of-type {\n",
       "        vertical-align: middle;\n",
       "    }\n",
       "\n",
       "    .dataframe tbody tr th {\n",
       "        vertical-align: top;\n",
       "    }\n",
       "\n",
       "    .dataframe thead th {\n",
       "        text-align: right;\n",
       "    }\n",
       "</style>\n",
       "<table border=\"1\" class=\"dataframe\">\n",
       "  <thead>\n",
       "    <tr style=\"text-align: right;\">\n",
       "      <th></th>\n",
       "      <th>region</th>\n",
       "      <th>total_fertility_rate</th>\n",
       "      <th>year</th>\n",
       "    </tr>\n",
       "  </thead>\n",
       "  <tbody>\n",
       "    <tr>\n",
       "      <th>237</th>\n",
       "      <td>Provincia Autonoma di Trento</td>\n",
       "      <td>1.41</td>\n",
       "      <td>2003</td>\n",
       "    </tr>\n",
       "    <tr>\n",
       "      <th>390</th>\n",
       "      <td>Sardegna</td>\n",
       "      <td>1.16</td>\n",
       "      <td>2009</td>\n",
       "    </tr>\n",
       "    <tr>\n",
       "      <th>338</th>\n",
       "      <td>Molise</td>\n",
       "      <td>1.18</td>\n",
       "      <td>2007</td>\n",
       "    </tr>\n",
       "    <tr>\n",
       "      <th>17</th>\n",
       "      <td>Calabria</td>\n",
       "      <td>1.64</td>\n",
       "      <td>1992</td>\n",
       "    </tr>\n",
       "    <tr>\n",
       "      <th>492</th>\n",
       "      <td>Friuli-Venezia Giulia</td>\n",
       "      <td>1.39</td>\n",
       "      <td>2014</td>\n",
       "    </tr>\n",
       "    <tr>\n",
       "      <th>371</th>\n",
       "      <td>Liguria</td>\n",
       "      <td>1.36</td>\n",
       "      <td>2009</td>\n",
       "    </tr>\n",
       "    <tr>\n",
       "      <th>483</th>\n",
       "      <td>Italia</td>\n",
       "      <td>1.39</td>\n",
       "      <td>2013</td>\n",
       "    </tr>\n",
       "    <tr>\n",
       "      <th>479</th>\n",
       "      <td>Basilicata</td>\n",
       "      <td>1.13</td>\n",
       "      <td>2013</td>\n",
       "    </tr>\n",
       "    <tr>\n",
       "      <th>658</th>\n",
       "      <td>Lazio</td>\n",
       "      <td>1.18</td>\n",
       "      <td>2021</td>\n",
       "    </tr>\n",
       "    <tr>\n",
       "      <th>27</th>\n",
       "      <td>Friuli-Venezia Giulia</td>\n",
       "      <td>0.96</td>\n",
       "      <td>1993</td>\n",
       "    </tr>\n",
       "  </tbody>\n",
       "</table>\n",
       "</div>"
      ],
      "text/plain": [
       "                           region  total_fertility_rate  year\n",
       "237  Provincia Autonoma di Trento                  1.41  2003\n",
       "390                      Sardegna                  1.16  2009\n",
       "338                        Molise                  1.18  2007\n",
       "17                       Calabria                  1.64  1992\n",
       "492         Friuli-Venezia Giulia                  1.39  2014\n",
       "371                       Liguria                  1.36  2009\n",
       "483                        Italia                  1.39  2013\n",
       "479                    Basilicata                  1.13  2013\n",
       "658                         Lazio                  1.18  2021\n",
       "27          Friuli-Venezia Giulia                  0.96  1993"
      ]
     },
     "execution_count": 227,
     "metadata": {},
     "output_type": "execute_result"
    }
   ],
   "source": [
    "regional_fertility.sample(10)"
   ]
  },
  {
   "cell_type": "code",
   "execution_count": 232,
   "metadata": {},
   "outputs": [],
   "source": [
    "# Create a figure for total factor productivity \n",
    "def plot(df,year):\n",
    "    I = df['year'] == year\n",
    "    plt.figure(figsize=(7, 5))\n",
    "\n",
    "# Subplot for Fertility Rate\n",
    "    plt.subplot(1, 1, 1)  \n",
    "    sns.histplot(data=df, x=df.loc[I,'total_fertility_rate'], bins=8, kde=True, color='lightgreen')\n",
    "    plt.xlabel('Fertility Rate')\n",
    "    plt.ylabel('Density')\n",
    "    plt.title(f'Fertility Rate in {year}')\n",
    "    plt.show()"
   ]
  },
  {
   "cell_type": "code",
   "execution_count": 92,
   "metadata": {},
   "outputs": [
    {
     "data": {
      "application/vnd.plotly.v1+json": {
       "config": {
        "plotlyServerURL": "https://plot.ly"
       },
       "data": [
        {
         "colorscale": [
          [
           0,
           "rgb(3, 35, 51)"
          ],
          [
           0.09090909090909091,
           "rgb(13, 48, 100)"
          ],
          [
           0.18181818181818182,
           "rgb(53, 50, 155)"
          ],
          [
           0.2727272727272727,
           "rgb(93, 62, 153)"
          ],
          [
           0.36363636363636365,
           "rgb(126, 77, 143)"
          ],
          [
           0.45454545454545453,
           "rgb(158, 89, 135)"
          ],
          [
           0.5454545454545454,
           "rgb(193, 100, 121)"
          ],
          [
           0.6363636363636364,
           "rgb(225, 113, 97)"
          ],
          [
           0.7272727272727273,
           "rgb(246, 139, 69)"
          ],
          [
           0.8181818181818182,
           "rgb(251, 173, 60)"
          ],
          [
           0.9090909090909091,
           "rgb(246, 211, 70)"
          ],
          [
           1,
           "rgb(231, 250, 90)"
          ]
         ],
         "featureidkey": "properties.reg_name",
         "geojson": "https://raw.githubusercontent.com/openpolis/geojson-italy/master/geojson/limits_IT_regions.geojson",
         "locations": [
          "Piemonte",
          "Valle d'Aosta/Vallée d'Aoste",
          "Liguria",
          "Lombardia",
          "Trentino-Alto Adige/Südtirol",
          "Provincia Autonoma di Bolzano",
          "Provincia Autonoma di Trento",
          "Veneto",
          "Friuli-Venezia Giulia",
          "Emilia-Romagna",
          "Toscana",
          "Umbria",
          "Marche",
          "Lazio",
          "Abruzzo",
          "Molise",
          "Campania",
          "Puglia",
          "Basilicata",
          "Calabria",
          "Sicilia",
          "Sardegna",
          "Italia"
         ],
         "showscale": true,
         "type": "choroplethmapbox",
         "z": [
          1.3,
          1.39,
          1.24,
          1.36,
          1.59,
          1.73,
          1.45,
          1.34,
          1.28,
          1.35,
          1.26,
          1.22,
          1.23,
          1.25,
          1.2,
          1.11,
          1.33,
          1.23,
          1.14,
          1.29,
          1.37,
          1.03,
          1.31
         ],
         "zauto": true
        }
       ],
       "layout": {
        "font": {
         "color": "black",
         "family": "Courier New, monospace"
        },
        "height": 850,
        "mapbox": {
         "center": {
          "lat": 41.63948698417683,
          "lon": 12.668218301890061
         },
         "style": "carto-positron",
         "zoom": 5.6
        },
        "template": {
         "data": {
          "bar": [
           {
            "error_x": {
             "color": "#2a3f5f"
            },
            "error_y": {
             "color": "#2a3f5f"
            },
            "marker": {
             "line": {
              "color": "#E5ECF6",
              "width": 0.5
             },
             "pattern": {
              "fillmode": "overlay",
              "size": 10,
              "solidity": 0.2
             }
            },
            "type": "bar"
           }
          ],
          "barpolar": [
           {
            "marker": {
             "line": {
              "color": "#E5ECF6",
              "width": 0.5
             },
             "pattern": {
              "fillmode": "overlay",
              "size": 10,
              "solidity": 0.2
             }
            },
            "type": "barpolar"
           }
          ],
          "carpet": [
           {
            "aaxis": {
             "endlinecolor": "#2a3f5f",
             "gridcolor": "white",
             "linecolor": "white",
             "minorgridcolor": "white",
             "startlinecolor": "#2a3f5f"
            },
            "baxis": {
             "endlinecolor": "#2a3f5f",
             "gridcolor": "white",
             "linecolor": "white",
             "minorgridcolor": "white",
             "startlinecolor": "#2a3f5f"
            },
            "type": "carpet"
           }
          ],
          "choropleth": [
           {
            "colorbar": {
             "outlinewidth": 0,
             "ticks": ""
            },
            "type": "choropleth"
           }
          ],
          "contour": [
           {
            "colorbar": {
             "outlinewidth": 0,
             "ticks": ""
            },
            "colorscale": [
             [
              0,
              "#0d0887"
             ],
             [
              0.1111111111111111,
              "#46039f"
             ],
             [
              0.2222222222222222,
              "#7201a8"
             ],
             [
              0.3333333333333333,
              "#9c179e"
             ],
             [
              0.4444444444444444,
              "#bd3786"
             ],
             [
              0.5555555555555556,
              "#d8576b"
             ],
             [
              0.6666666666666666,
              "#ed7953"
             ],
             [
              0.7777777777777778,
              "#fb9f3a"
             ],
             [
              0.8888888888888888,
              "#fdca26"
             ],
             [
              1,
              "#f0f921"
             ]
            ],
            "type": "contour"
           }
          ],
          "contourcarpet": [
           {
            "colorbar": {
             "outlinewidth": 0,
             "ticks": ""
            },
            "type": "contourcarpet"
           }
          ],
          "heatmap": [
           {
            "colorbar": {
             "outlinewidth": 0,
             "ticks": ""
            },
            "colorscale": [
             [
              0,
              "#0d0887"
             ],
             [
              0.1111111111111111,
              "#46039f"
             ],
             [
              0.2222222222222222,
              "#7201a8"
             ],
             [
              0.3333333333333333,
              "#9c179e"
             ],
             [
              0.4444444444444444,
              "#bd3786"
             ],
             [
              0.5555555555555556,
              "#d8576b"
             ],
             [
              0.6666666666666666,
              "#ed7953"
             ],
             [
              0.7777777777777778,
              "#fb9f3a"
             ],
             [
              0.8888888888888888,
              "#fdca26"
             ],
             [
              1,
              "#f0f921"
             ]
            ],
            "type": "heatmap"
           }
          ],
          "heatmapgl": [
           {
            "colorbar": {
             "outlinewidth": 0,
             "ticks": ""
            },
            "colorscale": [
             [
              0,
              "#0d0887"
             ],
             [
              0.1111111111111111,
              "#46039f"
             ],
             [
              0.2222222222222222,
              "#7201a8"
             ],
             [
              0.3333333333333333,
              "#9c179e"
             ],
             [
              0.4444444444444444,
              "#bd3786"
             ],
             [
              0.5555555555555556,
              "#d8576b"
             ],
             [
              0.6666666666666666,
              "#ed7953"
             ],
             [
              0.7777777777777778,
              "#fb9f3a"
             ],
             [
              0.8888888888888888,
              "#fdca26"
             ],
             [
              1,
              "#f0f921"
             ]
            ],
            "type": "heatmapgl"
           }
          ],
          "histogram": [
           {
            "marker": {
             "pattern": {
              "fillmode": "overlay",
              "size": 10,
              "solidity": 0.2
             }
            },
            "type": "histogram"
           }
          ],
          "histogram2d": [
           {
            "colorbar": {
             "outlinewidth": 0,
             "ticks": ""
            },
            "colorscale": [
             [
              0,
              "#0d0887"
             ],
             [
              0.1111111111111111,
              "#46039f"
             ],
             [
              0.2222222222222222,
              "#7201a8"
             ],
             [
              0.3333333333333333,
              "#9c179e"
             ],
             [
              0.4444444444444444,
              "#bd3786"
             ],
             [
              0.5555555555555556,
              "#d8576b"
             ],
             [
              0.6666666666666666,
              "#ed7953"
             ],
             [
              0.7777777777777778,
              "#fb9f3a"
             ],
             [
              0.8888888888888888,
              "#fdca26"
             ],
             [
              1,
              "#f0f921"
             ]
            ],
            "type": "histogram2d"
           }
          ],
          "histogram2dcontour": [
           {
            "colorbar": {
             "outlinewidth": 0,
             "ticks": ""
            },
            "colorscale": [
             [
              0,
              "#0d0887"
             ],
             [
              0.1111111111111111,
              "#46039f"
             ],
             [
              0.2222222222222222,
              "#7201a8"
             ],
             [
              0.3333333333333333,
              "#9c179e"
             ],
             [
              0.4444444444444444,
              "#bd3786"
             ],
             [
              0.5555555555555556,
              "#d8576b"
             ],
             [
              0.6666666666666666,
              "#ed7953"
             ],
             [
              0.7777777777777778,
              "#fb9f3a"
             ],
             [
              0.8888888888888888,
              "#fdca26"
             ],
             [
              1,
              "#f0f921"
             ]
            ],
            "type": "histogram2dcontour"
           }
          ],
          "mesh3d": [
           {
            "colorbar": {
             "outlinewidth": 0,
             "ticks": ""
            },
            "type": "mesh3d"
           }
          ],
          "parcoords": [
           {
            "line": {
             "colorbar": {
              "outlinewidth": 0,
              "ticks": ""
             }
            },
            "type": "parcoords"
           }
          ],
          "pie": [
           {
            "automargin": true,
            "type": "pie"
           }
          ],
          "scatter": [
           {
            "fillpattern": {
             "fillmode": "overlay",
             "size": 10,
             "solidity": 0.2
            },
            "type": "scatter"
           }
          ],
          "scatter3d": [
           {
            "line": {
             "colorbar": {
              "outlinewidth": 0,
              "ticks": ""
             }
            },
            "marker": {
             "colorbar": {
              "outlinewidth": 0,
              "ticks": ""
             }
            },
            "type": "scatter3d"
           }
          ],
          "scattercarpet": [
           {
            "marker": {
             "colorbar": {
              "outlinewidth": 0,
              "ticks": ""
             }
            },
            "type": "scattercarpet"
           }
          ],
          "scattergeo": [
           {
            "marker": {
             "colorbar": {
              "outlinewidth": 0,
              "ticks": ""
             }
            },
            "type": "scattergeo"
           }
          ],
          "scattergl": [
           {
            "marker": {
             "colorbar": {
              "outlinewidth": 0,
              "ticks": ""
             }
            },
            "type": "scattergl"
           }
          ],
          "scattermapbox": [
           {
            "marker": {
             "colorbar": {
              "outlinewidth": 0,
              "ticks": ""
             }
            },
            "type": "scattermapbox"
           }
          ],
          "scatterpolar": [
           {
            "marker": {
             "colorbar": {
              "outlinewidth": 0,
              "ticks": ""
             }
            },
            "type": "scatterpolar"
           }
          ],
          "scatterpolargl": [
           {
            "marker": {
             "colorbar": {
              "outlinewidth": 0,
              "ticks": ""
             }
            },
            "type": "scatterpolargl"
           }
          ],
          "scatterternary": [
           {
            "marker": {
             "colorbar": {
              "outlinewidth": 0,
              "ticks": ""
             }
            },
            "type": "scatterternary"
           }
          ],
          "surface": [
           {
            "colorbar": {
             "outlinewidth": 0,
             "ticks": ""
            },
            "colorscale": [
             [
              0,
              "#0d0887"
             ],
             [
              0.1111111111111111,
              "#46039f"
             ],
             [
              0.2222222222222222,
              "#7201a8"
             ],
             [
              0.3333333333333333,
              "#9c179e"
             ],
             [
              0.4444444444444444,
              "#bd3786"
             ],
             [
              0.5555555555555556,
              "#d8576b"
             ],
             [
              0.6666666666666666,
              "#ed7953"
             ],
             [
              0.7777777777777778,
              "#fb9f3a"
             ],
             [
              0.8888888888888888,
              "#fdca26"
             ],
             [
              1,
              "#f0f921"
             ]
            ],
            "type": "surface"
           }
          ],
          "table": [
           {
            "cells": {
             "fill": {
              "color": "#EBF0F8"
             },
             "line": {
              "color": "white"
             }
            },
            "header": {
             "fill": {
              "color": "#C8D4E3"
             },
             "line": {
              "color": "white"
             }
            },
            "type": "table"
           }
          ]
         },
         "layout": {
          "annotationdefaults": {
           "arrowcolor": "#2a3f5f",
           "arrowhead": 0,
           "arrowwidth": 1
          },
          "autotypenumbers": "strict",
          "coloraxis": {
           "colorbar": {
            "outlinewidth": 0,
            "ticks": ""
           }
          },
          "colorscale": {
           "diverging": [
            [
             0,
             "#8e0152"
            ],
            [
             0.1,
             "#c51b7d"
            ],
            [
             0.2,
             "#de77ae"
            ],
            [
             0.3,
             "#f1b6da"
            ],
            [
             0.4,
             "#fde0ef"
            ],
            [
             0.5,
             "#f7f7f7"
            ],
            [
             0.6,
             "#e6f5d0"
            ],
            [
             0.7,
             "#b8e186"
            ],
            [
             0.8,
             "#7fbc41"
            ],
            [
             0.9,
             "#4d9221"
            ],
            [
             1,
             "#276419"
            ]
           ],
           "sequential": [
            [
             0,
             "#0d0887"
            ],
            [
             0.1111111111111111,
             "#46039f"
            ],
            [
             0.2222222222222222,
             "#7201a8"
            ],
            [
             0.3333333333333333,
             "#9c179e"
            ],
            [
             0.4444444444444444,
             "#bd3786"
            ],
            [
             0.5555555555555556,
             "#d8576b"
            ],
            [
             0.6666666666666666,
             "#ed7953"
            ],
            [
             0.7777777777777778,
             "#fb9f3a"
            ],
            [
             0.8888888888888888,
             "#fdca26"
            ],
            [
             1,
             "#f0f921"
            ]
           ],
           "sequentialminus": [
            [
             0,
             "#0d0887"
            ],
            [
             0.1111111111111111,
             "#46039f"
            ],
            [
             0.2222222222222222,
             "#7201a8"
            ],
            [
             0.3333333333333333,
             "#9c179e"
            ],
            [
             0.4444444444444444,
             "#bd3786"
            ],
            [
             0.5555555555555556,
             "#d8576b"
            ],
            [
             0.6666666666666666,
             "#ed7953"
            ],
            [
             0.7777777777777778,
             "#fb9f3a"
            ],
            [
             0.8888888888888888,
             "#fdca26"
            ],
            [
             1,
             "#f0f921"
            ]
           ]
          },
          "colorway": [
           "#636efa",
           "#EF553B",
           "#00cc96",
           "#ab63fa",
           "#FFA15A",
           "#19d3f3",
           "#FF6692",
           "#B6E880",
           "#FF97FF",
           "#FECB52"
          ],
          "font": {
           "color": "#2a3f5f"
          },
          "geo": {
           "bgcolor": "white",
           "lakecolor": "white",
           "landcolor": "#E5ECF6",
           "showlakes": true,
           "showland": true,
           "subunitcolor": "white"
          },
          "hoverlabel": {
           "align": "left"
          },
          "hovermode": "closest",
          "mapbox": {
           "style": "light"
          },
          "paper_bgcolor": "white",
          "plot_bgcolor": "#E5ECF6",
          "polar": {
           "angularaxis": {
            "gridcolor": "white",
            "linecolor": "white",
            "ticks": ""
           },
           "bgcolor": "#E5ECF6",
           "radialaxis": {
            "gridcolor": "white",
            "linecolor": "white",
            "ticks": ""
           }
          },
          "scene": {
           "xaxis": {
            "backgroundcolor": "#E5ECF6",
            "gridcolor": "white",
            "gridwidth": 2,
            "linecolor": "white",
            "showbackground": true,
            "ticks": "",
            "zerolinecolor": "white"
           },
           "yaxis": {
            "backgroundcolor": "#E5ECF6",
            "gridcolor": "white",
            "gridwidth": 2,
            "linecolor": "white",
            "showbackground": true,
            "ticks": "",
            "zerolinecolor": "white"
           },
           "zaxis": {
            "backgroundcolor": "#E5ECF6",
            "gridcolor": "white",
            "gridwidth": 2,
            "linecolor": "white",
            "showbackground": true,
            "ticks": "",
            "zerolinecolor": "white"
           }
          },
          "shapedefaults": {
           "line": {
            "color": "#2a3f5f"
           }
          },
          "ternary": {
           "aaxis": {
            "gridcolor": "white",
            "linecolor": "white",
            "ticks": ""
           },
           "baxis": {
            "gridcolor": "white",
            "linecolor": "white",
            "ticks": ""
           },
           "bgcolor": "#E5ECF6",
           "caxis": {
            "gridcolor": "white",
            "linecolor": "white",
            "ticks": ""
           }
          },
          "title": {
           "x": 0.05
          },
          "xaxis": {
           "automargin": true,
           "gridcolor": "white",
           "linecolor": "white",
           "ticks": "",
           "title": {
            "standoff": 15
           },
           "zerolinecolor": "white",
           "zerolinewidth": 2
          },
          "yaxis": {
           "automargin": true,
           "gridcolor": "white",
           "linecolor": "white",
           "ticks": "",
           "title": {
            "standoff": 15
           },
           "zerolinecolor": "white",
           "zerolinewidth": 2
          }
         }
        },
        "title": {
         "text": "Fertility Rate in Italian Regions"
        },
        "width": 1000
       }
      }
     },
     "metadata": {},
     "output_type": "display_data"
    }
   ],
   "source": [
    "\n",
    "\n",
    "# Raw URL to the GeoJSON file\n",
    "geojson_url = 'https://raw.githubusercontent.com/openpolis/geojson-italy/master/geojson/limits_IT_regions.geojson'\n",
    "\n",
    "# Assuming you have 'regional_fertility' DataFrame with fertility data for Italian regions\n",
    "\n",
    "# Create a choropleth map figure for Italian regions\n",
    "fig = go.Figure(\n",
    "    go.Choroplethmapbox(\n",
    "        \n",
    "        # Assign GeoJSON file\n",
    "        geojson=geojson_url,\n",
    "        \n",
    "        # Assign feature key from GeoJSON\n",
    "        featureidkey='properties.reg_name',\n",
    "        \n",
    "        # Assign location data\n",
    "        locations=regional_fertility['Territory'],\n",
    "        \n",
    "        # Assign information/value data\n",
    "        z=regional_fertility['2018'],\n",
    "        zauto=True,\n",
    "        \n",
    "        # Assign colorscale to be used\n",
    "        colorscale='thermal',\n",
    "        showscale=True,\n",
    "    )\n",
    ")\n",
    "\n",
    "# Update layout\n",
    "fig.update_layout(\n",
    "    \n",
    "    # Decide a style for the map\n",
    "    mapbox_style='carto-positron',\n",
    "    \n",
    "    # Zoom in scale\n",
    "    mapbox_zoom=5.6, \n",
    "    \n",
    "    # Center location of the map using relevant coordinates for Italy\n",
    "    mapbox_center={'lat':41.63948698417683, 'lon': 12.668218301890061}\n",
    ",\n",
    "    \n",
    "    # Setting width of figure and hereafter height\n",
    "    width=1000,\n",
    "    height=850,\n",
    "    \n",
    "    # Setting title, font, and text color \n",
    "    title_text='Fertility Rate in Italian Regions',\n",
    "    font=dict(\n",
    "        family='Courier New, monospace',\n",
    "        color='black',\n",
    "    )\n",
    ")\n",
    "\n",
    "# Display figure\n",
    "fig.show()\n"
   ]
  },
  {
   "cell_type": "markdown",
   "metadata": {},
   "source": [
    "## Explore each data set"
   ]
  },
  {
   "cell_type": "markdown",
   "metadata": {},
   "source": [
    "# Analysis"
   ]
  },
  {
   "cell_type": "markdown",
   "metadata": {},
   "source": [
    "To get a quick overview of the data, we show some **summary statistics** on a meaningful aggregation. "
   ]
  },
  {
   "cell_type": "markdown",
   "metadata": {},
   "source": [
    "MAKE FURTHER ANALYSIS. EXPLAIN THE CODE BRIEFLY AND SUMMARIZE THE RESULTS."
   ]
  },
  {
   "cell_type": "markdown",
   "metadata": {},
   "source": [
    "# Conclusion"
   ]
  },
  {
   "cell_type": "markdown",
   "metadata": {},
   "source": [
    "ADD CONCISE CONLUSION."
   ]
  }
 ],
 "metadata": {
  "kernelspec": {
   "display_name": "base",
   "language": "python",
   "name": "python3"
  },
  "language_info": {
   "codemirror_mode": {
    "name": "ipython",
    "version": 3
   },
   "file_extension": ".py",
   "mimetype": "text/x-python",
   "name": "python",
   "nbconvert_exporter": "python",
   "pygments_lexer": "ipython3",
   "version": "3.11.7"
  },
  "toc-autonumbering": true,
  "vscode": {
   "interpreter": {
    "hash": "47ef90cdf3004d3f859f1fb202523c65c07ba7c22eefd261b181f4744e2d0403"
   }
  }
 },
 "nbformat": 4,
 "nbformat_minor": 4
}

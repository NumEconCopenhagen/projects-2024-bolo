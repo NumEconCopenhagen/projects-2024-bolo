{
 "cells": [
  {
   "cell_type": "markdown",
   "metadata": {},
   "source": [
    "# Data project: Italy, patterns of its Aging problem"
   ]
  },
  {
   "cell_type": "markdown",
   "metadata": {},
   "source": [
    "**Table of contents**<a id='toc0_'></a>    \n",
    "-  [Imports](#toc1_)      \n",
    " - [Read and clean data](#toc2_) \n",
    "  - [Analysis](#toc3_)   \n",
    "  - [Conclusion](#toc4_)   \n",
    "\n",
    "\n",
    "\n",
    "\n",
    "\n",
    "\n",
    "\n",
    "\n",
    "\n",
    "\n",
    "\n",
    "<!-- vscode-jupyter-toc-config\n",
    "\tnumbering=true\n",
    "\tanchor=true\n",
    "\tflat=false\n",
    "\tminLevel=2\n",
    "\tmaxLevel=6\n",
    "\t/vscode-jupyter-toc-config -->\n",
    "<!-- THIS CELL WILL BE REPLACED ON TOC UPDATE. DO NOT WRITE YOUR TEXT IN THIS CELL -->"
   ]
  },
  {
   "cell_type": "markdown",
   "metadata": {},
   "source": [
    "This project studies Italy's demographic data over the last 30 years and  attempts at identifying patterns for future policy making.\n",
    "The analysis is carried through different datasets: some from DemoIstat, a few with information on resident population by year, gender, age and region for the years 1992 to 2021 and one with forecasted population data for the next 50 years; two from the World Bank with observations organized by birth rate and fertility rate. \n",
    "After manipulating the data to shape a final dataset, we presented our analysis of the demographic patterns in the country.\n"
   ]
  },
  {
   "cell_type": "markdown",
   "metadata": {},
   "source": [
    "##  <a id='toc1_'></a>[Imports](#toc0_)"
   ]
  },
  {
   "cell_type": "code",
   "execution_count": 6,
   "metadata": {},
   "outputs": [
    {
     "name": "stdout",
     "output_type": "stream",
     "text": [
      "The autoreload extension is already loaded. To reload it, use:\n",
      "  %reload_ext autoreload\n"
     ]
    }
   ],
   "source": [
    "import pandas as pd\n",
    "import numpy as np\n",
    "import matplotlib.pyplot as plt\n",
    "import ipywidgets as widgets\n",
    "import plotly.graph_objects as go\n",
    "import glob\n",
    "# autoreload modules when code is run\n",
    "%load_ext autoreload\n",
    "%autoreload 2\n",
    "# user written modules\n",
    "from pandas_datareader import wb\n",
    "import seaborn as sns\n",
    "import plotly.graph_objs as go\n",
    "from plotly.offline import iplot\n",
    "from dataproject import dataproject\n",
    "import matplotlib.ticker as ticker\n"
   ]
  },
  {
   "cell_type": "markdown",
   "metadata": {},
   "source": [
    "##  <a id='toc2_'></a>[Read and clean data](#toc0_)"
   ]
  },
  {
   "cell_type": "markdown",
   "metadata": {},
   "source": [
    "Data from 1992 to 2001 is downloaded and cleaned in various steps. The operations are conducted within classes as to improve readability."
   ]
  },
  {
   "cell_type": "code",
   "execution_count": 7,
   "metadata": {},
   "outputs": [],
   "source": [
    "#An istance of the class is created\n",
    "project = dataproject()"
   ]
  },
  {
   "cell_type": "markdown",
   "metadata": {},
   "source": [
    "In a first preliminary exploaration of demographic patterns, data from DemoIstat from 1992 to 2001 is downloaded \n",
    "and the different datasets are merged into a single dataset through an outer join, i.e. all records from the data frames are included in the result"
   ]
  },
  {
   "cell_type": "code",
   "execution_count": 3,
   "metadata": {},
   "outputs": [
    {
     "data": {
      "text/html": [
       "<div>\n",
       "<style scoped>\n",
       "    .dataframe tbody tr th:only-of-type {\n",
       "        vertical-align: middle;\n",
       "    }\n",
       "\n",
       "    .dataframe tbody tr th {\n",
       "        vertical-align: top;\n",
       "    }\n",
       "\n",
       "    .dataframe thead th {\n",
       "        text-align: right;\n",
       "    }\n",
       "</style>\n",
       "<table border=\"1\" class=\"dataframe\">\n",
       "  <thead>\n",
       "    <tr style=\"text-align: right;\">\n",
       "      <th></th>\n",
       "      <th>Age</th>\n",
       "      <th>Sex</th>\n",
       "      <th>1992</th>\n",
       "      <th>1993</th>\n",
       "      <th>1994</th>\n",
       "      <th>1995</th>\n",
       "      <th>1996</th>\n",
       "      <th>1997</th>\n",
       "      <th>1998</th>\n",
       "      <th>1999</th>\n",
       "      <th>...</th>\n",
       "      <th>2010</th>\n",
       "      <th>2011</th>\n",
       "      <th>2012</th>\n",
       "      <th>2013</th>\n",
       "      <th>2014</th>\n",
       "      <th>2015</th>\n",
       "      <th>2016</th>\n",
       "      <th>2017</th>\n",
       "      <th>2018</th>\n",
       "      <th>2019</th>\n",
       "    </tr>\n",
       "  </thead>\n",
       "  <tbody>\n",
       "    <tr>\n",
       "      <th>0</th>\n",
       "      <td>0</td>\n",
       "      <td>Males</td>\n",
       "      <td>262256</td>\n",
       "      <td>293100</td>\n",
       "      <td>281875</td>\n",
       "      <td>274171</td>\n",
       "      <td>269122</td>\n",
       "      <td>273472</td>\n",
       "      <td>273404</td>\n",
       "      <td>270959</td>\n",
       "      <td>...</td>\n",
       "      <td>289377</td>\n",
       "      <td>284926</td>\n",
       "      <td>276371</td>\n",
       "      <td>274396</td>\n",
       "      <td>263091</td>\n",
       "      <td>257024</td>\n",
       "      <td>248474</td>\n",
       "      <td>241228</td>\n",
       "      <td>234151</td>\n",
       "      <td>221685</td>\n",
       "    </tr>\n",
       "    <tr>\n",
       "      <th>1</th>\n",
       "      <td>0</td>\n",
       "      <td>Females</td>\n",
       "      <td>248552</td>\n",
       "      <td>277354</td>\n",
       "      <td>266660</td>\n",
       "      <td>258677</td>\n",
       "      <td>253857</td>\n",
       "      <td>258096</td>\n",
       "      <td>258674</td>\n",
       "      <td>255666</td>\n",
       "      <td>...</td>\n",
       "      <td>272945</td>\n",
       "      <td>268292</td>\n",
       "      <td>260976</td>\n",
       "      <td>259651</td>\n",
       "      <td>249049</td>\n",
       "      <td>242916</td>\n",
       "      <td>234503</td>\n",
       "      <td>228728</td>\n",
       "      <td>220915</td>\n",
       "      <td>209322</td>\n",
       "    </tr>\n",
       "    <tr>\n",
       "      <th>2</th>\n",
       "      <td>0</td>\n",
       "      <td>Total</td>\n",
       "      <td>510808</td>\n",
       "      <td>570454</td>\n",
       "      <td>548535</td>\n",
       "      <td>532848</td>\n",
       "      <td>522979</td>\n",
       "      <td>531568</td>\n",
       "      <td>532078</td>\n",
       "      <td>526625</td>\n",
       "      <td>...</td>\n",
       "      <td>562322</td>\n",
       "      <td>553218</td>\n",
       "      <td>537347</td>\n",
       "      <td>534047</td>\n",
       "      <td>512140</td>\n",
       "      <td>499940</td>\n",
       "      <td>482977</td>\n",
       "      <td>469956</td>\n",
       "      <td>455066</td>\n",
       "      <td>431007</td>\n",
       "    </tr>\n",
       "    <tr>\n",
       "      <th>3</th>\n",
       "      <td>1</td>\n",
       "      <td>Males</td>\n",
       "      <td>267914</td>\n",
       "      <td>264589</td>\n",
       "      <td>292378</td>\n",
       "      <td>280911</td>\n",
       "      <td>273119</td>\n",
       "      <td>268728</td>\n",
       "      <td>271549</td>\n",
       "      <td>270301</td>\n",
       "      <td>...</td>\n",
       "      <td>292642</td>\n",
       "      <td>288996</td>\n",
       "      <td>284199</td>\n",
       "      <td>277263</td>\n",
       "      <td>274308</td>\n",
       "      <td>262728</td>\n",
       "      <td>256954</td>\n",
       "      <td>248341</td>\n",
       "      <td>241422</td>\n",
       "      <td>234386</td>\n",
       "    </tr>\n",
       "    <tr>\n",
       "      <th>4</th>\n",
       "      <td>1</td>\n",
       "      <td>Females</td>\n",
       "      <td>255186</td>\n",
       "      <td>251203</td>\n",
       "      <td>276723</td>\n",
       "      <td>265953</td>\n",
       "      <td>258026</td>\n",
       "      <td>253591</td>\n",
       "      <td>256424</td>\n",
       "      <td>255967</td>\n",
       "      <td>...</td>\n",
       "      <td>277321</td>\n",
       "      <td>272698</td>\n",
       "      <td>267521</td>\n",
       "      <td>261900</td>\n",
       "      <td>259608</td>\n",
       "      <td>248720</td>\n",
       "      <td>242753</td>\n",
       "      <td>234634</td>\n",
       "      <td>228990</td>\n",
       "      <td>221360</td>\n",
       "    </tr>\n",
       "  </tbody>\n",
       "</table>\n",
       "<p>5 rows × 30 columns</p>\n",
       "</div>"
      ],
      "text/plain": [
       "  Age      Sex    1992    1993    1994    1995    1996    1997    1998  \\\n",
       "0   0    Males  262256  293100  281875  274171  269122  273472  273404   \n",
       "1   0  Females  248552  277354  266660  258677  253857  258096  258674   \n",
       "2   0    Total  510808  570454  548535  532848  522979  531568  532078   \n",
       "3   1    Males  267914  264589  292378  280911  273119  268728  271549   \n",
       "4   1  Females  255186  251203  276723  265953  258026  253591  256424   \n",
       "\n",
       "     1999  ...    2010    2011    2012    2013    2014    2015    2016  \\\n",
       "0  270959  ...  289377  284926  276371  274396  263091  257024  248474   \n",
       "1  255666  ...  272945  268292  260976  259651  249049  242916  234503   \n",
       "2  526625  ...  562322  553218  537347  534047  512140  499940  482977   \n",
       "3  270301  ...  292642  288996  284199  277263  274308  262728  256954   \n",
       "4  255967  ...  277321  272698  267521  261900  259608  248720  242753   \n",
       "\n",
       "     2017    2018    2019  \n",
       "0  241228  234151  221685  \n",
       "1  228728  220915  209322  \n",
       "2  469956  455066  431007  \n",
       "3  248341  241422  234386  \n",
       "4  234634  228990  221360  \n",
       "\n",
       "[5 rows x 30 columns]"
      ]
     },
     "execution_count": 3,
     "metadata": {},
     "output_type": "execute_result"
    }
   ],
   "source": [
    "project.merge().head()"
   ]
  },
  {
   "cell_type": "markdown",
   "metadata": {},
   "source": [
    "Data cleaning is performed on the dataset: variables are renamed (in order not to have numbers as variable names); the dataset is reshaped and sorted by year and gender\n"
   ]
  },
  {
   "cell_type": "code",
   "execution_count": 4,
   "metadata": {},
   "outputs": [
    {
     "data": {
      "text/html": [
       "<div>\n",
       "<style scoped>\n",
       "    .dataframe tbody tr th:only-of-type {\n",
       "        vertical-align: middle;\n",
       "    }\n",
       "\n",
       "    .dataframe tbody tr th {\n",
       "        vertical-align: top;\n",
       "    }\n",
       "\n",
       "    .dataframe thead th {\n",
       "        text-align: right;\n",
       "    }\n",
       "</style>\n",
       "<table border=\"1\" class=\"dataframe\">\n",
       "  <thead>\n",
       "    <tr style=\"text-align: right;\">\n",
       "      <th></th>\n",
       "      <th>year</th>\n",
       "      <th>Age</th>\n",
       "      <th>Females</th>\n",
       "      <th>Males</th>\n",
       "      <th>Total</th>\n",
       "    </tr>\n",
       "  </thead>\n",
       "  <tbody>\n",
       "    <tr>\n",
       "      <th>0</th>\n",
       "      <td>1992</td>\n",
       "      <td>0</td>\n",
       "      <td>248552</td>\n",
       "      <td>262256</td>\n",
       "      <td>510808</td>\n",
       "    </tr>\n",
       "    <tr>\n",
       "      <th>1</th>\n",
       "      <td>1992</td>\n",
       "      <td>1</td>\n",
       "      <td>255186</td>\n",
       "      <td>267914</td>\n",
       "      <td>523100</td>\n",
       "    </tr>\n",
       "    <tr>\n",
       "      <th>2</th>\n",
       "      <td>1992</td>\n",
       "      <td>10</td>\n",
       "      <td>300206</td>\n",
       "      <td>313202</td>\n",
       "      <td>613408</td>\n",
       "    </tr>\n",
       "    <tr>\n",
       "      <th>3</th>\n",
       "      <td>1992</td>\n",
       "      <td>100 and over</td>\n",
       "      <td>2229</td>\n",
       "      <td>623</td>\n",
       "      <td>2852</td>\n",
       "    </tr>\n",
       "    <tr>\n",
       "      <th>4</th>\n",
       "      <td>1992</td>\n",
       "      <td>11</td>\n",
       "      <td>305720</td>\n",
       "      <td>319714</td>\n",
       "      <td>625434</td>\n",
       "    </tr>\n",
       "  </tbody>\n",
       "</table>\n",
       "</div>"
      ],
      "text/plain": [
       "   year           Age  Females   Males   Total\n",
       "0  1992             0   248552  262256  510808\n",
       "1  1992             1   255186  267914  523100\n",
       "2  1992            10   300206  313202  613408\n",
       "3  1992  100 and over     2229     623    2852\n",
       "4  1992            11   305720  319714  625434"
      ]
     },
     "execution_count": 4,
     "metadata": {},
     "output_type": "execute_result"
    }
   ],
   "source": [
    "project.cleaning().head()"
   ]
  },
  {
   "cell_type": "markdown",
   "metadata": {},
   "source": [
    "We append two datasets: one relative to 2020 and one for 2021"
   ]
  },
  {
   "cell_type": "code",
   "execution_count": 5,
   "metadata": {},
   "outputs": [
    {
     "data": {
      "text/html": [
       "<div>\n",
       "<style scoped>\n",
       "    .dataframe tbody tr th:only-of-type {\n",
       "        vertical-align: middle;\n",
       "    }\n",
       "\n",
       "    .dataframe tbody tr th {\n",
       "        vertical-align: top;\n",
       "    }\n",
       "\n",
       "    .dataframe thead th {\n",
       "        text-align: right;\n",
       "    }\n",
       "</style>\n",
       "<table border=\"1\" class=\"dataframe\">\n",
       "  <thead>\n",
       "    <tr style=\"text-align: right;\">\n",
       "      <th></th>\n",
       "      <th>year</th>\n",
       "      <th>Age</th>\n",
       "      <th>Females</th>\n",
       "      <th>Males</th>\n",
       "      <th>Total</th>\n",
       "    </tr>\n",
       "  </thead>\n",
       "  <tbody>\n",
       "    <tr>\n",
       "      <th>3055</th>\n",
       "      <td>2021</td>\n",
       "      <td>97</td>\n",
       "      <td>22849</td>\n",
       "      <td>6167</td>\n",
       "      <td>29016</td>\n",
       "    </tr>\n",
       "    <tr>\n",
       "      <th>3056</th>\n",
       "      <td>2021</td>\n",
       "      <td>98</td>\n",
       "      <td>16115</td>\n",
       "      <td>3998</td>\n",
       "      <td>20113</td>\n",
       "    </tr>\n",
       "    <tr>\n",
       "      <th>3057</th>\n",
       "      <td>2021</td>\n",
       "      <td>99</td>\n",
       "      <td>11109</td>\n",
       "      <td>2526</td>\n",
       "      <td>13635</td>\n",
       "    </tr>\n",
       "    <tr>\n",
       "      <th>3058</th>\n",
       "      <td>2021</td>\n",
       "      <td>100 and over</td>\n",
       "      <td>14330</td>\n",
       "      <td>2847</td>\n",
       "      <td>17177</td>\n",
       "    </tr>\n",
       "    <tr>\n",
       "      <th>3059</th>\n",
       "      <td>2021</td>\n",
       "      <td>Total</td>\n",
       "      <td>30369987</td>\n",
       "      <td>28866226</td>\n",
       "      <td>59236213</td>\n",
       "    </tr>\n",
       "  </tbody>\n",
       "</table>\n",
       "</div>"
      ],
      "text/plain": [
       "      year           Age   Females     Males     Total\n",
       "3055  2021            97     22849      6167     29016\n",
       "3056  2021            98     16115      3998     20113\n",
       "3057  2021            99     11109      2526     13635\n",
       "3058  2021  100 and over     14330      2847     17177\n",
       "3059  2021         Total  30369987  28866226  59236213"
      ]
     },
     "execution_count": 5,
     "metadata": {},
     "output_type": "execute_result"
    }
   ],
   "source": [
    "project.concat().tail()"
   ]
  },
  {
   "cell_type": "markdown",
   "metadata": {},
   "source": [
    "For the dataset to be sorted, the variable age is destringed and the variable age_group is created."
   ]
  },
  {
   "cell_type": "code",
   "execution_count": 10,
   "metadata": {},
   "outputs": [],
   "source": [
    "pop_italy_agg=project.construction_of_final_dataset()"
   ]
  },
  {
   "cell_type": "code",
   "execution_count": 11,
   "metadata": {},
   "outputs": [
    {
     "data": {
      "text/html": [
       "<div>\n",
       "<style scoped>\n",
       "    .dataframe tbody tr th:only-of-type {\n",
       "        vertical-align: middle;\n",
       "    }\n",
       "\n",
       "    .dataframe tbody tr th {\n",
       "        vertical-align: top;\n",
       "    }\n",
       "\n",
       "    .dataframe thead th {\n",
       "        text-align: right;\n",
       "    }\n",
       "</style>\n",
       "<table border=\"1\" class=\"dataframe\">\n",
       "  <thead>\n",
       "    <tr style=\"text-align: right;\">\n",
       "      <th></th>\n",
       "      <th>age_group</th>\n",
       "      <th>year</th>\n",
       "      <th>Males</th>\n",
       "      <th>Females</th>\n",
       "      <th>Total</th>\n",
       "    </tr>\n",
       "  </thead>\n",
       "  <tbody>\n",
       "    <tr>\n",
       "      <th>0</th>\n",
       "      <td>0-4</td>\n",
       "      <td>1992</td>\n",
       "      <td>1342186</td>\n",
       "      <td>1275839</td>\n",
       "      <td>2618025</td>\n",
       "    </tr>\n",
       "    <tr>\n",
       "      <th>1</th>\n",
       "      <td>5-9</td>\n",
       "      <td>1992</td>\n",
       "      <td>1440822</td>\n",
       "      <td>1376508</td>\n",
       "      <td>2817330</td>\n",
       "    </tr>\n",
       "    <tr>\n",
       "      <th>2</th>\n",
       "      <td>10-14</td>\n",
       "      <td>1992</td>\n",
       "      <td>1691555</td>\n",
       "      <td>1621899</td>\n",
       "      <td>3313454</td>\n",
       "    </tr>\n",
       "    <tr>\n",
       "      <th>3</th>\n",
       "      <td>15-19</td>\n",
       "      <td>1992</td>\n",
       "      <td>2140091</td>\n",
       "      <td>2062555</td>\n",
       "      <td>4202646</td>\n",
       "    </tr>\n",
       "    <tr>\n",
       "      <th>4</th>\n",
       "      <td>20-24</td>\n",
       "      <td>1992</td>\n",
       "      <td>2314913</td>\n",
       "      <td>2243348</td>\n",
       "      <td>4558261</td>\n",
       "    </tr>\n",
       "  </tbody>\n",
       "</table>\n",
       "</div>"
      ],
      "text/plain": [
       "  age_group  year    Males  Females    Total\n",
       "0       0-4  1992  1342186  1275839  2618025\n",
       "1       5-9  1992  1440822  1376508  2817330\n",
       "2     10-14  1992  1691555  1621899  3313454\n",
       "3     15-19  1992  2140091  2062555  4202646\n",
       "4     20-24  1992  2314913  2243348  4558261"
      ]
     },
     "execution_count": 11,
     "metadata": {},
     "output_type": "execute_result"
    }
   ],
   "source": [
    "pop_italy_agg.head()"
   ]
  },
  {
   "cell_type": "markdown",
   "metadata": {},
   "source": [
    " ## <a id='toc3_'></a>[Analysis](#toc0_)"
   ]
  },
  {
   "cell_type": "markdown",
   "metadata": {},
   "source": [
    "Now that we have explored and cleaned the dataset, we will now begin our analysis.\n",
    "\n",
    "In this project we aim to show the demographic changes in Italy spanning in the last 30 years. We will try to explore and illustrate the reasons for the demographic changes by including fertility and life expectancy rates. Furthermore we will include a quick dicussion on how these demographic changes could impact the Pay As You Go (PAYG) pension system, that us currently used in Italy.  The PAYG system relias on the working population to support the retired population and as such, fertility and mortality rates can significantly impact how sustainable this system is.\n",
    "\n"
   ]
  },
  {
   "cell_type": "markdown",
   "metadata": {},
   "source": [
    "The first thing we do is take a look at the population over the last 30 years with an interactive plot. The graph is interactive, so to see a specific age group, you need to choose it."
   ]
  },
  {
   "cell_type": "code",
   "execution_count": 12,
   "metadata": {},
   "outputs": [],
   "source": [
    "##a. Plot of Italy's total population by age_group from 1992 to 2021\n",
    "def plot_pop(df, age_group): \n",
    "    I = df['age_group'] == age_group\n",
    "    ax=df.loc[I,:].plot(x='year', y='Total', style='-o', legend=False)\n",
    "    ax.set_ylabel('Population')\n",
    "    ax.set_title(f'Population in age group {age_group}')"
   ]
  },
  {
   "cell_type": "code",
   "execution_count": 14,
   "metadata": {},
   "outputs": [
    {
     "data": {
      "application/vnd.jupyter.widget-view+json": {
       "model_id": "dc43321d16ca49c2b8788d8efebe76ec",
       "version_major": 2,
       "version_minor": 0
      },
      "text/plain": [
       "interactive(children=(Dropdown(description='Age_group', options=('0-4', '5-9', '10-14', '15-19', '20-24', '25-…"
      ]
     },
     "metadata": {},
     "output_type": "display_data"
    }
   ],
   "source": [
    "widgets.interact(plot_pop, \n",
    "    df = widgets.fixed(pop_italy_agg),\n",
    "    age_group = widgets.Dropdown(description='Age_group', \n",
    "                                    options=pop_italy_agg['age_group'].unique(), \n",
    "                                    value='0-4')\n",
    ");"
   ]
  },
  {
   "cell_type": "markdown",
   "metadata": {},
   "source": [
    "Graph 1. Over the years between 1992 and 2021, younger age groups from 0-4 to 25-29 display a quasi-linear pattern of decrease. Age groups between 30-34 to 40-44 experience a more variable pattern, with peaks of observations at different points within our dataframe, but in recent years, approximately from 2005, they also exhibit a decline.\n",
    "Conversely, observations belonging to middle age to late adulthood, i.e. from 45-49 to 100+, evolve according to an increasing trend. Besides, all the age groups register a contraction between 2019 and 2021, the years of the Covid pandemic. Further dynamics could be investigated to explain the various patterns of variation between age groups over certain years. Overall, there exists an evident pattern of an aging population."
   ]
  },
  {
   "cell_type": "markdown",
   "metadata": {},
   "source": [
    "The second thing we do is take a look at the population over the last 30 years with a population pyramid. The graph is interactive, so to see a specific year, the slider needs to be used."
   ]
  },
  {
   "cell_type": "code",
   "execution_count": 15,
   "metadata": {},
   "outputs": [],
   "source": [
    "# Plotting the population by age group\n",
    "def plot_pop_pyramid(df, year): \n",
    "    I = df['year'] == year\n",
    "    with plt.style.context('fivethirtyeight'):\n",
    "        fig, ax = plt.subplots(figsize=(12, 10))\n",
    "        ax.barh(y=df.loc[I,'age_group'], width=df.loc[I,'Females'], color='#ee7a87', label='Female');\n",
    "        ax.barh(y=df.loc[I,'age_group'], width=-df.loc[I,'Males'], color='#4682b4', label='Male');\n",
    "\n",
    "        ax.grid(True)\n",
    "        ax.set_xlim(-3000000, 3000000)\n",
    "        ax.set_xticks(range(-3000000, 4000000, 1000000))\n",
    "        ax.set_xticklabels([\"{}M\".format(abs(i)//1000000) for i in range(-3000000, 4000000, 1000000)])\n",
    "        ax.set_xlabel('Population', fontsize=16, fontweight='bold')\n",
    "        ax.set_ylabel('Age group', fontsize=16, fontweight='bold')\n",
    "        ax.legend()\n",
    "        ax.set_title(f'Population Pyramid Chart in Italy in {year}', loc='left', pad=20, fontsize=25, fontweight='bold')"
   ]
  },
  {
   "cell_type": "code",
   "execution_count": 16,
   "metadata": {},
   "outputs": [
    {
     "data": {
      "application/vnd.jupyter.widget-view+json": {
       "model_id": "0c9db805769c4cea8243516f1751887f",
       "version_major": 2,
       "version_minor": 0
      },
      "text/plain": [
       "interactive(children=(IntSlider(value=1992, description='Year', max=2021, min=1992), Output()), _dom_classes=(…"
      ]
     },
     "metadata": {},
     "output_type": "display_data"
    }
   ],
   "source": [
    "# Create an interactive widget with a slider to choose the year\n",
    "widgets.interact(plot_pop_pyramid,\n",
    "                 df=widgets.fixed(pop_italy_agg),\n",
    "                 year=widgets.IntSlider(description='Year',\n",
    "                                        min=pop_italy_agg['year'].min(),\n",
    "                                        max=pop_italy_agg['year'].max(),\n",
    "                                        step=1,\n",
    "                                        value=pop_italy_agg['year'].min(),\n",
    "                                        continuous_update=True,\n",
    "                                        disabled = False)\n",
    ");"
   ]
  },
  {
   "cell_type": "markdown",
   "metadata": {},
   "source": [
    "The pyramide plot above shows how Italy's population evolved by age group over the years, from 1992 to 2021.  An aging pattern is evident: the numbers younger aged slims over the years, while the size of middle age groups and the elder's grows. Two the takeaways: on one hand a decrease in babies born, on the other an increase in life expectancy. Now we will look at the Birth rate and life expectancy for Italy, to better understand why the demographic is changing the way it is.\n",
    "\n",
    "Next, the Birth rate and Life Expectancy of the Italian population are analysed, to better understand why the demographic is evolving the way it does."
   ]
  },
  {
   "cell_type": "code",
   "execution_count": 17,
   "metadata": {},
   "outputs": [],
   "source": [
    "# Downloading life expectancy data for Italy\n",
    "wb_fr = wb.download(indicator='SP.DYN.LE00.IN', country=['IT'], start=1992, end=2021)\n",
    "wb_fr.reset_index(inplace=True)\n",
    "wb_fr.rename(columns={'SP.DYN.LE00.IN': 'life_expectancy'}, inplace=True)"
   ]
  },
  {
   "cell_type": "code",
   "execution_count": 18,
   "metadata": {},
   "outputs": [
    {
     "name": "stdout",
     "output_type": "stream",
     "text": [
      "<class 'pandas.core.frame.DataFrame'>\n",
      "RangeIndex: 30 entries, 0 to 29\n",
      "Data columns (total 3 columns):\n",
      " #   Column           Non-Null Count  Dtype  \n",
      "---  ------           --------------  -----  \n",
      " 0   country          30 non-null     object \n",
      " 1   year             30 non-null     object \n",
      " 2   life_expectancy  30 non-null     float64\n",
      "dtypes: float64(1), object(2)\n",
      "memory usage: 852.0+ bytes\n"
     ]
    }
   ],
   "source": [
    "#the variable year is an object but it should be an integer\n",
    "wb_fr.info()\n",
    "wb_fr['year'] = wb_fr['year'].astype(int)"
   ]
  },
  {
   "cell_type": "code",
   "execution_count": 19,
   "metadata": {},
   "outputs": [],
   "source": [
    "# Downloading birth rate data for Italy\n",
    "wb_birth = wb.download(indicator='SP.DYN.CBRT.IN', country=['IT'], start=1992, end=2021)\n",
    "wb_birth.reset_index(inplace=True)\n",
    "wb_birth.rename(columns={'SP.DYN.CBRT.IN': 'birth_rate'}, inplace=True)"
   ]
  },
  {
   "cell_type": "code",
   "execution_count": 20,
   "metadata": {},
   "outputs": [
    {
     "name": "stdout",
     "output_type": "stream",
     "text": [
      "<class 'pandas.core.frame.DataFrame'>\n",
      "RangeIndex: 30 entries, 0 to 29\n",
      "Data columns (total 3 columns):\n",
      " #   Column      Non-Null Count  Dtype  \n",
      "---  ------      --------------  -----  \n",
      " 0   country     30 non-null     object \n",
      " 1   year        30 non-null     object \n",
      " 2   birth_rate  30 non-null     float64\n",
      "dtypes: float64(1), object(2)\n",
      "memory usage: 852.0+ bytes\n"
     ]
    }
   ],
   "source": [
    "wb_birth.info()\n",
    "\n",
    "#the variable year is an object but it should be an integer\n",
    "wb_birth['year'] = wb_birth['year'].astype(int)"
   ]
  },
  {
   "cell_type": "code",
   "execution_count": 21,
   "metadata": {},
   "outputs": [],
   "source": [
    "# Merging dataframes on 'year'\n",
    "merged_df = pd.merge(wb_fr, wb_birth, how='outer',on='year')"
   ]
  },
  {
   "cell_type": "code",
   "execution_count": 22,
   "metadata": {},
   "outputs": [
    {
     "data": {
      "image/png": "[encoded data removed]",
      "text/plain": [
       "<Figure size 1000x500 with 2 Axes>"
      ]
     },
     "metadata": {},
     "output_type": "display_data"
    }
   ],
   "source": [
    "# Creating a figure and axis object\n",
    "fig, ax1 = plt.subplots(figsize=(10, 5))\n",
    "\n",
    "# Plotting life expectancy on primary y-axis\n",
    "ax1.plot(merged_df['year'], merged_df['life_expectancy'], color='blue', label='Life Expectancy')\n",
    "ax1.set_ylabel('Life Expectancy', color='black')\n",
    "\n",
    "# Creating a secondary y-axis for birth rate\n",
    "ax2 = ax1.twinx()\n",
    "ax2.plot(merged_df['year'], merged_df['birth_rate'], color='orange', label='Birth Rate')\n",
    "ax2.set_ylabel('Birth Rate', color='black')\n",
    "\n",
    "# Adding title and legend\n",
    "plt.title('Life Expectancy and Birth Rate in Italy')\n",
    "fig.tight_layout()\n",
    "fig.legend(loc='upper left', bbox_to_anchor=(0.24, 0.92))                                 \n",
    "plt.show()"
   ]
  },
  {
   "cell_type": "markdown",
   "metadata": {},
   "source": [
    "Graph 2. The graph above shows the birth rate (crude, per 1000 people) and the life expectancy rate at birth (total, years). At the start the birth rate flucturates around the 9.5 mark, but around 2008 the graph exhibits a steady decline. On the other hand, life expectancy at birth is mostly steadily increasing throughout the whole period (except for a few outliers, fx the dip following covid). \n",
    "\n",
    "Given the increasing life expectancy and declining birth rates, we are witnessing a demographic shift towards an aging population (As well as most parts of the world). This trend will result in a smaller workforce bearing the responsibility of supporting the elderly. This scenario represents a challenge for the PAYG system and suggests its revision will be needed in the foreseeable future."
   ]
  },
  {
   "cell_type": "markdown",
   "metadata": {},
   "source": [
    "We now want to delve deeper into the different regions of Italy, and see which how the fertility rates differ across regions"
   ]
  },
  {
   "cell_type": "code",
   "execution_count": 23,
   "metadata": {},
   "outputs": [
    {
     "data": {
      "text/html": [
       "<div>\n",
       "<style scoped>\n",
       "    .dataframe tbody tr th:only-of-type {\n",
       "        vertical-align: middle;\n",
       "    }\n",
       "\n",
       "    .dataframe tbody tr th {\n",
       "        vertical-align: top;\n",
       "    }\n",
       "\n",
       "    .dataframe thead th {\n",
       "        text-align: right;\n",
       "    }\n",
       "</style>\n",
       "<table border=\"1\" class=\"dataframe\">\n",
       "  <thead>\n",
       "    <tr style=\"text-align: right;\">\n",
       "      <th></th>\n",
       "      <th>region</th>\n",
       "      <th>total_fertility_rate</th>\n",
       "      <th>year</th>\n",
       "    </tr>\n",
       "  </thead>\n",
       "  <tbody>\n",
       "    <tr>\n",
       "      <th>0</th>\n",
       "      <td>Piemonte</td>\n",
       "      <td>1.08</td>\n",
       "      <td>1992</td>\n",
       "    </tr>\n",
       "    <tr>\n",
       "      <th>1</th>\n",
       "      <td>Valle d'Aosta/Vallée d'Aoste</td>\n",
       "      <td>1.10</td>\n",
       "      <td>1992</td>\n",
       "    </tr>\n",
       "    <tr>\n",
       "      <th>2</th>\n",
       "      <td>Liguria</td>\n",
       "      <td>1.03</td>\n",
       "      <td>1992</td>\n",
       "    </tr>\n",
       "    <tr>\n",
       "      <th>3</th>\n",
       "      <td>Lombardia</td>\n",
       "      <td>1.12</td>\n",
       "      <td>1992</td>\n",
       "    </tr>\n",
       "    <tr>\n",
       "      <th>4</th>\n",
       "      <td>Trentino-Alto Adige/Südtirol</td>\n",
       "      <td>1.42</td>\n",
       "      <td>1992</td>\n",
       "    </tr>\n",
       "  </tbody>\n",
       "</table>\n",
       "</div>"
      ],
      "text/plain": [
       "                         region  total_fertility_rate  year\n",
       "0                      Piemonte                  1.08  1992\n",
       "1  Valle d'Aosta/Vallée d'Aoste                  1.10  1992\n",
       "2                       Liguria                  1.03  1992\n",
       "3                     Lombardia                  1.12  1992\n",
       "4  Trentino-Alto Adige/Südtirol                  1.42  1992"
      ]
     },
     "execution_count": 23,
     "metadata": {},
     "output_type": "execute_result"
    }
   ],
   "source": [
    "project.fertility().head()"
   ]
  },
  {
   "cell_type": "code",
   "execution_count": 24,
   "metadata": {},
   "outputs": [
    {
     "data": {
      "application/vnd.plotly.v1+json": {
       "config": {
        "linkText": "Export to plot.ly",
        "plotlyServerURL": "https://plot.ly",
        "showLink": false
       },
       "data": [
        {
         "colorbar": {
          "title": {
           "text": "TFR"
          }
         },
         "colorscale": [
          [
           0,
           "rgb(0, 147, 146)"
          ],
          [
           0.16666666666666666,
           "rgb(114, 170, 161)"
          ],
          [
           0.3333333333333333,
           "rgb(177, 199, 179)"
          ],
          [
           0.5,
           "rgb(241, 234, 200)"
          ],
          [
           0.6666666666666666,
           "rgb(229, 185, 173)"
          ],
          [
           0.8333333333333334,
           "rgb(217, 137, 148)"
          ],
          [
           1,
           "rgb(208, 88, 126)"
          ]
         ],
         "featureidkey": "properties.reg_name",
         "geojson": "https://raw.githubusercontent.com/openpolis/geojson-italy/master/geojson/limits_IT_regions.geojson",
         "hoverinfo": "location",
         "locationmode": "geojson-id",
         "locations": [
          "Piemonte",
          "Valle d'Aosta/Vallée d'Aoste",
          "Liguria",
          "Lombardia",
          "Trentino-Alto Adige/Südtirol",
          "Veneto",
          "Friuli-Venezia Giulia",
          "Emilia-Romagna",
          "Toscana",
          "Umbria",
          "Marche",
          "Lazio",
          "Abruzzo",
          "Molise",
          "Campania",
          "Puglia",
          "Basilicata",
          "Calabria",
          "Sicilia",
          "Sardegna",
          "Italia"
         ],
         "type": "choropleth",
         "visible": true,
         "z": [
          1.08,
          1.1,
          1.03,
          1.12,
          1.42,
          1.13,
          1.04,
          0.99,
          1.05,
          1.17,
          1.18,
          1.25,
          1.34,
          1.41,
          1.78,
          1.58,
          1.55,
          1.64,
          1.78,
          1.21,
          1.32
         ],
         "zmax": 2,
         "zmin": 1
        },
        {
         "colorbar": {
          "title": {
           "text": "TFR"
          }
         },
         "colorscale": [
          [
           0,
           "rgb(0, 147, 146)"
          ],
          [
           0.16666666666666666,
           "rgb(114, 170, 161)"
          ],
          [
           0.3333333333333333,
           "rgb(177, 199, 179)"
          ],
          [
           0.5,
           "rgb(241, 234, 200)"
          ],
          [
           0.6666666666666666,
           "rgb(229, 185, 173)"
          ],
          [
           0.8333333333333334,
           "rgb(217, 137, 148)"
          ],
          [
           1,
           "rgb(208, 88, 126)"
          ]
         ],
         "featureidkey": "properties.reg_name",
         "geojson": "https://raw.githubusercontent.com/openpolis/geojson-italy/master/geojson/limits_IT_regions.geojson",
         "hoverinfo": "location",
         "locationmode": "geojson-id",
         "locations": [
          "Piemonte",
          "Valle d'Aosta/Vallée d'Aoste",
          "Liguria",
          "Lombardia",
          "Trentino-Alto Adige/Südtirol",
          "Veneto",
          "Friuli-Venezia Giulia",
          "Emilia-Romagna",
          "Toscana",
          "Umbria",
          "Marche",
          "Lazio",
          "Abruzzo",
          "Molise",
          "Campania",
          "Puglia",
          "Basilicata",
          "Calabria",
          "Sicilia",
          "Sardegna",
          "Italia"
         ],
         "type": "choropleth",
         "visible": false,
         "z": [
          1.05,
          1.01,
          0.97,
          1.09,
          1.34,
          1.09,
          0.96,
          0.97,
          1.02,
          1.11,
          1.13,
          1.2,
          1.3,
          1.33,
          1.66,
          1.49,
          1.42,
          1.56,
          1.67,
          1.16,
          1.26
         ],
         "zmax": 2,
         "zmin": 1
        },
        {
         "colorbar": {
          "title": {
           "text": "TFR"
          }
         },
         "colorscale": [
          [
           0,
           "rgb(0, 147, 146)"
          ],
          [
           0.16666666666666666,
           "rgb(114, 170, 161)"
          ],
          [
           0.3333333333333333,
           "rgb(177, 199, 179)"
          ],
          [
           0.5,
           "rgb(241, 234, 200)"
          ],
          [
           0.6666666666666666,
           "rgb(229, 185, 173)"
          ],
          [
           0.8333333333333334,
           "rgb(217, 137, 148)"
          ],
          [
           1,
           "rgb(208, 88, 126)"
          ]
         ],
         "featureidkey": "properties.reg_name",
         "geojson": "https://raw.githubusercontent.com/openpolis/geojson-italy/master/geojson/limits_IT_regions.geojson",
         "hoverinfo": "location",
         "locationmode": "geojson-id",
         "locations": [
          "Piemonte",
          "Valle d'Aosta/Vallée d'Aoste",
          "Liguria",
          "Lombardia",
          "Trentino-Alto Adige/Südtirol",
          "Veneto",
          "Friuli-Venezia Giulia",
          "Emilia-Romagna",
          "Toscana",
          "Umbria",
          "Marche",
          "Lazio",
          "Abruzzo",
          "Molise",
          "Campania",
          "Puglia",
          "Basilicata",
          "Calabria",
          "Sicilia",
          "Sardegna",
          "Italia"
         ],
         "type": "choropleth",
         "visible": false,
         "z": [
          1.03,
          1.08,
          0.94,
          1.06,
          1.34,
          1.07,
          0.95,
          0.96,
          0.99,
          1.09,
          1.09,
          1.17,
          1.25,
          1.29,
          1.61,
          1.44,
          1.35,
          1.43,
          1.56,
          1.09,
          1.22
         ],
         "zmax": 2,
         "zmin": 1
        },
        {
         "colorbar": {
          "title": {
           "text": "TFR"
          }
         },
         "colorscale": [
          [
           0,
           "rgb(0, 147, 146)"
          ],
          [
           0.16666666666666666,
           "rgb(114, 170, 161)"
          ],
          [
           0.3333333333333333,
           "rgb(177, 199, 179)"
          ],
          [
           0.5,
           "rgb(241, 234, 200)"
          ],
          [
           0.6666666666666666,
           "rgb(229, 185, 173)"
          ],
          [
           0.8333333333333334,
           "rgb(217, 137, 148)"
          ],
          [
           1,
           "rgb(208, 88, 126)"
          ]
         ],
         "featureidkey": "properties.reg_name",
         "geojson": "https://raw.githubusercontent.com/openpolis/geojson-italy/master/geojson/limits_IT_regions.geojson",
         "hoverinfo": "location",
         "locationmode": "geojson-id",
         "locations": [
          "Piemonte",
          "Valle d'Aosta/Vallée d'Aoste",
          "Liguria",
          "Lombardia",
          "Trentino-Alto Adige/Südtirol",
          "Veneto",
          "Friuli-Venezia Giulia",
          "Emilia-Romagna",
          "Toscana",
          "Umbria",
          "Marche",
          "Lazio",
          "Abruzzo",
          "Molise",
          "Campania",
          "Puglia",
          "Basilicata",
          "Calabria",
          "Sicilia",
          "Sardegna",
          "Italia"
         ],
         "type": "choropleth",
         "visible": false,
         "z": [
          1.04,
          1.1,
          0.94,
          1.07,
          1.34,
          1.07,
          0.95,
          0.97,
          0.99,
          1.08,
          1.11,
          1.11,
          1.19,
          1.22,
          1.52,
          1.38,
          1.31,
          1.4,
          1.49,
          1.06,
          1.19
         ],
         "zmax": 2,
         "zmin": 1
        },
        {
         "colorbar": {
          "title": {
           "text": "TFR"
          }
         },
         "colorscale": [
          [
           0,
           "rgb(0, 147, 146)"
          ],
          [
           0.16666666666666666,
           "rgb(114, 170, 161)"
          ],
          [
           0.3333333333333333,
           "rgb(177, 199, 179)"
          ],
          [
           0.5,
           "rgb(241, 234, 200)"
          ],
          [
           0.6666666666666666,
           "rgb(229, 185, 173)"
          ],
          [
           0.8333333333333334,
           "rgb(217, 137, 148)"
          ],
          [
           1,
           "rgb(208, 88, 126)"
          ]
         ],
         "featureidkey": "properties.reg_name",
         "geojson": "https://raw.githubusercontent.com/openpolis/geojson-italy/master/geojson/limits_IT_regions.geojson",
         "hoverinfo": "location",
         "locationmode": "geojson-id",
         "locations": [
          "Piemonte",
          "Valle d'Aosta/Vallée d'Aoste",
          "Liguria",
          "Lombardia",
          "Trentino-Alto Adige/Südtirol",
          "Veneto",
          "Friuli-Venezia Giulia",
          "Emilia-Romagna",
          "Toscana",
          "Umbria",
          "Marche",
          "Lazio",
          "Abruzzo",
          "Molise",
          "Campania",
          "Puglia",
          "Basilicata",
          "Calabria",
          "Sicilia",
          "Sardegna",
          "Italia"
         ],
         "type": "choropleth",
         "visible": false,
         "z": [
          1.06,
          1.19,
          0.97,
          1.1,
          1.39,
          1.11,
          0.99,
          1.01,
          1.01,
          1.09,
          1.09,
          1.14,
          1.21,
          1.18,
          1.59,
          1.38,
          1.26,
          1.35,
          1.5,
          1.03,
          1.22
         ],
         "zmax": 2,
         "zmin": 1
        },
        {
         "colorbar": {
          "title": {
           "text": "TFR"
          }
         },
         "colorscale": [
          [
           0,
           "rgb(0, 147, 146)"
          ],
          [
           0.16666666666666666,
           "rgb(114, 170, 161)"
          ],
          [
           0.3333333333333333,
           "rgb(177, 199, 179)"
          ],
          [
           0.5,
           "rgb(241, 234, 200)"
          ],
          [
           0.6666666666666666,
           "rgb(229, 185, 173)"
          ],
          [
           0.8333333333333334,
           "rgb(217, 137, 148)"
          ],
          [
           1,
           "rgb(208, 88, 126)"
          ]
         ],
         "featureidkey": "properties.reg_name",
         "geojson": "https://raw.githubusercontent.com/openpolis/geojson-italy/master/geojson/limits_IT_regions.geojson",
         "hoverinfo": "location",
         "locationmode": "geojson-id",
         "locations": [
          "Piemonte",
          "Valle d'Aosta/Vallée d'Aoste",
          "Liguria",
          "Lombardia",
          "Trentino-Alto Adige/Südtirol",
          "Veneto",
          "Friuli-Venezia Giulia",
          "Emilia-Romagna",
          "Toscana",
          "Umbria",
          "Marche",
          "Lazio",
          "Abruzzo",
          "Molise",
          "Campania",
          "Puglia",
          "Basilicata",
          "Calabria",
          "Sicilia",
          "Sardegna",
          "Italia"
         ],
         "type": "choropleth",
         "visible": false,
         "z": [
          1.1,
          1.09,
          0.98,
          1.14,
          1.42,
          1.14,
          1.01,
          1.04,
          1.05,
          1.11,
          1.14,
          1.14,
          1.19,
          1.2,
          1.54,
          1.37,
          1.3,
          1.35,
          1.49,
          1.03,
          1.23
         ],
         "zmax": 2,
         "zmin": 1
        },
        {
         "colorbar": {
          "title": {
           "text": "TFR"
          }
         },
         "colorscale": [
          [
           0,
           "rgb(0, 147, 146)"
          ],
          [
           0.16666666666666666,
           "rgb(114, 170, 161)"
          ],
          [
           0.3333333333333333,
           "rgb(177, 199, 179)"
          ],
          [
           0.5,
           "rgb(241, 234, 200)"
          ],
          [
           0.6666666666666666,
           "rgb(229, 185, 173)"
          ],
          [
           0.8333333333333334,
           "rgb(217, 137, 148)"
          ],
          [
           1,
           "rgb(208, 88, 126)"
          ]
         ],
         "featureidkey": "properties.reg_name",
         "geojson": "https://raw.githubusercontent.com/openpolis/geojson-italy/master/geojson/limits_IT_regions.geojson",
         "hoverinfo": "location",
         "locationmode": "geojson-id",
         "locations": [
          "Piemonte",
          "Valle d'Aosta/Vallée d'Aoste",
          "Liguria",
          "Lombardia",
          "Trentino-Alto Adige/Südtirol",
          "Veneto",
          "Friuli-Venezia Giulia",
          "Emilia-Romagna",
          "Toscana",
          "Umbria",
          "Marche",
          "Lazio",
          "Abruzzo",
          "Molise",
          "Campania",
          "Puglia",
          "Basilicata",
          "Calabria",
          "Sicilia",
          "Sardegna",
          "Italia"
         ],
         "type": "choropleth",
         "visible": false,
         "z": [
          1.11,
          1.17,
          0.99,
          1.14,
          1.41,
          1.15,
          1.03,
          1.05,
          1.05,
          1.11,
          1.15,
          1.12,
          1.17,
          1.2,
          1.5,
          1.34,
          1.23,
          1.32,
          1.44,
          0.99,
          1.21
         ],
         "zmax": 2,
         "zmin": 1
        },
        {
         "colorbar": {
          "title": {
           "text": "TFR"
          }
         },
         "colorscale": [
          [
           0,
           "rgb(0, 147, 146)"
          ],
          [
           0.16666666666666666,
           "rgb(114, 170, 161)"
          ],
          [
           0.3333333333333333,
           "rgb(177, 199, 179)"
          ],
          [
           0.5,
           "rgb(241, 234, 200)"
          ],
          [
           0.6666666666666666,
           "rgb(229, 185, 173)"
          ],
          [
           0.8333333333333334,
           "rgb(217, 137, 148)"
          ],
          [
           1,
           "rgb(208, 88, 126)"
          ]
         ],
         "featureidkey": "properties.reg_name",
         "geojson": "https://raw.githubusercontent.com/openpolis/geojson-italy/master/geojson/limits_IT_regions.geojson",
         "hoverinfo": "location",
         "locationmode": "geojson-id",
         "locations": [
          "Piemonte",
          "Valle d'Aosta/Vallée d'Aoste",
          "Liguria",
          "Lombardia",
          "Trentino-Alto Adige/Südtirol",
          "Veneto",
          "Friuli-Venezia Giulia",
          "Emilia-Romagna",
          "Toscana",
          "Umbria",
          "Marche",
          "Lazio",
          "Abruzzo",
          "Molise",
          "Campania",
          "Puglia",
          "Basilicata",
          "Calabria",
          "Sicilia",
          "Sardegna",
          "Italia"
         ],
         "type": "choropleth",
         "visible": false,
         "z": [
          1.12,
          1.19,
          0.99,
          1.16,
          1.45,
          1.17,
          1.04,
          1.1,
          1.06,
          1.14,
          1.15,
          1.23,
          1.14,
          1.18,
          1.49,
          1.33,
          1.23,
          1.25,
          1.44,
          1.03,
          1.23
         ],
         "zmax": 2,
         "zmin": 1
        },
        {
         "colorbar": {
          "title": {
           "text": "TFR"
          }
         },
         "colorscale": [
          [
           0,
           "rgb(0, 147, 146)"
          ],
          [
           0.16666666666666666,
           "rgb(114, 170, 161)"
          ],
          [
           0.3333333333333333,
           "rgb(177, 199, 179)"
          ],
          [
           0.5,
           "rgb(241, 234, 200)"
          ],
          [
           0.6666666666666666,
           "rgb(229, 185, 173)"
          ],
          [
           0.8333333333333334,
           "rgb(217, 137, 148)"
          ],
          [
           1,
           "rgb(208, 88, 126)"
          ]
         ],
         "featureidkey": "properties.reg_name",
         "geojson": "https://raw.githubusercontent.com/openpolis/geojson-italy/master/geojson/limits_IT_regions.geojson",
         "hoverinfo": "location",
         "locationmode": "geojson-id",
         "locations": [
          "Piemonte",
          "Valle d'Aosta/Vallée d'Aoste",
          "Liguria",
          "Lombardia",
          "Trentino-Alto Adige/Südtirol",
          "Veneto",
          "Friuli-Venezia Giulia",
          "Emilia-Romagna",
          "Toscana",
          "Umbria",
          "Marche",
          "Lazio",
          "Abruzzo",
          "Molise",
          "Campania",
          "Puglia",
          "Basilicata",
          "Calabria",
          "Sicilia",
          "Sardegna",
          "Italia"
         ],
         "type": "choropleth",
         "visible": false,
         "z": [
          1.17,
          1.28,
          1.03,
          1.21,
          1.46,
          1.22,
          1.1,
          1.17,
          1.12,
          1.17,
          1.18,
          1.2,
          1.16,
          1.15,
          1.48,
          1.35,
          1.25,
          1.26,
          1.41,
          1.06,
          1.26
         ],
         "zmax": 2,
         "zmin": 1
        },
        {
         "colorbar": {
          "title": {
           "text": "TFR"
          }
         },
         "colorscale": [
          [
           0,
           "rgb(0, 147, 146)"
          ],
          [
           0.16666666666666666,
           "rgb(114, 170, 161)"
          ],
          [
           0.3333333333333333,
           "rgb(177, 199, 179)"
          ],
          [
           0.5,
           "rgb(241, 234, 200)"
          ],
          [
           0.6666666666666666,
           "rgb(229, 185, 173)"
          ],
          [
           0.8333333333333334,
           "rgb(217, 137, 148)"
          ],
          [
           1,
           "rgb(208, 88, 126)"
          ]
         ],
         "featureidkey": "properties.reg_name",
         "geojson": "https://raw.githubusercontent.com/openpolis/geojson-italy/master/geojson/limits_IT_regions.geojson",
         "hoverinfo": "location",
         "locationmode": "geojson-id",
         "locations": [
          "Piemonte",
          "Valle d'Aosta/Vallée d'Aoste",
          "Liguria",
          "Lombardia",
          "Trentino-Alto Adige/Südtirol",
          "Veneto",
          "Friuli-Venezia Giulia",
          "Emilia-Romagna",
          "Toscana",
          "Umbria",
          "Marche",
          "Lazio",
          "Abruzzo",
          "Molise",
          "Campania",
          "Puglia",
          "Basilicata",
          "Calabria",
          "Sicilia",
          "Sardegna",
          "Italia"
         ],
         "type": "choropleth",
         "visible": false,
         "z": [
          1.15,
          1.22,
          1.06,
          1.22,
          1.46,
          1.2,
          1.1,
          1.19,
          1.13,
          1.17,
          1.15,
          1.17,
          1.17,
          1.12,
          1.49,
          1.34,
          1.21,
          1.24,
          1.4,
          1.04,
          1.25
         ],
         "zmax": 2,
         "zmin": 1
        },
        {
         "colorbar": {
          "title": {
           "text": "TFR"
          }
         },
         "colorscale": [
          [
           0,
           "rgb(0, 147, 146)"
          ],
          [
           0.16666666666666666,
           "rgb(114, 170, 161)"
          ],
          [
           0.3333333333333333,
           "rgb(177, 199, 179)"
          ],
          [
           0.5,
           "rgb(241, 234, 200)"
          ],
          [
           0.6666666666666666,
           "rgb(229, 185, 173)"
          ],
          [
           0.8333333333333334,
           "rgb(217, 137, 148)"
          ],
          [
           1,
           "rgb(208, 88, 126)"
          ]
         ],
         "featureidkey": "properties.reg_name",
         "geojson": "https://raw.githubusercontent.com/openpolis/geojson-italy/master/geojson/limits_IT_regions.geojson",
         "hoverinfo": "location",
         "locationmode": "geojson-id",
         "locations": [
          "Piemonte",
          "Valle d'Aosta/Vallée d'Aoste",
          "Liguria",
          "Lombardia",
          "Trentino-Alto Adige/Südtirol",
          "Veneto",
          "Friuli-Venezia Giulia",
          "Emilia-Romagna",
          "Toscana",
          "Umbria",
          "Marche",
          "Lazio",
          "Abruzzo",
          "Molise",
          "Campania",
          "Puglia",
          "Basilicata",
          "Calabria",
          "Sicilia",
          "Sardegna",
          "Italia"
         ],
         "type": "choropleth",
         "visible": false,
         "z": [
          1.2,
          1.25,
          1.09,
          1.26,
          1.45,
          1.24,
          1.12,
          1.24,
          1.18,
          1.24,
          1.22,
          1.2,
          1.14,
          1.15,
          1.47,
          1.3,
          1.24,
          1.23,
          1.4,
          1.03,
          1.27
         ],
         "zmax": 2,
         "zmin": 1
        },
        {
         "colorbar": {
          "title": {
           "text": "TFR"
          }
         },
         "colorscale": [
          [
           0,
           "rgb(0, 147, 146)"
          ],
          [
           0.16666666666666666,
           "rgb(114, 170, 161)"
          ],
          [
           0.3333333333333333,
           "rgb(177, 199, 179)"
          ],
          [
           0.5,
           "rgb(241, 234, 200)"
          ],
          [
           0.6666666666666666,
           "rgb(229, 185, 173)"
          ],
          [
           0.8333333333333334,
           "rgb(217, 137, 148)"
          ],
          [
           1,
           "rgb(208, 88, 126)"
          ]
         ],
         "featureidkey": "properties.reg_name",
         "geojson": "https://raw.githubusercontent.com/openpolis/geojson-italy/master/geojson/limits_IT_regions.geojson",
         "hoverinfo": "location",
         "locationmode": "geojson-id",
         "locations": [
          "Piemonte",
          "Valle d'Aosta/Vallée d'Aoste",
          "Liguria",
          "Lombardia",
          "Trentino-Alto Adige/Südtirol",
          "Provincia Autonoma di Bolzano",
          "Provincia Autonoma di Trento",
          "Veneto",
          "Friuli-Venezia Giulia",
          "Emilia-Romagna",
          "Toscana",
          "Umbria",
          "Marche",
          "Lazio",
          "Abruzzo",
          "Molise",
          "Campania",
          "Puglia",
          "Basilicata",
          "Calabria",
          "Sicilia",
          "Sardegna",
          "Italia"
         ],
         "type": "choropleth",
         "visible": false,
         "z": [
          1.22,
          1.28,
          1.11,
          1.27,
          1.46,
          1.52,
          1.41,
          1.26,
          1.16,
          1.24,
          1.16,
          1.23,
          1.22,
          1.26,
          1.19,
          1.16,
          1.48,
          1.3,
          1.21,
          1.27,
          1.43,
          1.07,
          1.29
         ],
         "zmax": 2,
         "zmin": 1
        },
        {
         "colorbar": {
          "title": {
           "text": "TFR"
          }
         },
         "colorscale": [
          [
           0,
           "rgb(0, 147, 146)"
          ],
          [
           0.16666666666666666,
           "rgb(114, 170, 161)"
          ],
          [
           0.3333333333333333,
           "rgb(177, 199, 179)"
          ],
          [
           0.5,
           "rgb(241, 234, 200)"
          ],
          [
           0.6666666666666666,
           "rgb(229, 185, 173)"
          ],
          [
           0.8333333333333334,
           "rgb(217, 137, 148)"
          ],
          [
           1,
           "rgb(208, 88, 126)"
          ]
         ],
         "featureidkey": "properties.reg_name",
         "geojson": "https://raw.githubusercontent.com/openpolis/geojson-italy/master/geojson/limits_IT_regions.geojson",
         "hoverinfo": "location",
         "locationmode": "geojson-id",
         "locations": [
          "Piemonte",
          "Valle d'Aosta/Vallée d'Aoste",
          "Liguria",
          "Lombardia",
          "Trentino-Alto Adige/Südtirol",
          "Provincia Autonoma di Bolzano",
          "Provincia Autonoma di Trento",
          "Veneto",
          "Friuli-Venezia Giulia",
          "Emilia-Romagna",
          "Toscana",
          "Umbria",
          "Marche",
          "Lazio",
          "Abruzzo",
          "Molise",
          "Campania",
          "Puglia",
          "Basilicata",
          "Calabria",
          "Sicilia",
          "Sardegna",
          "Italia"
         ],
         "type": "choropleth",
         "visible": false,
         "z": [
          1.26,
          1.33,
          1.18,
          1.36,
          1.55,
          1.56,
          1.55,
          1.36,
          1.21,
          1.33,
          1.28,
          1.31,
          1.27,
          1.3,
          1.2,
          1.14,
          1.49,
          1.34,
          1.23,
          1.27,
          1.44,
          1.04,
          1.34
         ],
         "zmax": 2,
         "zmin": 1
        },
        {
         "colorbar": {
          "title": {
           "text": "TFR"
          }
         },
         "colorscale": [
          [
           0,
           "rgb(0, 147, 146)"
          ],
          [
           0.16666666666666666,
           "rgb(114, 170, 161)"
          ],
          [
           0.3333333333333333,
           "rgb(177, 199, 179)"
          ],
          [
           0.5,
           "rgb(241, 234, 200)"
          ],
          [
           0.6666666666666666,
           "rgb(229, 185, 173)"
          ],
          [
           0.8333333333333334,
           "rgb(217, 137, 148)"
          ],
          [
           1,
           "rgb(208, 88, 126)"
          ]
         ],
         "featureidkey": "properties.reg_name",
         "geojson": "https://raw.githubusercontent.com/openpolis/geojson-italy/master/geojson/limits_IT_regions.geojson",
         "hoverinfo": "location",
         "locationmode": "geojson-id",
         "locations": [
          "Piemonte",
          "Valle d'Aosta/Vallée d'Aoste",
          "Liguria",
          "Lombardia",
          "Trentino-Alto Adige/Südtirol",
          "Provincia Autonoma di Bolzano",
          "Provincia Autonoma di Trento",
          "Veneto",
          "Friuli-Venezia Giulia",
          "Emilia-Romagna",
          "Toscana",
          "Umbria",
          "Marche",
          "Lazio",
          "Abruzzo",
          "Molise",
          "Campania",
          "Puglia",
          "Basilicata",
          "Calabria",
          "Sicilia",
          "Sardegna",
          "Italia"
         ],
         "type": "choropleth",
         "visible": false,
         "z": [
          1.27,
          1.34,
          1.19,
          1.37,
          1.55,
          1.6,
          1.49,
          1.36,
          1.24,
          1.35,
          1.28,
          1.34,
          1.28,
          1.28,
          1.22,
          1.15,
          1.45,
          1.29,
          1.16,
          1.26,
          1.43,
          1.06,
          1.33
         ],
         "zmax": 2,
         "zmin": 1
        },
        {
         "colorbar": {
          "title": {
           "text": "TFR"
          }
         },
         "colorscale": [
          [
           0,
           "rgb(0, 147, 146)"
          ],
          [
           0.16666666666666666,
           "rgb(114, 170, 161)"
          ],
          [
           0.3333333333333333,
           "rgb(177, 199, 179)"
          ],
          [
           0.5,
           "rgb(241, 234, 200)"
          ],
          [
           0.6666666666666666,
           "rgb(229, 185, 173)"
          ],
          [
           0.8333333333333334,
           "rgb(217, 137, 148)"
          ],
          [
           1,
           "rgb(208, 88, 126)"
          ]
         ],
         "featureidkey": "properties.reg_name",
         "geojson": "https://raw.githubusercontent.com/openpolis/geojson-italy/master/geojson/limits_IT_regions.geojson",
         "hoverinfo": "location",
         "locationmode": "geojson-id",
         "locations": [
          "Piemonte",
          "Valle d'Aosta/Vallée d'Aoste",
          "Liguria",
          "Lombardia",
          "Trentino-Alto Adige/Südtirol",
          "Provincia Autonoma di Bolzano",
          "Provincia Autonoma di Trento",
          "Veneto",
          "Friuli-Venezia Giulia",
          "Emilia-Romagna",
          "Toscana",
          "Umbria",
          "Marche",
          "Lazio",
          "Abruzzo",
          "Molise",
          "Campania",
          "Puglia",
          "Basilicata",
          "Calabria",
          "Sicilia",
          "Sardegna",
          "Italia"
         ],
         "type": "choropleth",
         "visible": false,
         "z": [
          1.32,
          1.44,
          1.24,
          1.43,
          1.54,
          1.58,
          1.51,
          1.4,
          1.29,
          1.4,
          1.3,
          1.36,
          1.32,
          1.34,
          1.22,
          1.14,
          1.46,
          1.28,
          1.2,
          1.29,
          1.42,
          1.08,
          1.37
         ],
         "zmax": 2,
         "zmin": 1
        },
        {
         "colorbar": {
          "title": {
           "text": "TFR"
          }
         },
         "colorscale": [
          [
           0,
           "rgb(0, 147, 146)"
          ],
          [
           0.16666666666666666,
           "rgb(114, 170, 161)"
          ],
          [
           0.3333333333333333,
           "rgb(177, 199, 179)"
          ],
          [
           0.5,
           "rgb(241, 234, 200)"
          ],
          [
           0.6666666666666666,
           "rgb(229, 185, 173)"
          ],
          [
           0.8333333333333334,
           "rgb(217, 137, 148)"
          ],
          [
           1,
           "rgb(208, 88, 126)"
          ]
         ],
         "featureidkey": "properties.reg_name",
         "geojson": "https://raw.githubusercontent.com/openpolis/geojson-italy/master/geojson/limits_IT_regions.geojson",
         "hoverinfo": "location",
         "locationmode": "geojson-id",
         "locations": [
          "Piemonte",
          "Valle d'Aosta/Vallée d'Aoste",
          "Liguria",
          "Lombardia",
          "Trentino-Alto Adige/Südtirol",
          "Provincia Autonoma di Bolzano",
          "Provincia Autonoma di Trento",
          "Veneto",
          "Friuli-Venezia Giulia",
          "Emilia-Romagna",
          "Toscana",
          "Umbria",
          "Marche",
          "Lazio",
          "Abruzzo",
          "Molise",
          "Campania",
          "Puglia",
          "Basilicata",
          "Calabria",
          "Sicilia",
          "Sardegna",
          "Italia"
         ],
         "type": "choropleth",
         "visible": false,
         "z": [
          1.37,
          1.47,
          1.28,
          1.47,
          1.57,
          1.62,
          1.52,
          1.44,
          1.35,
          1.45,
          1.34,
          1.4,
          1.36,
          1.35,
          1.27,
          1.18,
          1.47,
          1.31,
          1.2,
          1.29,
          1.41,
          1.11,
          1.39
         ],
         "zmax": 2,
         "zmin": 1
        },
        {
         "colorbar": {
          "title": {
           "text": "TFR"
          }
         },
         "colorscale": [
          [
           0,
           "rgb(0, 147, 146)"
          ],
          [
           0.16666666666666666,
           "rgb(114, 170, 161)"
          ],
          [
           0.3333333333333333,
           "rgb(177, 199, 179)"
          ],
          [
           0.5,
           "rgb(241, 234, 200)"
          ],
          [
           0.6666666666666666,
           "rgb(229, 185, 173)"
          ],
          [
           0.8333333333333334,
           "rgb(217, 137, 148)"
          ],
          [
           1,
           "rgb(208, 88, 126)"
          ]
         ],
         "featureidkey": "properties.reg_name",
         "geojson": "https://raw.githubusercontent.com/openpolis/geojson-italy/master/geojson/limits_IT_regions.geojson",
         "hoverinfo": "location",
         "locationmode": "geojson-id",
         "locations": [
          "Piemonte",
          "Valle d'Aosta/Vallée d'Aoste",
          "Liguria",
          "Lombardia",
          "Trentino-Alto Adige/Südtirol",
          "Provincia Autonoma di Bolzano",
          "Provincia Autonoma di Trento",
          "Veneto",
          "Friuli-Venezia Giulia",
          "Emilia-Romagna",
          "Toscana",
          "Umbria",
          "Marche",
          "Lazio",
          "Abruzzo",
          "Molise",
          "Campania",
          "Puglia",
          "Basilicata",
          "Calabria",
          "Sicilia",
          "Sardegna",
          "Italia"
         ],
         "type": "choropleth",
         "visible": false,
         "z": [
          1.41,
          1.57,
          1.35,
          1.53,
          1.61,
          1.61,
          1.6,
          1.49,
          1.36,
          1.5,
          1.41,
          1.44,
          1.42,
          1.46,
          1.31,
          1.19,
          1.46,
          1.33,
          1.23,
          1.29,
          1.44,
          1.13,
          1.44
         ],
         "zmax": 2,
         "zmin": 1
        },
        {
         "colorbar": {
          "title": {
           "text": "TFR"
          }
         },
         "colorscale": [
          [
           0,
           "rgb(0, 147, 146)"
          ],
          [
           0.16666666666666666,
           "rgb(114, 170, 161)"
          ],
          [
           0.3333333333333333,
           "rgb(177, 199, 179)"
          ],
          [
           0.5,
           "rgb(241, 234, 200)"
          ],
          [
           0.6666666666666666,
           "rgb(229, 185, 173)"
          ],
          [
           0.8333333333333334,
           "rgb(217, 137, 148)"
          ],
          [
           1,
           "rgb(208, 88, 126)"
          ]
         ],
         "featureidkey": "properties.reg_name",
         "geojson": "https://raw.githubusercontent.com/openpolis/geojson-italy/master/geojson/limits_IT_regions.geojson",
         "hoverinfo": "location",
         "locationmode": "geojson-id",
         "locations": [
          "Piemonte",
          "Valle d'Aosta/Vallée d'Aoste",
          "Liguria",
          "Lombardia",
          "Trentino-Alto Adige/Südtirol",
          "Provincia Autonoma di Bolzano",
          "Provincia Autonoma di Trento",
          "Veneto",
          "Friuli-Venezia Giulia",
          "Emilia-Romagna",
          "Toscana",
          "Umbria",
          "Marche",
          "Lazio",
          "Abruzzo",
          "Molise",
          "Campania",
          "Puglia",
          "Basilicata",
          "Calabria",
          "Sicilia",
          "Sardegna",
          "Italia"
         ],
         "type": "choropleth",
         "visible": false,
         "z": [
          1.42,
          1.62,
          1.36,
          1.56,
          1.58,
          1.56,
          1.6,
          1.48,
          1.38,
          1.52,
          1.37,
          1.38,
          1.43,
          1.43,
          1.29,
          1.13,
          1.45,
          1.34,
          1.2,
          1.31,
          1.44,
          1.16,
          1.44
         ],
         "zmax": 2,
         "zmin": 1
        },
        {
         "colorbar": {
          "title": {
           "text": "TFR"
          }
         },
         "colorscale": [
          [
           0,
           "rgb(0, 147, 146)"
          ],
          [
           0.16666666666666666,
           "rgb(114, 170, 161)"
          ],
          [
           0.3333333333333333,
           "rgb(177, 199, 179)"
          ],
          [
           0.5,
           "rgb(241, 234, 200)"
          ],
          [
           0.6666666666666666,
           "rgb(229, 185, 173)"
          ],
          [
           0.8333333333333334,
           "rgb(217, 137, 148)"
          ],
          [
           1,
           "rgb(208, 88, 126)"
          ]
         ],
         "featureidkey": "properties.reg_name",
         "geojson": "https://raw.githubusercontent.com/openpolis/geojson-italy/master/geojson/limits_IT_regions.geojson",
         "hoverinfo": "location",
         "locationmode": "geojson-id",
         "locations": [
          "Piemonte",
          "Valle d'Aosta/Vallée d'Aoste",
          "Liguria",
          "Lombardia",
          "Trentino-Alto Adige/Südtirol",
          "Provincia Autonoma di Bolzano",
          "Provincia Autonoma di Trento",
          "Veneto",
          "Friuli-Venezia Giulia",
          "Emilia-Romagna",
          "Toscana",
          "Umbria",
          "Marche",
          "Lazio",
          "Abruzzo",
          "Molise",
          "Campania",
          "Puglia",
          "Basilicata",
          "Calabria",
          "Sicilia",
          "Sardegna",
          "Italia"
         ],
         "type": "choropleth",
         "visible": false,
         "z": [
          1.42,
          1.62,
          1.35,
          1.56,
          1.63,
          1.62,
          1.65,
          1.49,
          1.4,
          1.52,
          1.4,
          1.41,
          1.41,
          1.44,
          1.34,
          1.23,
          1.44,
          1.33,
          1.2,
          1.32,
          1.42,
          1.18,
          1.44
         ],
         "zmax": 2,
         "zmin": 1
        },
        {
         "colorbar": {
          "title": {
           "text": "TFR"
          }
         },
         "colorscale": [
          [
           0,
           "rgb(0, 147, 146)"
          ],
          [
           0.16666666666666666,
           "rgb(114, 170, 161)"
          ],
          [
           0.3333333333333333,
           "rgb(177, 199, 179)"
          ],
          [
           0.5,
           "rgb(241, 234, 200)"
          ],
          [
           0.6666666666666666,
           "rgb(229, 185, 173)"
          ],
          [
           0.8333333333333334,
           "rgb(217, 137, 148)"
          ],
          [
           1,
           "rgb(208, 88, 126)"
          ]
         ],
         "featureidkey": "properties.reg_name",
         "geojson": "https://raw.githubusercontent.com/openpolis/geojson-italy/master/geojson/limits_IT_regions.geojson",
         "hoverinfo": "location",
         "locationmode": "geojson-id",
         "locations": [
          "Piemonte",
          "Valle d'Aosta/Vallée d'Aoste",
          "Liguria",
          "Lombardia",
          "Trentino-Alto Adige/Südtirol",
          "Provincia Autonoma di Bolzano",
          "Provincia Autonoma di Trento",
          "Veneto",
          "Friuli-Venezia Giulia",
          "Emilia-Romagna",
          "Toscana",
          "Umbria",
          "Marche",
          "Lazio",
          "Abruzzo",
          "Molise",
          "Campania",
          "Puglia",
          "Basilicata",
          "Calabria",
          "Sicilia",
          "Sardegna",
          "Italia"
         ],
         "type": "choropleth",
         "visible": false,
         "z": [
          1.43,
          1.6,
          1.33,
          1.52,
          1.61,
          1.61,
          1.61,
          1.47,
          1.39,
          1.49,
          1.38,
          1.39,
          1.42,
          1.46,
          1.32,
          1.19,
          1.41,
          1.31,
          1.19,
          1.29,
          1.41,
          1.17,
          1.42
         ],
         "zmax": 2,
         "zmin": 1
        },
        {
         "colorbar": {
          "title": {
           "text": "TFR"
          }
         },
         "colorscale": [
          [
           0,
           "rgb(0, 147, 146)"
          ],
          [
           0.16666666666666666,
           "rgb(114, 170, 161)"
          ],
          [
           0.3333333333333333,
           "rgb(177, 199, 179)"
          ],
          [
           0.5,
           "rgb(241, 234, 200)"
          ],
          [
           0.6666666666666666,
           "rgb(229, 185, 173)"
          ],
          [
           0.8333333333333334,
           "rgb(217, 137, 148)"
          ],
          [
           1,
           "rgb(208, 88, 126)"
          ]
         ],
         "featureidkey": "properties.reg_name",
         "geojson": "https://raw.githubusercontent.com/openpolis/geojson-italy/master/geojson/limits_IT_regions.geojson",
         "hoverinfo": "location",
         "locationmode": "geojson-id",
         "locations": [
          "Piemonte",
          "Valle d'Aosta/Vallée d'Aoste",
          "Liguria",
          "Lombardia",
          "Trentino-Alto Adige/Südtirol",
          "Provincia Autonoma di Bolzano",
          "Provincia Autonoma di Trento",
          "Veneto",
          "Friuli-Venezia Giulia",
          "Emilia-Romagna",
          "Toscana",
          "Umbria",
          "Marche",
          "Lazio",
          "Abruzzo",
          "Molise",
          "Campania",
          "Puglia",
          "Basilicata",
          "Calabria",
          "Sicilia",
          "Sardegna",
          "Italia"
         ],
         "type": "choropleth",
         "visible": false,
         "z": [
          1.43,
          1.57,
          1.38,
          1.51,
          1.64,
          1.67,
          1.6,
          1.48,
          1.41,
          1.48,
          1.39,
          1.39,
          1.38,
          1.44,
          1.33,
          1.19,
          1.39,
          1.3,
          1.22,
          1.3,
          1.4,
          1.14,
          1.42
         ],
         "zmax": 2,
         "zmin": 1
        },
        {
         "colorbar": {
          "title": {
           "text": "TFR"
          }
         },
         "colorscale": [
          [
           0,
           "rgb(0, 147, 146)"
          ],
          [
           0.16666666666666666,
           "rgb(114, 170, 161)"
          ],
          [
           0.3333333333333333,
           "rgb(177, 199, 179)"
          ],
          [
           0.5,
           "rgb(241, 234, 200)"
          ],
          [
           0.6666666666666666,
           "rgb(229, 185, 173)"
          ],
          [
           0.8333333333333334,
           "rgb(217, 137, 148)"
          ],
          [
           1,
           "rgb(208, 88, 126)"
          ]
         ],
         "featureidkey": "properties.reg_name",
         "geojson": "https://raw.githubusercontent.com/openpolis/geojson-italy/master/geojson/limits_IT_regions.geojson",
         "hoverinfo": "location",
         "locationmode": "geojson-id",
         "locations": [
          "Piemonte",
          "Valle d'Aosta/Vallée d'Aoste",
          "Liguria",
          "Lombardia",
          "Trentino-Alto Adige/Südtirol",
          "Provincia Autonoma di Bolzano",
          "Provincia Autonoma di Trento",
          "Veneto",
          "Friuli-Venezia Giulia",
          "Emilia-Romagna",
          "Toscana",
          "Umbria",
          "Marche",
          "Lazio",
          "Abruzzo",
          "Molise",
          "Campania",
          "Puglia",
          "Basilicata",
          "Calabria",
          "Sicilia",
          "Sardegna",
          "Italia"
         ],
         "type": "choropleth",
         "visible": false,
         "z": [
          1.41,
          1.44,
          1.35,
          1.47,
          1.63,
          1.65,
          1.6,
          1.43,
          1.38,
          1.46,
          1.34,
          1.38,
          1.35,
          1.43,
          1.3,
          1.18,
          1.36,
          1.28,
          1.13,
          1.29,
          1.37,
          1.12,
          1.39
         ],
         "zmax": 2,
         "zmin": 1
        },
        {
         "colorbar": {
          "title": {
           "text": "TFR"
          }
         },
         "colorscale": [
          [
           0,
           "rgb(0, 147, 146)"
          ],
          [
           0.16666666666666666,
           "rgb(114, 170, 161)"
          ],
          [
           0.3333333333333333,
           "rgb(177, 199, 179)"
          ],
          [
           0.5,
           "rgb(241, 234, 200)"
          ],
          [
           0.6666666666666666,
           "rgb(229, 185, 173)"
          ],
          [
           0.8333333333333334,
           "rgb(217, 137, 148)"
          ],
          [
           1,
           "rgb(208, 88, 126)"
          ]
         ],
         "featureidkey": "properties.reg_name",
         "geojson": "https://raw.githubusercontent.com/openpolis/geojson-italy/master/geojson/limits_IT_regions.geojson",
         "hoverinfo": "location",
         "locationmode": "geojson-id",
         "locations": [
          "Piemonte",
          "Valle d'Aosta/Vallée d'Aoste",
          "Liguria",
          "Lombardia",
          "Trentino-Alto Adige/Südtirol",
          "Provincia Autonoma di Bolzano",
          "Provincia Autonoma di Trento",
          "Veneto",
          "Friuli-Venezia Giulia",
          "Emilia-Romagna",
          "Toscana",
          "Umbria",
          "Marche",
          "Lazio",
          "Abruzzo",
          "Molise",
          "Campania",
          "Puglia",
          "Basilicata",
          "Calabria",
          "Sicilia",
          "Sardegna",
          "Italia"
         ],
         "type": "choropleth",
         "visible": false,
         "z": [
          1.41,
          1.54,
          1.35,
          1.46,
          1.65,
          1.75,
          1.54,
          1.42,
          1.39,
          1.43,
          1.36,
          1.34,
          1.35,
          1.4,
          1.3,
          1.18,
          1.34,
          1.29,
          1.16,
          1.3,
          1.4,
          1.11,
          1.38
         ],
         "zmax": 2,
         "zmin": 1
        },
        {
         "colorbar": {
          "title": {
           "text": "TFR"
          }
         },
         "colorscale": [
          [
           0,
           "rgb(0, 147, 146)"
          ],
          [
           0.16666666666666666,
           "rgb(114, 170, 161)"
          ],
          [
           0.3333333333333333,
           "rgb(177, 199, 179)"
          ],
          [
           0.5,
           "rgb(241, 234, 200)"
          ],
          [
           0.6666666666666666,
           "rgb(229, 185, 173)"
          ],
          [
           0.8333333333333334,
           "rgb(217, 137, 148)"
          ],
          [
           1,
           "rgb(208, 88, 126)"
          ]
         ],
         "featureidkey": "properties.reg_name",
         "geojson": "https://raw.githubusercontent.com/openpolis/geojson-italy/master/geojson/limits_IT_regions.geojson",
         "hoverinfo": "location",
         "locationmode": "geojson-id",
         "locations": [
          "Piemonte",
          "Valle d'Aosta/Vallée d'Aoste",
          "Liguria",
          "Lombardia",
          "Trentino-Alto Adige/Südtirol",
          "Provincia Autonoma di Bolzano",
          "Provincia Autonoma di Trento",
          "Veneto",
          "Friuli-Venezia Giulia",
          "Emilia-Romagna",
          "Toscana",
          "Umbria",
          "Marche",
          "Lazio",
          "Abruzzo",
          "Molise",
          "Campania",
          "Puglia",
          "Basilicata",
          "Calabria",
          "Sicilia",
          "Sardegna",
          "Italia"
         ],
         "type": "choropleth",
         "visible": false,
         "z": [
          1.37,
          1.41,
          1.32,
          1.45,
          1.64,
          1.71,
          1.56,
          1.39,
          1.33,
          1.43,
          1.31,
          1.29,
          1.34,
          1.36,
          1.29,
          1.18,
          1.35,
          1.26,
          1.18,
          1.31,
          1.38,
          1.11,
          1.36
         ],
         "zmax": 2,
         "zmin": 1
        },
        {
         "colorbar": {
          "title": {
           "text": "TFR"
          }
         },
         "colorscale": [
          [
           0,
           "rgb(0, 147, 146)"
          ],
          [
           0.16666666666666666,
           "rgb(114, 170, 161)"
          ],
          [
           0.3333333333333333,
           "rgb(177, 199, 179)"
          ],
          [
           0.5,
           "rgb(241, 234, 200)"
          ],
          [
           0.6666666666666666,
           "rgb(229, 185, 173)"
          ],
          [
           0.8333333333333334,
           "rgb(217, 137, 148)"
          ],
          [
           1,
           "rgb(208, 88, 126)"
          ]
         ],
         "featureidkey": "properties.reg_name",
         "geojson": "https://raw.githubusercontent.com/openpolis/geojson-italy/master/geojson/limits_IT_regions.geojson",
         "hoverinfo": "location",
         "locationmode": "geojson-id",
         "locations": [
          "Piemonte",
          "Valle d'Aosta/Vallée d'Aoste",
          "Liguria",
          "Lombardia",
          "Trentino-Alto Adige/Südtirol",
          "Provincia Autonoma di Bolzano",
          "Provincia Autonoma di Trento",
          "Veneto",
          "Friuli-Venezia Giulia",
          "Emilia-Romagna",
          "Toscana",
          "Umbria",
          "Marche",
          "Lazio",
          "Abruzzo",
          "Molise",
          "Campania",
          "Puglia",
          "Basilicata",
          "Calabria",
          "Sicilia",
          "Sardegna",
          "Italia"
         ],
         "type": "choropleth",
         "visible": false,
         "z": [
          1.36,
          1.42,
          1.31,
          1.43,
          1.64,
          1.77,
          1.52,
          1.39,
          1.34,
          1.4,
          1.31,
          1.28,
          1.32,
          1.36,
          1.29,
          1.16,
          1.35,
          1.27,
          1.18,
          1.31,
          1.35,
          1.08,
          1.36
         ],
         "zmax": 2,
         "zmin": 1
        },
        {
         "colorbar": {
          "title": {
           "text": "TFR"
          }
         },
         "colorscale": [
          [
           0,
           "rgb(0, 147, 146)"
          ],
          [
           0.16666666666666666,
           "rgb(114, 170, 161)"
          ],
          [
           0.3333333333333333,
           "rgb(177, 199, 179)"
          ],
          [
           0.5,
           "rgb(241, 234, 200)"
          ],
          [
           0.6666666666666666,
           "rgb(229, 185, 173)"
          ],
          [
           0.8333333333333334,
           "rgb(217, 137, 148)"
          ],
          [
           1,
           "rgb(208, 88, 126)"
          ]
         ],
         "featureidkey": "properties.reg_name",
         "geojson": "https://raw.githubusercontent.com/openpolis/geojson-italy/master/geojson/limits_IT_regions.geojson",
         "hoverinfo": "location",
         "locationmode": "geojson-id",
         "locations": [
          "Piemonte",
          "Valle d'Aosta/Vallée d'Aoste",
          "Liguria",
          "Lombardia",
          "Trentino-Alto Adige/Südtirol",
          "Provincia Autonoma di Bolzano",
          "Provincia Autonoma di Trento",
          "Veneto",
          "Friuli-Venezia Giulia",
          "Emilia-Romagna",
          "Toscana",
          "Umbria",
          "Marche",
          "Lazio",
          "Abruzzo",
          "Molise",
          "Campania",
          "Puglia",
          "Basilicata",
          "Calabria",
          "Sicilia",
          "Sardegna",
          "Italia"
         ],
         "type": "choropleth",
         "visible": false,
         "z": [
          1.35,
          1.35,
          1.29,
          1.4,
          1.62,
          1.75,
          1.49,
          1.37,
          1.32,
          1.36,
          1.29,
          1.26,
          1.26,
          1.3,
          1.25,
          1.2,
          1.36,
          1.25,
          1.2,
          1.3,
          1.37,
          1.08,
          1.34
         ],
         "zmax": 2,
         "zmin": 1
        },
        {
         "colorbar": {
          "title": {
           "text": "TFR"
          }
         },
         "colorscale": [
          [
           0,
           "rgb(0, 147, 146)"
          ],
          [
           0.16666666666666666,
           "rgb(114, 170, 161)"
          ],
          [
           0.3333333333333333,
           "rgb(177, 199, 179)"
          ],
          [
           0.5,
           "rgb(241, 234, 200)"
          ],
          [
           0.6666666666666666,
           "rgb(229, 185, 173)"
          ],
          [
           0.8333333333333334,
           "rgb(217, 137, 148)"
          ],
          [
           1,
           "rgb(208, 88, 126)"
          ]
         ],
         "featureidkey": "properties.reg_name",
         "geojson": "https://raw.githubusercontent.com/openpolis/geojson-italy/master/geojson/limits_IT_regions.geojson",
         "hoverinfo": "location",
         "locationmode": "geojson-id",
         "locations": [
          "Piemonte",
          "Valle d'Aosta/Vallée d'Aoste",
          "Liguria",
          "Lombardia",
          "Trentino-Alto Adige/Südtirol",
          "Provincia Autonoma di Bolzano",
          "Provincia Autonoma di Trento",
          "Veneto",
          "Friuli-Venezia Giulia",
          "Emilia-Romagna",
          "Toscana",
          "Umbria",
          "Marche",
          "Lazio",
          "Abruzzo",
          "Molise",
          "Campania",
          "Puglia",
          "Basilicata",
          "Calabria",
          "Sicilia",
          "Sardegna",
          "Italia"
         ],
         "type": "choropleth",
         "visible": false,
         "z": [
          1.3,
          1.39,
          1.24,
          1.36,
          1.59,
          1.73,
          1.45,
          1.34,
          1.28,
          1.35,
          1.26,
          1.22,
          1.23,
          1.25,
          1.2,
          1.11,
          1.33,
          1.23,
          1.14,
          1.29,
          1.37,
          1.03,
          1.31
         ],
         "zmax": 2,
         "zmin": 1
        },
        {
         "colorbar": {
          "title": {
           "text": "TFR"
          }
         },
         "colorscale": [
          [
           0,
           "rgb(0, 147, 146)"
          ],
          [
           0.16666666666666666,
           "rgb(114, 170, 161)"
          ],
          [
           0.3333333333333333,
           "rgb(177, 199, 179)"
          ],
          [
           0.5,
           "rgb(241, 234, 200)"
          ],
          [
           0.6666666666666666,
           "rgb(229, 185, 173)"
          ],
          [
           0.8333333333333334,
           "rgb(217, 137, 148)"
          ],
          [
           1,
           "rgb(208, 88, 126)"
          ]
         ],
         "featureidkey": "properties.reg_name",
         "geojson": "https://raw.githubusercontent.com/openpolis/geojson-italy/master/geojson/limits_IT_regions.geojson",
         "hoverinfo": "location",
         "locationmode": "geojson-id",
         "locations": [
          "Piemonte",
          "Valle d'Aosta/Vallée d'Aoste",
          "Liguria",
          "Lombardia",
          "Trentino-Alto Adige/Südtirol",
          "Provincia Autonoma di Bolzano",
          "Provincia Autonoma di Trento",
          "Veneto",
          "Friuli-Venezia Giulia",
          "Emilia-Romagna",
          "Toscana",
          "Umbria",
          "Marche",
          "Lazio",
          "Abruzzo",
          "Molise",
          "Campania",
          "Puglia",
          "Basilicata",
          "Calabria",
          "Sicilia",
          "Sardegna",
          "Italia"
         ],
         "type": "choropleth",
         "visible": false,
         "z": [
          1.27,
          1.31,
          1.21,
          1.33,
          1.57,
          1.71,
          1.42,
          1.29,
          1.25,
          1.3,
          1.21,
          1.2,
          1.19,
          1.18,
          1.17,
          1.15,
          1.31,
          1.2,
          1.15,
          1.26,
          1.33,
          1,
          1.27
         ],
         "zmax": 2,
         "zmin": 1
        },
        {
         "colorbar": {
          "title": {
           "text": "TFR"
          }
         },
         "colorscale": [
          [
           0,
           "rgb(0, 147, 146)"
          ],
          [
           0.16666666666666666,
           "rgb(114, 170, 161)"
          ],
          [
           0.3333333333333333,
           "rgb(177, 199, 179)"
          ],
          [
           0.5,
           "rgb(241, 234, 200)"
          ],
          [
           0.6666666666666666,
           "rgb(229, 185, 173)"
          ],
          [
           0.8333333333333334,
           "rgb(217, 137, 148)"
          ],
          [
           1,
           "rgb(208, 88, 126)"
          ]
         ],
         "featureidkey": "properties.reg_name",
         "geojson": "https://raw.githubusercontent.com/openpolis/geojson-italy/master/geojson/limits_IT_regions.geojson",
         "hoverinfo": "location",
         "locationmode": "geojson-id",
         "locations": [
          "Piemonte",
          "Valle d'Aosta/Vallée d'Aoste",
          "Liguria",
          "Lombardia",
          "Trentino-Alto Adige/Südtirol",
          "Provincia Autonoma di Bolzano",
          "Provincia Autonoma di Trento",
          "Veneto",
          "Friuli-Venezia Giulia",
          "Emilia-Romagna",
          "Toscana",
          "Umbria",
          "Marche",
          "Lazio",
          "Abruzzo",
          "Molise",
          "Campania",
          "Puglia",
          "Basilicata",
          "Calabria",
          "Sicilia",
          "Sardegna",
          "Italia"
         ],
         "type": "choropleth",
         "visible": false,
         "z": [
          1.25,
          1.23,
          1.23,
          1.27,
          1.54,
          1.71,
          1.36,
          1.28,
          1.26,
          1.26,
          1.16,
          1.16,
          1.19,
          1.18,
          1.17,
          1.06,
          1.3,
          1.18,
          1.14,
          1.26,
          1.33,
          0.97,
          1.24
         ],
         "zmax": 2,
         "zmin": 1
        },
        {
         "colorbar": {
          "title": {
           "text": "TFR"
          }
         },
         "colorscale": [
          [
           0,
           "rgb(0, 147, 146)"
          ],
          [
           0.16666666666666666,
           "rgb(114, 170, 161)"
          ],
          [
           0.3333333333333333,
           "rgb(177, 199, 179)"
          ],
          [
           0.5,
           "rgb(241, 234, 200)"
          ],
          [
           0.6666666666666666,
           "rgb(229, 185, 173)"
          ],
          [
           0.8333333333333334,
           "rgb(217, 137, 148)"
          ],
          [
           1,
           "rgb(208, 88, 126)"
          ]
         ],
         "featureidkey": "properties.reg_name",
         "geojson": "https://raw.githubusercontent.com/openpolis/geojson-italy/master/geojson/limits_IT_regions.geojson",
         "hoverinfo": "location",
         "locationmode": "geojson-id",
         "locations": [
          "Piemonte",
          "Valle d'Aosta/Vallée d'Aoste",
          "Liguria",
          "Lombardia",
          "Trentino-Alto Adige/Südtirol",
          "Provincia Autonoma di Bolzano",
          "Provincia Autonoma di Trento",
          "Veneto",
          "Friuli-Venezia Giulia",
          "Emilia-Romagna",
          "Toscana",
          "Umbria",
          "Marche",
          "Lazio",
          "Abruzzo",
          "Molise",
          "Campania",
          "Puglia",
          "Basilicata",
          "Calabria",
          "Sicilia",
          "Sardegna",
          "Italia"
         ],
         "type": "choropleth",
         "visible": false,
         "z": [
          1.24,
          1.21,
          1.21,
          1.27,
          1.57,
          1.72,
          1.42,
          1.3,
          1.25,
          1.27,
          1.2,
          1.18,
          1.2,
          1.18,
          1.2,
          1.08,
          1.28,
          1.2,
          1.11,
          1.23,
          1.35,
          0.99,
          1.25
         ],
         "zmax": 2,
         "zmin": 1
        }
       ],
       "layout": {
        "geo": {
         "lataxis": {
          "range": [
           35,
           48
          ]
         },
         "lonaxis": {
          "range": [
           5,
           20
          ]
         },
         "projection": {
          "type": "mercator"
         },
         "resolution": 50,
         "scope": "europe",
         "showland": false
        },
        "height": 800,
        "sliders": [
         {
          "active": 0,
          "pad": {
           "t": 1
          },
          "steps": [
           {
            "args": [
             "visible",
             [
              true,
              false,
              false,
              false,
              false,
              false,
              false,
              false,
              false,
              false,
              false,
              false,
              false,
              false,
              false,
              false,
              false,
              false,
              false,
              false,
              false,
              false,
              false,
              false,
              false,
              false,
              false,
              false,
              false,
              false
             ]
            ],
            "label": "Year 1992",
            "method": "restyle"
           },
           {
            "args": [
             "visible",
             [
              false,
              true,
              false,
              false,
              false,
              false,
              false,
              false,
              false,
              false,
              false,
              false,
              false,
              false,
              false,
              false,
              false,
              false,
              false,
              false,
              false,
              false,
              false,
              false,
              false,
              false,
              false,
              false,
              false,
              false
             ]
            ],
            "label": "Year 1993",
            "method": "restyle"
           },
           {
            "args": [
             "visible",
             [
              false,
              false,
              true,
              false,
              false,
              false,
              false,
              false,
              false,
              false,
              false,
              false,
              false,
              false,
              false,
              false,
              false,
              false,
              false,
              false,
              false,
              false,
              false,
              false,
              false,
              false,
              false,
              false,
              false,
              false
             ]
            ],
            "label": "Year 1994",
            "method": "restyle"
           },
           {
            "args": [
             "visible",
             [
              false,
              false,
              false,
              true,
              false,
              false,
              false,
              false,
              false,
              false,
              false,
              false,
              false,
              false,
              false,
              false,
              false,
              false,
              false,
              false,
              false,
              false,
              false,
              false,
              false,
              false,
              false,
              false,
              false,
              false
             ]
            ],
            "label": "Year 1995",
            "method": "restyle"
           },
           {
            "args": [
             "visible",
             [
              false,
              false,
              false,
              false,
              true,
              false,
              false,
              false,
              false,
              false,
              false,
              false,
              false,
              false,
              false,
              false,
              false,
              false,
              false,
              false,
              false,
              false,
              false,
              false,
              false,
              false,
              false,
              false,
              false,
              false
             ]
            ],
            "label": "Year 1996",
            "method": "restyle"
           },
           {
            "args": [
             "visible",
             [
              false,
              false,
              false,
              false,
              false,
              true,
              false,
              false,
              false,
              false,
              false,
              false,
              false,
              false,
              false,
              false,
              false,
              false,
              false,
              false,
              false,
              false,
              false,
              false,
              false,
              false,
              false,
              false,
              false,
              false
             ]
            ],
            "label": "Year 1997",
            "method": "restyle"
           },
           {
            "args": [
             "visible",
             [
              false,
              false,
              false,
              false,
              false,
              false,
              true,
              false,
              false,
              false,
              false,
              false,
              false,
              false,
              false,
              false,
              false,
              false,
              false,
              false,
              false,
              false,
              false,
              false,
              false,
              false,
              false,
              false,
              false,
              false
             ]
            ],
            "label": "Year 1998",
            "method": "restyle"
           },
           {
            "args": [
             "visible",
             [
              false,
              false,
              false,
              false,
              false,
              false,
              false,
              true,
              false,
              false,
              false,
              false,
              false,
              false,
              false,
              false,
              false,
              false,
              false,
              false,
              false,
              false,
              false,
              false,
              false,
              false,
              false,
              false,
              false,
              false
             ]
            ],
            "label": "Year 1999",
            "method": "restyle"
           },
           {
            "args": [
             "visible",
             [
              false,
              false,
              false,
              false,
              false,
              false,
              false,
              false,
              true,
              false,
              false,
              false,
              false,
              false,
              false,
              false,
              false,
              false,
              false,
              false,
              false,
              false,
              false,
              false,
              false,
              false,
              false,
              false,
              false,
              false
             ]
            ],
            "label": "Year 2000",
            "method": "restyle"
           },
           {
            "args": [
             "visible",
             [
              false,
              false,
              false,
              false,
              false,
              false,
              false,
              false,
              false,
              true,
              false,
              false,
              false,
              false,
              false,
              false,
              false,
              false,
              false,
              false,
              false,
              false,
              false,
              false,
              false,
              false,
              false,
              false,
              false,
              false
             ]
            ],
            "label": "Year 2001",
            "method": "restyle"
           },
           {
            "args": [
             "visible",
             [
              false,
              false,
              false,
              false,
              false,
              false,
              false,
              false,
              false,
              false,
              true,
              false,
              false,
              false,
              false,
              false,
              false,
              false,
              false,
              false,
              false,
              false,
              false,
              false,
              false,
              false,
              false,
              false,
              false,
              false
             ]
            ],
            "label": "Year 2002",
            "method": "restyle"
           },
           {
            "args": [
             "visible",
             [
              false,
              false,
              false,
              false,
              false,
              false,
              false,
              false,
              false,
              false,
              false,
              true,
              false,
              false,
              false,
              false,
              false,
              false,
              false,
              false,
              false,
              false,
              false,
              false,
              false,
              false,
              false,
              false,
              false,
              false
             ]
            ],
            "label": "Year 2003",
            "method": "restyle"
           },
           {
            "args": [
             "visible",
             [
              false,
              false,
              false,
              false,
              false,
              false,
              false,
              false,
              false,
              false,
              false,
              false,
              true,
              false,
              false,
              false,
              false,
              false,
              false,
              false,
              false,
              false,
              false,
              false,
              false,
              false,
              false,
              false,
              false,
              false
             ]
            ],
            "label": "Year 2004",
            "method": "restyle"
           },
           {
            "args": [
             "visible",
             [
              false,
              false,
              false,
              false,
              false,
              false,
              false,
              false,
              false,
              false,
              false,
              false,
              false,
              true,
              false,
              false,
              false,
              false,
              false,
              false,
              false,
              false,
              false,
              false,
              false,
              false,
              false,
              false,
              false,
              false
             ]
            ],
            "label": "Year 2005",
            "method": "restyle"
           },
           {
            "args": [
             "visible",
             [
              false,
              false,
              false,
              false,
              false,
              false,
              false,
              false,
              false,
              false,
              false,
              false,
              false,
              false,
              true,
              false,
              false,
              false,
              false,
              false,
              false,
              false,
              false,
              false,
              false,
              false,
              false,
              false,
              false,
              false
             ]
            ],
            "label": "Year 2006",
            "method": "restyle"
           },
           {
            "args": [
             "visible",
             [
              false,
              false,
              false,
              false,
              false,
              false,
              false,
              false,
              false,
              false,
              false,
              false,
              false,
              false,
              false,
              true,
              false,
              false,
              false,
              false,
              false,
              false,
              false,
              false,
              false,
              false,
              false,
              false,
              false,
              false
             ]
            ],
            "label": "Year 2007",
            "method": "restyle"
           },
           {
            "args": [
             "visible",
             [
              false,
              false,
              false,
              false,
              false,
              false,
              false,
              false,
              false,
              false,
              false,
              false,
              false,
              false,
              false,
              false,
              true,
              false,
              false,
              false,
              false,
              false,
              false,
              false,
              false,
              false,
              false,
              false,
              false,
              false
             ]
            ],
            "label": "Year 2008",
            "method": "restyle"
           },
           {
            "args": [
             "visible",
             [
              false,
              false,
              false,
              false,
              false,
              false,
              false,
              false,
              false,
              false,
              false,
              false,
              false,
              false,
              false,
              false,
              false,
              true,
              false,
              false,
              false,
              false,
              false,
              false,
              false,
              false,
              false,
              false,
              false,
              false
             ]
            ],
            "label": "Year 2009",
            "method": "restyle"
           },
           {
            "args": [
             "visible",
             [
              false,
              false,
              false,
              false,
              false,
              false,
              false,
              false,
              false,
              false,
              false,
              false,
              false,
              false,
              false,
              false,
              false,
              false,
              true,
              false,
              false,
              false,
              false,
              false,
              false,
              false,
              false,
              false,
              false,
              false
             ]
            ],
            "label": "Year 2010",
            "method": "restyle"
           },
           {
            "args": [
             "visible",
             [
              false,
              false,
              false,
              false,
              false,
              false,
              false,
              false,
              false,
              false,
              false,
              false,
              false,
              false,
              false,
              false,
              false,
              false,
              false,
              true,
              false,
              false,
              false,
              false,
              false,
              false,
              false,
              false,
              false,
              false
             ]
            ],
            "label": "Year 2011",
            "method": "restyle"
           },
           {
            "args": [
             "visible",
             [
              false,
              false,
              false,
              false,
              false,
              false,
              false,
              false,
              false,
              false,
              false,
              false,
              false,
              false,
              false,
              false,
              false,
              false,
              false,
              false,
              true,
              false,
              false,
              false,
              false,
              false,
              false,
              false,
              false,
              false
             ]
            ],
            "label": "Year 2012",
            "method": "restyle"
           },
           {
            "args": [
             "visible",
             [
              false,
              false,
              false,
              false,
              false,
              false,
              false,
              false,
              false,
              false,
              false,
              false,
              false,
              false,
              false,
              false,
              false,
              false,
              false,
              false,
              false,
              true,
              false,
              false,
              false,
              false,
              false,
              false,
              false,
              false
             ]
            ],
            "label": "Year 2013",
            "method": "restyle"
           },
           {
            "args": [
             "visible",
             [
              false,
              false,
              false,
              false,
              false,
              false,
              false,
              false,
              false,
              false,
              false,
              false,
              false,
              false,
              false,
              false,
              false,
              false,
              false,
              false,
              false,
              false,
              true,
              false,
              false,
              false,
              false,
              false,
              false,
              false
             ]
            ],
            "label": "Year 2014",
            "method": "restyle"
           },
           {
            "args": [
             "visible",
             [
              false,
              false,
              false,
              false,
              false,
              false,
              false,
              false,
              false,
              false,
              false,
              false,
              false,
              false,
              false,
              false,
              false,
              false,
              false,
              false,
              false,
              false,
              false,
              true,
              false,
              false,
              false,
              false,
              false,
              false
             ]
            ],
            "label": "Year 2015",
            "method": "restyle"
           },
           {
            "args": [
             "visible",
             [
              false,
              false,
              false,
              false,
              false,
              false,
              false,
              false,
              false,
              false,
              false,
              false,
              false,
              false,
              false,
              false,
              false,
              false,
              false,
              false,
              false,
              false,
              false,
              false,
              true,
              false,
              false,
              false,
              false,
              false
             ]
            ],
            "label": "Year 2016",
            "method": "restyle"
           },
           {
            "args": [
             "visible",
             [
              false,
              false,
              false,
              false,
              false,
              false,
              false,
              false,
              false,
              false,
              false,
              false,
              false,
              false,
              false,
              false,
              false,
              false,
              false,
              false,
              false,
              false,
              false,
              false,
              false,
              true,
              false,
              false,
              false,
              false
             ]
            ],
            "label": "Year 2017",
            "method": "restyle"
           },
           {
            "args": [
             "visible",
             [
              false,
              false,
              false,
              false,
              false,
              false,
              false,
              false,
              false,
              false,
              false,
              false,
              false,
              false,
              false,
              false,
              false,
              false,
              false,
              false,
              false,
              false,
              false,
              false,
              false,
              false,
              true,
              false,
              false,
              false
             ]
            ],
            "label": "Year 2018",
            "method": "restyle"
           },
           {
            "args": [
             "visible",
             [
              false,
              false,
              false,
              false,
              false,
              false,
              false,
              false,
              false,
              false,
              false,
              false,
              false,
              false,
              false,
              false,
              false,
              false,
              false,
              false,
              false,
              false,
              false,
              false,
              false,
              false,
              false,
              true,
              false,
              false
             ]
            ],
            "label": "Year 2019",
            "method": "restyle"
           },
           {
            "args": [
             "visible",
             [
              false,
              false,
              false,
              false,
              false,
              false,
              false,
              false,
              false,
              false,
              false,
              false,
              false,
              false,
              false,
              false,
              false,
              false,
              false,
              false,
              false,
              false,
              false,
              false,
              false,
              false,
              false,
              false,
              true,
              false
             ]
            ],
            "label": "Year 2020",
            "method": "restyle"
           },
           {
            "args": [
             "visible",
             [
              false,
              false,
              false,
              false,
              false,
              false,
              false,
              false,
              false,
              false,
              false,
              false,
              false,
              false,
              false,
              false,
              false,
              false,
              false,
              false,
              false,
              false,
              false,
              false,
              false,
              false,
              false,
              false,
              false,
              true
             ]
            ],
            "label": "Year 2021",
            "method": "restyle"
           }
          ]
         }
        ],
        "template": {
         "data": {
          "bar": [
           {
            "error_x": {
             "color": "#2a3f5f"
            },
            "error_y": {
             "color": "#2a3f5f"
            },
            "marker": {
             "line": {
              "color": "#E5ECF6",
              "width": 0.5
             },
             "pattern": {
              "fillmode": "overlay",
              "size": 10,
              "solidity": 0.2
             }
            },
            "type": "bar"
           }
          ],
          "barpolar": [
           {
            "marker": {
             "line": {
              "color": "#E5ECF6",
              "width": 0.5
             },
             "pattern": {
              "fillmode": "overlay",
              "size": 10,
              "solidity": 0.2
             }
            },
            "type": "barpolar"
           }
          ],
          "carpet": [
           {
            "aaxis": {
             "endlinecolor": "#2a3f5f",
             "gridcolor": "white",
             "linecolor": "white",
             "minorgridcolor": "white",
             "startlinecolor": "#2a3f5f"
            },
            "baxis": {
             "endlinecolor": "#2a3f5f",
             "gridcolor": "white",
             "linecolor": "white",
             "minorgridcolor": "white",
             "startlinecolor": "#2a3f5f"
            },
            "type": "carpet"
           }
          ],
          "choropleth": [
           {
            "colorbar": {
             "outlinewidth": 0,
             "ticks": ""
            },
            "type": "choropleth"
           }
          ],
          "contour": [
           {
            "colorbar": {
             "outlinewidth": 0,
             "ticks": ""
            },
            "colorscale": [
             [
              0,
              "#0d0887"
             ],
             [
              0.1111111111111111,
              "#46039f"
             ],
             [
              0.2222222222222222,
              "#7201a8"
             ],
             [
              0.3333333333333333,
              "#9c179e"
             ],
             [
              0.4444444444444444,
              "#bd3786"
             ],
             [
              0.5555555555555556,
              "#d8576b"
             ],
             [
              0.6666666666666666,
              "#ed7953"
             ],
             [
              0.7777777777777778,
              "#fb9f3a"
             ],
             [
              0.8888888888888888,
              "#fdca26"
             ],
             [
              1,
              "#f0f921"
             ]
            ],
            "type": "contour"
           }
          ],
          "contourcarpet": [
           {
            "colorbar": {
             "outlinewidth": 0,
             "ticks": ""
            },
            "type": "contourcarpet"
           }
          ],
          "heatmap": [
           {
            "colorbar": {
             "outlinewidth": 0,
             "ticks": ""
            },
            "colorscale": [
             [
              0,
              "#0d0887"
             ],
             [
              0.1111111111111111,
              "#46039f"
             ],
             [
              0.2222222222222222,
              "#7201a8"
             ],
             [
              0.3333333333333333,
              "#9c179e"
             ],
             [
              0.4444444444444444,
              "#bd3786"
             ],
             [
              0.5555555555555556,
              "#d8576b"
             ],
             [
              0.6666666666666666,
              "#ed7953"
             ],
             [
              0.7777777777777778,
              "#fb9f3a"
             ],
             [
              0.8888888888888888,
              "#fdca26"
             ],
             [
              1,
              "#f0f921"
             ]
            ],
            "type": "heatmap"
           }
          ],
          "heatmapgl": [
           {
            "colorbar": {
             "outlinewidth": 0,
             "ticks": ""
            },
            "colorscale": [
             [
              0,
              "#0d0887"
             ],
             [
              0.1111111111111111,
              "#46039f"
             ],
             [
              0.2222222222222222,
              "#7201a8"
             ],
             [
              0.3333333333333333,
              "#9c179e"
             ],
             [
              0.4444444444444444,
              "#bd3786"
             ],
             [
              0.5555555555555556,
              "#d8576b"
             ],
             [
              0.6666666666666666,
              "#ed7953"
             ],
             [
              0.7777777777777778,
              "#fb9f3a"
             ],
             [
              0.8888888888888888,
              "#fdca26"
             ],
             [
              1,
              "#f0f921"
             ]
            ],
            "type": "heatmapgl"
           }
          ],
          "histogram": [
           {
            "marker": {
             "pattern": {
              "fillmode": "overlay",
              "size": 10,
              "solidity": 0.2
             }
            },
            "type": "histogram"
           }
          ],
          "histogram2d": [
           {
            "colorbar": {
             "outlinewidth": 0,
             "ticks": ""
            },
            "colorscale": [
             [
              0,
              "#0d0887"
             ],
             [
              0.1111111111111111,
              "#46039f"
             ],
             [
              0.2222222222222222,
              "#7201a8"
             ],
             [
              0.3333333333333333,
              "#9c179e"
             ],
             [
              0.4444444444444444,
              "#bd3786"
             ],
             [
              0.5555555555555556,
              "#d8576b"
             ],
             [
              0.6666666666666666,
              "#ed7953"
             ],
             [
              0.7777777777777778,
              "#fb9f3a"
             ],
             [
              0.8888888888888888,
              "#fdca26"
             ],
             [
              1,
              "#f0f921"
             ]
            ],
            "type": "histogram2d"
           }
          ],
          "histogram2dcontour": [
           {
            "colorbar": {
             "outlinewidth": 0,
             "ticks": ""
            },
            "colorscale": [
             [
              0,
              "#0d0887"
             ],
             [
              0.1111111111111111,
              "#46039f"
             ],
             [
              0.2222222222222222,
              "#7201a8"
             ],
             [
              0.3333333333333333,
              "#9c179e"
             ],
             [
              0.4444444444444444,
              "#bd3786"
             ],
             [
              0.5555555555555556,
              "#d8576b"
             ],
             [
              0.6666666666666666,
              "#ed7953"
             ],
             [
              0.7777777777777778,
              "#fb9f3a"
             ],
             [
              0.8888888888888888,
              "#fdca26"
             ],
             [
              1,
              "#f0f921"
             ]
            ],
            "type": "histogram2dcontour"
           }
          ],
          "mesh3d": [
           {
            "colorbar": {
             "outlinewidth": 0,
             "ticks": ""
            },
            "type": "mesh3d"
           }
          ],
          "parcoords": [
           {
            "line": {
             "colorbar": {
              "outlinewidth": 0,
              "ticks": ""
             }
            },
            "type": "parcoords"
           }
          ],
          "pie": [
           {
            "automargin": true,
            "type": "pie"
           }
          ],
          "scatter": [
           {
            "fillpattern": {
             "fillmode": "overlay",
             "size": 10,
             "solidity": 0.2
            },
            "type": "scatter"
           }
          ],
          "scatter3d": [
           {
            "line": {
             "colorbar": {
              "outlinewidth": 0,
              "ticks": ""
             }
            },
            "marker": {
             "colorbar": {
              "outlinewidth": 0,
              "ticks": ""
             }
            },
            "type": "scatter3d"
           }
          ],
          "scattercarpet": [
           {
            "marker": {
             "colorbar": {
              "outlinewidth": 0,
              "ticks": ""
             }
            },
            "type": "scattercarpet"
           }
          ],
          "scattergeo": [
           {
            "marker": {
             "colorbar": {
              "outlinewidth": 0,
              "ticks": ""
             }
            },
            "type": "scattergeo"
           }
          ],
          "scattergl": [
           {
            "marker": {
             "colorbar": {
              "outlinewidth": 0,
              "ticks": ""
             }
            },
            "type": "scattergl"
           }
          ],
          "scattermapbox": [
           {
            "marker": {
             "colorbar": {
              "outlinewidth": 0,
              "ticks": ""
             }
            },
            "type": "scattermapbox"
           }
          ],
          "scatterpolar": [
           {
            "marker": {
             "colorbar": {
              "outlinewidth": 0,
              "ticks": ""
             }
            },
            "type": "scatterpolar"
           }
          ],
          "scatterpolargl": [
           {
            "marker": {
             "colorbar": {
              "outlinewidth": 0,
              "ticks": ""
             }
            },
            "type": "scatterpolargl"
           }
          ],
          "scatterternary": [
           {
            "marker": {
             "colorbar": {
              "outlinewidth": 0,
              "ticks": ""
             }
            },
            "type": "scatterternary"
           }
          ],
          "surface": [
           {
            "colorbar": {
             "outlinewidth": 0,
             "ticks": ""
            },
            "colorscale": [
             [
              0,
              "#0d0887"
             ],
             [
              0.1111111111111111,
              "#46039f"
             ],
             [
              0.2222222222222222,
              "#7201a8"
             ],
             [
              0.3333333333333333,
              "#9c179e"
             ],
             [
              0.4444444444444444,
              "#bd3786"
             ],
             [
              0.5555555555555556,
              "#d8576b"
             ],
             [
              0.6666666666666666,
              "#ed7953"
             ],
             [
              0.7777777777777778,
              "#fb9f3a"
             ],
             [
              0.8888888888888888,
              "#fdca26"
             ],
             [
              1,
              "#f0f921"
             ]
            ],
            "type": "surface"
           }
          ],
          "table": [
           {
            "cells": {
             "fill": {
              "color": "#EBF0F8"
             },
             "line": {
              "color": "white"
             }
            },
            "header": {
             "fill": {
              "color": "#C8D4E3"
             },
             "line": {
              "color": "white"
             }
            },
            "type": "table"
           }
          ]
         },
         "layout": {
          "annotationdefaults": {
           "arrowcolor": "#2a3f5f",
           "arrowhead": 0,
           "arrowwidth": 1
          },
          "autotypenumbers": "strict",
          "coloraxis": {
           "colorbar": {
            "outlinewidth": 0,
            "ticks": ""
           }
          },
          "colorscale": {
           "diverging": [
            [
             0,
             "#8e0152"
            ],
            [
             0.1,
             "#c51b7d"
            ],
            [
             0.2,
             "#de77ae"
            ],
            [
             0.3,
             "#f1b6da"
            ],
            [
             0.4,
             "#fde0ef"
            ],
            [
             0.5,
             "#f7f7f7"
            ],
            [
             0.6,
             "#e6f5d0"
            ],
            [
             0.7,
             "#b8e186"
            ],
            [
             0.8,
             "#7fbc41"
            ],
            [
             0.9,
             "#4d9221"
            ],
            [
             1,
             "#276419"
            ]
           ],
           "sequential": [
            [
             0,
             "#0d0887"
            ],
            [
             0.1111111111111111,
             "#46039f"
            ],
            [
             0.2222222222222222,
             "#7201a8"
            ],
            [
             0.3333333333333333,
             "#9c179e"
            ],
            [
             0.4444444444444444,
             "#bd3786"
            ],
            [
             0.5555555555555556,
             "#d8576b"
            ],
            [
             0.6666666666666666,
             "#ed7953"
            ],
            [
             0.7777777777777778,
             "#fb9f3a"
            ],
            [
             0.8888888888888888,
             "#fdca26"
            ],
            [
             1,
             "#f0f921"
            ]
           ],
           "sequentialminus": [
            [
             0,
             "#0d0887"
            ],
            [
             0.1111111111111111,
             "#46039f"
            ],
            [
             0.2222222222222222,
             "#7201a8"
            ],
            [
             0.3333333333333333,
             "#9c179e"
            ],
            [
             0.4444444444444444,
             "#bd3786"
            ],
            [
             0.5555555555555556,
             "#d8576b"
            ],
            [
             0.6666666666666666,
             "#ed7953"
            ],
            [
             0.7777777777777778,
             "#fb9f3a"
            ],
            [
             0.8888888888888888,
             "#fdca26"
            ],
            [
             1,
             "#f0f921"
            ]
           ]
          },
          "colorway": [
           "#636efa",
           "#EF553B",
           "#00cc96",
           "#ab63fa",
           "#FFA15A",
           "#19d3f3",
           "#FF6692",
           "#B6E880",
           "#FF97FF",
           "#FECB52"
          ],
          "font": {
           "color": "#2a3f5f"
          },
          "geo": {
           "bgcolor": "white",
           "lakecolor": "white",
           "landcolor": "#E5ECF6",
           "showlakes": true,
           "showland": true,
           "subunitcolor": "white"
          },
          "hoverlabel": {
           "align": "left"
          },
          "hovermode": "closest",
          "mapbox": {
           "style": "light"
          },
          "paper_bgcolor": "white",
          "plot_bgcolor": "#E5ECF6",
          "polar": {
           "angularaxis": {
            "gridcolor": "white",
            "linecolor": "white",
            "ticks": ""
           },
           "bgcolor": "#E5ECF6",
           "radialaxis": {
            "gridcolor": "white",
            "linecolor": "white",
            "ticks": ""
           }
          },
          "scene": {
           "xaxis": {
            "backgroundcolor": "#E5ECF6",
            "gridcolor": "white",
            "gridwidth": 2,
            "linecolor": "white",
            "showbackground": true,
            "ticks": "",
            "zerolinecolor": "white"
           },
           "yaxis": {
            "backgroundcolor": "#E5ECF6",
            "gridcolor": "white",
            "gridwidth": 2,
            "linecolor": "white",
            "showbackground": true,
            "ticks": "",
            "zerolinecolor": "white"
           },
           "zaxis": {
            "backgroundcolor": "#E5ECF6",
            "gridcolor": "white",
            "gridwidth": 2,
            "linecolor": "white",
            "showbackground": true,
            "ticks": "",
            "zerolinecolor": "white"
           }
          },
          "shapedefaults": {
           "line": {
            "color": "#2a3f5f"
           }
          },
          "ternary": {
           "aaxis": {
            "gridcolor": "white",
            "linecolor": "white",
            "ticks": ""
           },
           "baxis": {
            "gridcolor": "white",
            "linecolor": "white",
            "ticks": ""
           },
           "bgcolor": "#E5ECF6",
           "caxis": {
            "gridcolor": "white",
            "linecolor": "white",
            "ticks": ""
           }
          },
          "title": {
           "x": 0.05
          },
          "xaxis": {
           "automargin": true,
           "gridcolor": "white",
           "linecolor": "white",
           "ticks": "",
           "title": {
            "standoff": 15
           },
           "zerolinecolor": "white",
           "zerolinewidth": 2
          },
          "yaxis": {
           "automargin": true,
           "gridcolor": "white",
           "linecolor": "white",
           "ticks": "",
           "title": {
            "standoff": 15
           },
           "zerolinecolor": "white",
           "zerolinewidth": 2
          }
         }
        },
        "title": {
         "text": "Total Fertility Rate in Italian Regions",
         "x": 0.5
        },
        "width": 1000
       }
      }
     },
     "metadata": {},
     "output_type": "display_data"
    }
   ],
   "source": [
    "project.maps_interactive()"
   ]
  },
  {
   "cell_type": "markdown",
   "metadata": {},
   "source": [
    "Graph 3. The interactive map displays the total fertility rate of italian regions over the years between 1992 and 2021. Two trends can be detected. One relates to an aging population, as the Italian regions exhibiting a high fertility rate decrease over the years. In particular, in 1992 five Italian regions register high fertilities rate above 1.6; then the overall fartility rate decreases over the years, until 2021 when no region exhibit an high fertility rate of 1.6 or higher, and only one presents a fertility rate around the medium value of 1.6. Then a second trend is that of a reversal pattern between the dynamics of the North and the South of the peninsula, as an outcome of its idustrialisation. Indeed, in 1992 the South registers the highest fertility rates, while Central regions have a population of medium fertility and the North - except for Trentino Alto Adige- displays the lowest fertility rates. This pattern evolves towards omologation between the regions in the years between 1992 and 2007. Between 2007 and 2010 teh trend reverses and Central to Northern regions register the highest fertility rates from over 1.4. Then, from 2012 to 2021 almost all regions exhibit low fertility rates around 1.2, except for Sardinia that registers a 1 and Trentino Alto Adige whose value is around 1.5. \n",
    "Overall, throughout out time span, not only omologation happens towards lower values of the fertility rate but also Northern regions' fertility rates grow with respect to those of Southern regions, as a result of their greater industrialisation."
   ]
  },
  {
   "cell_type": "markdown",
   "metadata": {},
   "source": [
    "## Forecasting"
   ]
  },
  {
   "cell_type": "code",
   "execution_count": 25,
   "metadata": {},
   "outputs": [],
   "source": [
    "#we load the data for the population projection\n",
    "pop_projection = pd.read_csv('Population Projection.csv')"
   ]
  },
  {
   "cell_type": "code",
   "execution_count": 26,
   "metadata": {},
   "outputs": [
    {
     "data": {
      "image/png": "[encoded data removed]",
      "text/plain": [
       "<Figure size 640x480 with 1 Axes>"
      ]
     },
     "metadata": {},
     "output_type": "display_data"
    }
   ],
   "source": [
    "# setting up forecast plot\n",
    "ax = pop_projection.plot('Year', 'Median scenario', kind='line', legend=True, title='Population Projection',color='lightsteelblue')\n",
    "\n",
    "# labels:\n",
    "plt.xlabel('Year')\n",
    "plt.ylabel('Population')\n",
    "\n",
    "# Change y-axis to display as real numbers\n",
    "ax.yaxis.set_major_formatter(ticker.FuncFormatter(lambda x, pos: '{:,.0f}'.format(x)))\n",
    "\n",
    "plt.style.use('seaborn-v0_8')\n",
    "\n",
    "# Show plot\n",
    "plt.show()\n"
   ]
  },
  {
   "cell_type": "markdown",
   "metadata": {},
   "source": [
    "Graph 4. The graph reports the forecast median population for the next 60 decades. The forecast confirms the pattern we have been detecting from the real data: Italian population has been aging over the years and thus it is in decline. "
   ]
  },
  {
   "cell_type": "markdown",
   "metadata": {},
   "source": [
    " ## <a id='toc4_'></a>[Conclusion](#toc0_)"
   ]
  },
  {
   "cell_type": "markdown",
   "metadata": {},
   "source": [
    "The research conducted on real data structured at regional level documents the Italian population is aging. Overall, its fertility is in decline and has reversed its pattern between regions, i.e. over the years between 1991 and 2021 Southern regions have registered increasingly lower values, while Northern regions have experienced the reverse pattern. This may be due to Northern regions having experienced industrialisation over the last decades, unlike Southern regions that remain underdeveloped to this day. Altough we may interpret this phenomenon hypothesizing a correlation between industrialization and fertility, we avoid making additional arguments, as these could only be invoked through further analysis. Finally, a forecast of the median age of the population for the next 6o decades is plot. This confirms the aging pattern detected through real data. "
   ]
  }
 ],
 "metadata": {
  "kernelspec": {
   "display_name": "base",
   "language": "python",
   "name": "python3"
  },
  "language_info": {
   "codemirror_mode": {
    "name": "ipython",
    "version": 3
   },
   "file_extension": ".py",
   "mimetype": "text/x-python",
   "name": "python",
   "nbconvert_exporter": "python",
   "pygments_lexer": "ipython3",
   "version": "3.11.7"
  }
 },
 "nbformat": 4,
 "nbformat_minor": 2
}
